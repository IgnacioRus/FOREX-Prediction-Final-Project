{
 "cells": [
  {
   "cell_type": "markdown",
   "metadata": {},
   "source": [
    "# Libraries"
   ]
  },
  {
   "cell_type": "code",
   "execution_count": 602,
   "metadata": {
    "ExecuteTime": {
     "end_time": "2021-05-17T22:08:58.807947Z",
     "start_time": "2021-05-17T22:08:58.802642Z"
    }
   },
   "outputs": [],
   "source": [
    "import pandas as pd\n",
    "import numpy as np\n",
    "import seaborn as sns\n",
    "import matplotlib.pyplot as plt"
   ]
  },
  {
   "cell_type": "markdown",
   "metadata": {
    "heading_collapsed": true
   },
   "source": [
    "# Data Preprocessing"
   ]
  },
  {
   "cell_type": "markdown",
   "metadata": {
    "heading_collapsed": true,
    "hidden": true
   },
   "source": [
    "## Import & First look"
   ]
  },
  {
   "cell_type": "code",
   "execution_count": 603,
   "metadata": {
    "ExecuteTime": {
     "end_time": "2021-05-17T22:08:58.877641Z",
     "start_time": "2021-05-17T22:08:58.846239Z"
    },
    "hidden": true
   },
   "outputs": [
    {
     "data": {
      "text/html": [
       "<div>\n",
       "<style scoped>\n",
       "    .dataframe tbody tr th:only-of-type {\n",
       "        vertical-align: middle;\n",
       "    }\n",
       "\n",
       "    .dataframe tbody tr th {\n",
       "        vertical-align: top;\n",
       "    }\n",
       "\n",
       "    .dataframe thead th {\n",
       "        text-align: right;\n",
       "    }\n",
       "</style>\n",
       "<table border=\"1\" class=\"dataframe\">\n",
       "  <thead>\n",
       "    <tr style=\"text-align: right;\">\n",
       "      <th></th>\n",
       "      <th>Date</th>\n",
       "      <th>Price</th>\n",
       "      <th>Open</th>\n",
       "      <th>High</th>\n",
       "      <th>Low</th>\n",
       "      <th>Change %</th>\n",
       "    </tr>\n",
       "  </thead>\n",
       "  <tbody>\n",
       "    <tr>\n",
       "      <th>0</th>\n",
       "      <td>Jan 01, 2021</td>\n",
       "      <td>1.2212</td>\n",
       "      <td>1.2216</td>\n",
       "      <td>1.2217</td>\n",
       "      <td>1.2210</td>\n",
       "      <td>-0.01</td>\n",
       "    </tr>\n",
       "    <tr>\n",
       "      <th>1</th>\n",
       "      <td>Dec 31, 2020</td>\n",
       "      <td>1.2213</td>\n",
       "      <td>1.2298</td>\n",
       "      <td>1.2310</td>\n",
       "      <td>1.2209</td>\n",
       "      <td>-0.67</td>\n",
       "    </tr>\n",
       "    <tr>\n",
       "      <th>2</th>\n",
       "      <td>Dec 30, 2020</td>\n",
       "      <td>1.2295</td>\n",
       "      <td>1.2248</td>\n",
       "      <td>1.2311</td>\n",
       "      <td>1.2246</td>\n",
       "      <td>0.39</td>\n",
       "    </tr>\n",
       "    <tr>\n",
       "      <th>3</th>\n",
       "      <td>Dec 29, 2020</td>\n",
       "      <td>1.2247</td>\n",
       "      <td>1.2217</td>\n",
       "      <td>1.2276</td>\n",
       "      <td>1.2207</td>\n",
       "      <td>0.27</td>\n",
       "    </tr>\n",
       "    <tr>\n",
       "      <th>4</th>\n",
       "      <td>Dec 28, 2020</td>\n",
       "      <td>1.2214</td>\n",
       "      <td>1.2202</td>\n",
       "      <td>1.2251</td>\n",
       "      <td>1.2181</td>\n",
       "      <td>0.08</td>\n",
       "    </tr>\n",
       "    <tr>\n",
       "      <th>...</th>\n",
       "      <td>...</td>\n",
       "      <td>...</td>\n",
       "      <td>...</td>\n",
       "      <td>...</td>\n",
       "      <td>...</td>\n",
       "      <td>...</td>\n",
       "    </tr>\n",
       "    <tr>\n",
       "      <th>4954</th>\n",
       "      <td>Jan 07, 2002</td>\n",
       "      <td>0.8935</td>\n",
       "      <td>0.8951</td>\n",
       "      <td>0.8998</td>\n",
       "      <td>0.8880</td>\n",
       "      <td>-0.17</td>\n",
       "    </tr>\n",
       "    <tr>\n",
       "      <th>4955</th>\n",
       "      <td>Jan 04, 2002</td>\n",
       "      <td>0.8950</td>\n",
       "      <td>0.8987</td>\n",
       "      <td>0.9003</td>\n",
       "      <td>0.8937</td>\n",
       "      <td>-0.51</td>\n",
       "    </tr>\n",
       "    <tr>\n",
       "      <th>4956</th>\n",
       "      <td>Jan 03, 2002</td>\n",
       "      <td>0.8996</td>\n",
       "      <td>0.9039</td>\n",
       "      <td>0.9062</td>\n",
       "      <td>0.8976</td>\n",
       "      <td>-0.44</td>\n",
       "    </tr>\n",
       "    <tr>\n",
       "      <th>4957</th>\n",
       "      <td>Jan 02, 2002</td>\n",
       "      <td>0.9036</td>\n",
       "      <td>0.8896</td>\n",
       "      <td>0.9069</td>\n",
       "      <td>0.8883</td>\n",
       "      <td>1.59</td>\n",
       "    </tr>\n",
       "    <tr>\n",
       "      <th>4958</th>\n",
       "      <td>Jan 01, 2002</td>\n",
       "      <td>0.8895</td>\n",
       "      <td>0.8909</td>\n",
       "      <td>0.8913</td>\n",
       "      <td>0.8863</td>\n",
       "      <td>-0.16</td>\n",
       "    </tr>\n",
       "  </tbody>\n",
       "</table>\n",
       "<p>4959 rows × 6 columns</p>\n",
       "</div>"
      ],
      "text/plain": [
       "              Date   Price    Open    High     Low  Change %\n",
       "0     Jan 01, 2021  1.2212  1.2216  1.2217  1.2210     -0.01\n",
       "1     Dec 31, 2020  1.2213  1.2298  1.2310  1.2209     -0.67\n",
       "2     Dec 30, 2020  1.2295  1.2248  1.2311  1.2246      0.39\n",
       "3     Dec 29, 2020  1.2247  1.2217  1.2276  1.2207      0.27\n",
       "4     Dec 28, 2020  1.2214  1.2202  1.2251  1.2181      0.08\n",
       "...            ...     ...     ...     ...     ...       ...\n",
       "4954  Jan 07, 2002  0.8935  0.8951  0.8998  0.8880     -0.17\n",
       "4955  Jan 04, 2002  0.8950  0.8987  0.9003  0.8937     -0.51\n",
       "4956  Jan 03, 2002  0.8996  0.9039  0.9062  0.8976     -0.44\n",
       "4957  Jan 02, 2002  0.9036  0.8896  0.9069  0.8883      1.59\n",
       "4958  Jan 01, 2002  0.8895  0.8909  0.8913  0.8863     -0.16\n",
       "\n",
       "[4959 rows x 6 columns]"
      ]
     },
     "execution_count": 603,
     "metadata": {},
     "output_type": "execute_result"
    }
   ],
   "source": [
    "#data0 = pd.read_csv('./EURUSD1440.csv',sep='\\t',names=['time','open','high','low','close','volume'])\n",
    "\n",
    "data = pd.read_csv('../data/EUR_USD Historical Data.csv')\n",
    "changes = [ float(i[:-1]) for i in data['Change %']]\n",
    "data['Change %'] = changes\n",
    "data"
   ]
  },
  {
   "cell_type": "code",
   "execution_count": 604,
   "metadata": {
    "ExecuteTime": {
     "end_time": "2021-05-17T22:09:01.028264Z",
     "start_time": "2021-05-17T22:08:58.882024Z"
    },
    "hidden": true
   },
   "outputs": [
    {
     "data": {
      "text/html": [
       "<div>\n",
       "<style scoped>\n",
       "    .dataframe tbody tr th:only-of-type {\n",
       "        vertical-align: middle;\n",
       "    }\n",
       "\n",
       "    .dataframe tbody tr th {\n",
       "        vertical-align: top;\n",
       "    }\n",
       "\n",
       "    .dataframe thead th {\n",
       "        text-align: right;\n",
       "    }\n",
       "</style>\n",
       "<table border=\"1\" class=\"dataframe\">\n",
       "  <thead>\n",
       "    <tr style=\"text-align: right;\">\n",
       "      <th></th>\n",
       "      <th>Date</th>\n",
       "      <th>Price</th>\n",
       "      <th>Open</th>\n",
       "      <th>High</th>\n",
       "      <th>Low</th>\n",
       "      <th>Change %</th>\n",
       "      <th>Change</th>\n",
       "    </tr>\n",
       "  </thead>\n",
       "  <tbody>\n",
       "    <tr>\n",
       "      <th>0</th>\n",
       "      <td>Jan 01, 2021</td>\n",
       "      <td>1.2212</td>\n",
       "      <td>1.2216</td>\n",
       "      <td>1.2217</td>\n",
       "      <td>1.2210</td>\n",
       "      <td>-0.01</td>\n",
       "      <td>-0.0001</td>\n",
       "    </tr>\n",
       "    <tr>\n",
       "      <th>1</th>\n",
       "      <td>Dec 31, 2020</td>\n",
       "      <td>1.2213</td>\n",
       "      <td>1.2298</td>\n",
       "      <td>1.2310</td>\n",
       "      <td>1.2209</td>\n",
       "      <td>-0.67</td>\n",
       "      <td>-0.0082</td>\n",
       "    </tr>\n",
       "    <tr>\n",
       "      <th>2</th>\n",
       "      <td>Dec 30, 2020</td>\n",
       "      <td>1.2295</td>\n",
       "      <td>1.2248</td>\n",
       "      <td>1.2311</td>\n",
       "      <td>1.2246</td>\n",
       "      <td>0.39</td>\n",
       "      <td>0.0048</td>\n",
       "    </tr>\n",
       "    <tr>\n",
       "      <th>3</th>\n",
       "      <td>Dec 29, 2020</td>\n",
       "      <td>1.2247</td>\n",
       "      <td>1.2217</td>\n",
       "      <td>1.2276</td>\n",
       "      <td>1.2207</td>\n",
       "      <td>0.27</td>\n",
       "      <td>0.0033</td>\n",
       "    </tr>\n",
       "    <tr>\n",
       "      <th>4</th>\n",
       "      <td>Dec 28, 2020</td>\n",
       "      <td>1.2214</td>\n",
       "      <td>1.2202</td>\n",
       "      <td>1.2251</td>\n",
       "      <td>1.2181</td>\n",
       "      <td>0.08</td>\n",
       "      <td>0.0010</td>\n",
       "    </tr>\n",
       "    <tr>\n",
       "      <th>...</th>\n",
       "      <td>...</td>\n",
       "      <td>...</td>\n",
       "      <td>...</td>\n",
       "      <td>...</td>\n",
       "      <td>...</td>\n",
       "      <td>...</td>\n",
       "      <td>...</td>\n",
       "    </tr>\n",
       "    <tr>\n",
       "      <th>4954</th>\n",
       "      <td>Jan 07, 2002</td>\n",
       "      <td>0.8935</td>\n",
       "      <td>0.8951</td>\n",
       "      <td>0.8998</td>\n",
       "      <td>0.8880</td>\n",
       "      <td>-0.17</td>\n",
       "      <td>-0.0015</td>\n",
       "    </tr>\n",
       "    <tr>\n",
       "      <th>4955</th>\n",
       "      <td>Jan 04, 2002</td>\n",
       "      <td>0.8950</td>\n",
       "      <td>0.8987</td>\n",
       "      <td>0.9003</td>\n",
       "      <td>0.8937</td>\n",
       "      <td>-0.51</td>\n",
       "      <td>-0.0046</td>\n",
       "    </tr>\n",
       "    <tr>\n",
       "      <th>4956</th>\n",
       "      <td>Jan 03, 2002</td>\n",
       "      <td>0.8996</td>\n",
       "      <td>0.9039</td>\n",
       "      <td>0.9062</td>\n",
       "      <td>0.8976</td>\n",
       "      <td>-0.44</td>\n",
       "      <td>-0.0040</td>\n",
       "    </tr>\n",
       "    <tr>\n",
       "      <th>4957</th>\n",
       "      <td>Jan 02, 2002</td>\n",
       "      <td>0.9036</td>\n",
       "      <td>0.8896</td>\n",
       "      <td>0.9069</td>\n",
       "      <td>0.8883</td>\n",
       "      <td>1.59</td>\n",
       "      <td>0.0141</td>\n",
       "    </tr>\n",
       "    <tr>\n",
       "      <th>4958</th>\n",
       "      <td>Jan 01, 2002</td>\n",
       "      <td>0.8895</td>\n",
       "      <td>0.8909</td>\n",
       "      <td>0.8913</td>\n",
       "      <td>0.8863</td>\n",
       "      <td>-0.16</td>\n",
       "      <td>0.0000</td>\n",
       "    </tr>\n",
       "  </tbody>\n",
       "</table>\n",
       "<p>4959 rows × 7 columns</p>\n",
       "</div>"
      ],
      "text/plain": [
       "              Date   Price    Open    High     Low  Change %  Change\n",
       "0     Jan 01, 2021  1.2212  1.2216  1.2217  1.2210     -0.01 -0.0001\n",
       "1     Dec 31, 2020  1.2213  1.2298  1.2310  1.2209     -0.67 -0.0082\n",
       "2     Dec 30, 2020  1.2295  1.2248  1.2311  1.2246      0.39  0.0048\n",
       "3     Dec 29, 2020  1.2247  1.2217  1.2276  1.2207      0.27  0.0033\n",
       "4     Dec 28, 2020  1.2214  1.2202  1.2251  1.2181      0.08  0.0010\n",
       "...            ...     ...     ...     ...     ...       ...     ...\n",
       "4954  Jan 07, 2002  0.8935  0.8951  0.8998  0.8880     -0.17 -0.0015\n",
       "4955  Jan 04, 2002  0.8950  0.8987  0.9003  0.8937     -0.51 -0.0046\n",
       "4956  Jan 03, 2002  0.8996  0.9039  0.9062  0.8976     -0.44 -0.0040\n",
       "4957  Jan 02, 2002  0.9036  0.8896  0.9069  0.8883      1.59  0.0141\n",
       "4958  Jan 01, 2002  0.8895  0.8909  0.8913  0.8863     -0.16  0.0000\n",
       "\n",
       "[4959 rows x 7 columns]"
      ]
     },
     "execution_count": 604,
     "metadata": {},
     "output_type": "execute_result"
    }
   ],
   "source": [
    "data['Change'] = 0\n",
    "\n",
    "for i in range(data.shape[0]-1):\n",
    "    data.loc[i,'Change'] = data.loc[i,'Price']-data.loc[i+1,'Price']\n",
    "data"
   ]
  },
  {
   "cell_type": "markdown",
   "metadata": {
    "heading_collapsed": true,
    "hidden": true
   },
   "source": [
    "## Prediction"
   ]
  },
  {
   "cell_type": "code",
   "execution_count": 605,
   "metadata": {
    "ExecuteTime": {
     "end_time": "2021-05-17T22:09:03.453300Z",
     "start_time": "2021-05-17T22:09:01.033972Z"
    },
    "hidden": true
   },
   "outputs": [
    {
     "data": {
      "text/html": [
       "<div>\n",
       "<style scoped>\n",
       "    .dataframe tbody tr th:only-of-type {\n",
       "        vertical-align: middle;\n",
       "    }\n",
       "\n",
       "    .dataframe tbody tr th {\n",
       "        vertical-align: top;\n",
       "    }\n",
       "\n",
       "    .dataframe thead th {\n",
       "        text-align: right;\n",
       "    }\n",
       "</style>\n",
       "<table border=\"1\" class=\"dataframe\">\n",
       "  <thead>\n",
       "    <tr style=\"text-align: right;\">\n",
       "      <th></th>\n",
       "      <th>Date</th>\n",
       "      <th>Price</th>\n",
       "      <th>Open</th>\n",
       "      <th>High</th>\n",
       "      <th>Low</th>\n",
       "      <th>Change %</th>\n",
       "      <th>Change</th>\n",
       "      <th>Y</th>\n",
       "      <th>Y_pos</th>\n",
       "    </tr>\n",
       "  </thead>\n",
       "  <tbody>\n",
       "    <tr>\n",
       "      <th>0</th>\n",
       "      <td>Jan 01, 2021</td>\n",
       "      <td>1.2212</td>\n",
       "      <td>1.2216</td>\n",
       "      <td>1.2217</td>\n",
       "      <td>1.2210</td>\n",
       "      <td>-0.01</td>\n",
       "      <td>-0.0001</td>\n",
       "      <td>0.0000</td>\n",
       "      <td>0</td>\n",
       "    </tr>\n",
       "    <tr>\n",
       "      <th>1</th>\n",
       "      <td>Dec 31, 2020</td>\n",
       "      <td>1.2213</td>\n",
       "      <td>1.2298</td>\n",
       "      <td>1.2310</td>\n",
       "      <td>1.2209</td>\n",
       "      <td>-0.67</td>\n",
       "      <td>-0.0082</td>\n",
       "      <td>-0.0001</td>\n",
       "      <td>0</td>\n",
       "    </tr>\n",
       "    <tr>\n",
       "      <th>2</th>\n",
       "      <td>Dec 30, 2020</td>\n",
       "      <td>1.2295</td>\n",
       "      <td>1.2248</td>\n",
       "      <td>1.2311</td>\n",
       "      <td>1.2246</td>\n",
       "      <td>0.39</td>\n",
       "      <td>0.0048</td>\n",
       "      <td>-0.0082</td>\n",
       "      <td>0</td>\n",
       "    </tr>\n",
       "    <tr>\n",
       "      <th>3</th>\n",
       "      <td>Dec 29, 2020</td>\n",
       "      <td>1.2247</td>\n",
       "      <td>1.2217</td>\n",
       "      <td>1.2276</td>\n",
       "      <td>1.2207</td>\n",
       "      <td>0.27</td>\n",
       "      <td>0.0033</td>\n",
       "      <td>0.0048</td>\n",
       "      <td>1</td>\n",
       "    </tr>\n",
       "    <tr>\n",
       "      <th>4</th>\n",
       "      <td>Dec 28, 2020</td>\n",
       "      <td>1.2214</td>\n",
       "      <td>1.2202</td>\n",
       "      <td>1.2251</td>\n",
       "      <td>1.2181</td>\n",
       "      <td>0.08</td>\n",
       "      <td>0.0010</td>\n",
       "      <td>0.0033</td>\n",
       "      <td>1</td>\n",
       "    </tr>\n",
       "    <tr>\n",
       "      <th>...</th>\n",
       "      <td>...</td>\n",
       "      <td>...</td>\n",
       "      <td>...</td>\n",
       "      <td>...</td>\n",
       "      <td>...</td>\n",
       "      <td>...</td>\n",
       "      <td>...</td>\n",
       "      <td>...</td>\n",
       "      <td>...</td>\n",
       "    </tr>\n",
       "    <tr>\n",
       "      <th>4954</th>\n",
       "      <td>Jan 07, 2002</td>\n",
       "      <td>0.8935</td>\n",
       "      <td>0.8951</td>\n",
       "      <td>0.8998</td>\n",
       "      <td>0.8880</td>\n",
       "      <td>-0.17</td>\n",
       "      <td>-0.0015</td>\n",
       "      <td>-0.0004</td>\n",
       "      <td>0</td>\n",
       "    </tr>\n",
       "    <tr>\n",
       "      <th>4955</th>\n",
       "      <td>Jan 04, 2002</td>\n",
       "      <td>0.8950</td>\n",
       "      <td>0.8987</td>\n",
       "      <td>0.9003</td>\n",
       "      <td>0.8937</td>\n",
       "      <td>-0.51</td>\n",
       "      <td>-0.0046</td>\n",
       "      <td>-0.0015</td>\n",
       "      <td>0</td>\n",
       "    </tr>\n",
       "    <tr>\n",
       "      <th>4956</th>\n",
       "      <td>Jan 03, 2002</td>\n",
       "      <td>0.8996</td>\n",
       "      <td>0.9039</td>\n",
       "      <td>0.9062</td>\n",
       "      <td>0.8976</td>\n",
       "      <td>-0.44</td>\n",
       "      <td>-0.0040</td>\n",
       "      <td>-0.0046</td>\n",
       "      <td>0</td>\n",
       "    </tr>\n",
       "    <tr>\n",
       "      <th>4957</th>\n",
       "      <td>Jan 02, 2002</td>\n",
       "      <td>0.9036</td>\n",
       "      <td>0.8896</td>\n",
       "      <td>0.9069</td>\n",
       "      <td>0.8883</td>\n",
       "      <td>1.59</td>\n",
       "      <td>0.0141</td>\n",
       "      <td>-0.0040</td>\n",
       "      <td>0</td>\n",
       "    </tr>\n",
       "    <tr>\n",
       "      <th>4958</th>\n",
       "      <td>Jan 01, 2002</td>\n",
       "      <td>0.8895</td>\n",
       "      <td>0.8909</td>\n",
       "      <td>0.8913</td>\n",
       "      <td>0.8863</td>\n",
       "      <td>-0.16</td>\n",
       "      <td>0.0000</td>\n",
       "      <td>0.0141</td>\n",
       "      <td>1</td>\n",
       "    </tr>\n",
       "  </tbody>\n",
       "</table>\n",
       "<p>4959 rows × 9 columns</p>\n",
       "</div>"
      ],
      "text/plain": [
       "              Date   Price    Open    High     Low  Change %  Change       Y  \\\n",
       "0     Jan 01, 2021  1.2212  1.2216  1.2217  1.2210     -0.01 -0.0001  0.0000   \n",
       "1     Dec 31, 2020  1.2213  1.2298  1.2310  1.2209     -0.67 -0.0082 -0.0001   \n",
       "2     Dec 30, 2020  1.2295  1.2248  1.2311  1.2246      0.39  0.0048 -0.0082   \n",
       "3     Dec 29, 2020  1.2247  1.2217  1.2276  1.2207      0.27  0.0033  0.0048   \n",
       "4     Dec 28, 2020  1.2214  1.2202  1.2251  1.2181      0.08  0.0010  0.0033   \n",
       "...            ...     ...     ...     ...     ...       ...     ...     ...   \n",
       "4954  Jan 07, 2002  0.8935  0.8951  0.8998  0.8880     -0.17 -0.0015 -0.0004   \n",
       "4955  Jan 04, 2002  0.8950  0.8987  0.9003  0.8937     -0.51 -0.0046 -0.0015   \n",
       "4956  Jan 03, 2002  0.8996  0.9039  0.9062  0.8976     -0.44 -0.0040 -0.0046   \n",
       "4957  Jan 02, 2002  0.9036  0.8896  0.9069  0.8883      1.59  0.0141 -0.0040   \n",
       "4958  Jan 01, 2002  0.8895  0.8909  0.8913  0.8863     -0.16  0.0000  0.0141   \n",
       "\n",
       "      Y_pos  \n",
       "0         0  \n",
       "1         0  \n",
       "2         0  \n",
       "3         1  \n",
       "4         1  \n",
       "...     ...  \n",
       "4954      0  \n",
       "4955      0  \n",
       "4956      0  \n",
       "4957      0  \n",
       "4958      1  \n",
       "\n",
       "[4959 rows x 9 columns]"
      ]
     },
     "execution_count": 605,
     "metadata": {},
     "output_type": "execute_result"
    }
   ],
   "source": [
    "data['Y'] = 0\n",
    "data['Y_pos'] = 0\n",
    "for i in range(1,data.shape[0]):\n",
    "    data.loc[i,'Y'] = data.loc[i-1,'Change']\n",
    "    if data.loc[i,'Y']>0:\n",
    "        data.loc[i,'Y_pos'] = 1\n",
    "data"
   ]
  },
  {
   "cell_type": "markdown",
   "metadata": {
    "ExecuteTime": {
     "end_time": "2021-05-17T15:46:30.001763Z",
     "start_time": "2021-05-17T15:46:29.981187Z"
    },
    "heading_collapsed": true,
    "hidden": true
   },
   "source": [
    "## Date"
   ]
  },
  {
   "cell_type": "code",
   "execution_count": 606,
   "metadata": {
    "ExecuteTime": {
     "end_time": "2021-05-17T22:09:03.484118Z",
     "start_time": "2021-05-17T22:09:03.462042Z"
    },
    "hidden": true
   },
   "outputs": [],
   "source": [
    "data['Date'] = pd.to_datetime(data['Date'], infer_datetime_format=True) "
   ]
  },
  {
   "cell_type": "code",
   "execution_count": 607,
   "metadata": {
    "ExecuteTime": {
     "end_time": "2021-05-17T22:09:03.569923Z",
     "start_time": "2021-05-17T22:09:03.488350Z"
    },
    "hidden": true
   },
   "outputs": [],
   "source": [
    "dates = data['Date']\n",
    "\n",
    "data['year'] = dates.apply(lambda x: x.year)\n",
    "data['month'] = dates.apply(lambda x: x.month)\n",
    "data['day'] = dates.apply(lambda x: x.day)"
   ]
  },
  {
   "cell_type": "markdown",
   "metadata": {
    "heading_collapsed": true,
    "hidden": true
   },
   "source": [
    "## RSI Indicator"
   ]
  },
  {
   "cell_type": "code",
   "execution_count": 608,
   "metadata": {
    "ExecuteTime": {
     "end_time": "2021-05-17T22:09:03.576986Z",
     "start_time": "2021-05-17T22:09:03.572354Z"
    },
    "hidden": true
   },
   "outputs": [],
   "source": [
    "# https://www.tradingheroes.com/rsi-indicator-explained/\n",
    "# J. Welles Wilder in his 1978 book, New Concepts in Technical Trading Systems"
   ]
  },
  {
   "cell_type": "code",
   "execution_count": 609,
   "metadata": {
    "ExecuteTime": {
     "end_time": "2021-05-17T22:09:09.197618Z",
     "start_time": "2021-05-17T22:09:03.585254Z"
    },
    "hidden": true
   },
   "outputs": [],
   "source": [
    "pos = 0\n",
    "neg = 0\n",
    "n = 20\n",
    "rsi_n = 'RSI ' + str(n)\n",
    "negatemp = 0\n",
    "posatemp = 0\n",
    "data[rsi_n] = 0\n",
    "data['RS'] = 0\n",
    "data['UpAvg'] = 0\n",
    "data['DownAvg'] = 0\n",
    "data['Overbought'] = 0\n",
    "data['Oversold'] = 0\n",
    "pos0 = 0\n",
    "neg0 = 0\n",
    "first=data.shape[0]-n   #RSI(20) can only be calculated once we have 20 or more data points\n",
    "\n",
    "for j in list(data.loc[first:,'Change']):   #calculate rsi with the n first data points\n",
    "        \n",
    "        if j>0:\n",
    "            pos0 += j\n",
    "        if j<0:\n",
    "            neg0 += j\n",
    "            \n",
    "nega = np.abs(neg0)/n\n",
    "posa = pos0/n\n",
    "data.loc[first,'UpAvg'] = posa\n",
    "data.loc[first,'DownAvg'] = nega\n",
    "rs = posa/nega #0\n",
    "\n",
    "rsi = 100-(100/(1+rs))\n",
    "data.loc[first,rsi_n] = rsi\n",
    "\n",
    "if rsi > 60:\n",
    "    data.loc[first,'Overbought'] = 1\n",
    "if rsi < 40:\n",
    "    data.loc[first,'Oversold'] = 1\n",
    "\n",
    "for i in list(range(first-1,-1,-1)):    #calculate rsi through iteration\n",
    "    \n",
    "    new_change = data.loc[i,'Change']\n",
    "\n",
    "    if new_change<0:\n",
    "        \n",
    "        nega = (nega*(n-1)+np.abs(new_change))/n\n",
    "        posa = (posa*(n-1))/n\n",
    "    elif new_change>0:\n",
    "        \n",
    "        posa = (posa*(n-1)+new_change)/n\n",
    "        nega = (nega*(n-1))/n\n",
    "    else:\n",
    "        posa = (posa*(n-1))/n\n",
    "        nega = (nega*(n-1))/n\n",
    "    \n",
    "    data.loc[i,'UpAvg'] = posa\n",
    "    data.loc[i,'DownAvg'] = nega\n",
    "    rs = posa/nega\n",
    "    data.loc[i,'RS'] = rs\n",
    "    rsi = 100-(100/(1+rs))\n",
    "    data.loc[i,rsi_n] = rsi\n",
    "    if rsi > 60:\n",
    "        data.loc[i,'Overbought'] = 1\n",
    "    if rsi < 40:\n",
    "        data.loc[i,'Oversold'] = 1"
   ]
  },
  {
   "cell_type": "markdown",
   "metadata": {
    "heading_collapsed": true,
    "hidden": true
   },
   "source": [
    "## MACD Indicator"
   ]
  },
  {
   "cell_type": "code",
   "execution_count": 610,
   "metadata": {
    "ExecuteTime": {
     "end_time": "2021-05-17T22:09:09.204992Z",
     "start_time": "2021-05-17T22:09:09.201210Z"
    },
    "hidden": true
   },
   "outputs": [],
   "source": [
    "# https://www.avatrade.es/educacion/professional-trading-strategies/macd-trading-strategies\n",
    "# MACD = EMA (12) – EMA (26)\n",
    "# (Close−EMA(previous period))*0.1538+EMA(previous period)\n",
    "# Después de obtener el MACD, se calcula, a su vez, su media móvil exponencial.\n",
    "# Para realizar este cálculo se suele emplear una media de 9 períodos. Esta media móvil se denomina Señal."
   ]
  },
  {
   "cell_type": "markdown",
   "metadata": {
    "heading_collapsed": true,
    "hidden": true
   },
   "source": [
    "### MACD"
   ]
  },
  {
   "cell_type": "code",
   "execution_count": 611,
   "metadata": {
    "ExecuteTime": {
     "end_time": "2021-05-17T22:09:13.926315Z",
     "start_time": "2021-05-17T22:09:09.210356Z"
    },
    "hidden": true
   },
   "outputs": [],
   "source": [
    "n1 = 15\n",
    "n2 = 30\n",
    "\n",
    "mult = lambda x: 2/(x+1) \n",
    "\n",
    "data['MACD'] = 0 \n",
    "data['MACD_15'] = 0 \n",
    "data['MACD_30'] = 0\n",
    "\n",
    "for n in [n1,n2]:\n",
    "    \n",
    "    first=data.shape[0]-n   #EMA can only be calculated once we have 20 or more data points\n",
    "    \n",
    "    ema = np.mean(list(data.loc[first:,'Price']))   #calculate sma with the n first data points\n",
    "    tag = 'MACD_'+str(n)\n",
    "    data.loc[first,tag] = ema\n",
    "    if n == n2 :\n",
    "        data.loc[first,'MACD'] = data.loc[first,'MACD_15']-data.loc[first,'MACD_30']\n",
    "    for i in list(range(first-1,-1,-1)):\n",
    "        \n",
    "        new_price = data.loc[i,'Price']\n",
    "        \n",
    "        ema = (new_price-ema)*mult(n)+ema\n",
    "        \n",
    "        data.loc[i,tag] = ema\n",
    "        if n == n2 :\n",
    "            data.loc[i,'MACD'] = data.loc[i,'MACD_15']-data.loc[i,'MACD_30']\n",
    "            \n",
    "#df = data.iloc[::-1].reset_index(drop=True)\n",
    "\n",
    "#exp1 = df.Price.ewm(span=15, adjust=False).mean()\n",
    "#exp2 = df.Price.ewm(span=30, adjust=False).mean()\n",
    "#macd = exp1-exp2\n",
    "#exp3 = macd.ewm(span=10, adjust=False).mean()"
   ]
  },
  {
   "cell_type": "markdown",
   "metadata": {
    "heading_collapsed": true,
    "hidden": true
   },
   "source": [
    "### Signal"
   ]
  },
  {
   "cell_type": "code",
   "execution_count": 612,
   "metadata": {
    "ExecuteTime": {
     "end_time": "2021-05-17T22:09:15.279746Z",
     "start_time": "2021-05-17T22:09:13.928380Z"
    },
    "hidden": true
   },
   "outputs": [],
   "source": [
    "n3 = 10\n",
    "\n",
    "data['Signal'] = 0\n",
    "\n",
    "first=data.shape[0]-n2+1-n3\n",
    "ema_signal = np.mean(list(data.loc[first:first+n3-1,'MACD']))   #calculate sma with the n first data points\n",
    "\n",
    "data.loc[first,'Signal'] = ema_signal\n",
    "\n",
    "for i in list(range(first-1,-1,-1)):\n",
    "    \n",
    "    new_MACD = data.loc[i,'MACD']\n",
    "    \n",
    "    ema_signal = (new_MACD-ema_signal)*mult(n3)+ema_signal\n",
    "    \n",
    "    data.loc[i,'Signal'] = ema_signal\n",
    "    \n",
    "data['MACD - Signal'] = data['MACD'] - data['Signal']"
   ]
  },
  {
   "cell_type": "markdown",
   "metadata": {
    "heading_collapsed": true,
    "hidden": true
   },
   "source": [
    "## ADX Indicator"
   ]
  },
  {
   "cell_type": "code",
   "execution_count": 613,
   "metadata": {
    "ExecuteTime": {
     "end_time": "2021-05-17T22:09:15.287527Z",
     "start_time": "2021-05-17T22:09:15.282074Z"
    },
    "hidden": true
   },
   "outputs": [],
   "source": [
    "# https://blog.quantinsti.com/adx-indicator-python/\n",
    "# https://school.stockcharts.com/doku.php?id=technical_indicators:average_directional_index_adx"
   ]
  },
  {
   "cell_type": "markdown",
   "metadata": {
    "heading_collapsed": true,
    "hidden": true
   },
   "source": [
    "### True Range"
   ]
  },
  {
   "cell_type": "code",
   "execution_count": 614,
   "metadata": {
    "ExecuteTime": {
     "end_time": "2021-05-17T22:09:15.303609Z",
     "start_time": "2021-05-17T22:09:15.292983Z"
    },
    "hidden": true
   },
   "outputs": [],
   "source": [
    "range1 = data['High']-data['Low']\n",
    "range2 = np.abs(data['High']-(data['Price']-data['Change']))\n",
    "range3 = np.abs(data['Low']-(data['Price']-data['Change']))\n",
    "\n",
    "data['TrueRange'] = np.max([range1,range2,range3],axis=0)"
   ]
  },
  {
   "cell_type": "markdown",
   "metadata": {
    "heading_collapsed": true,
    "hidden": true
   },
   "source": [
    "### +/- DM"
   ]
  },
  {
   "cell_type": "code",
   "execution_count": 615,
   "metadata": {
    "ExecuteTime": {
     "end_time": "2021-05-17T22:09:16.728097Z",
     "start_time": "2021-05-17T22:09:15.305874Z"
    },
    "hidden": true
   },
   "outputs": [],
   "source": [
    "data['+DM'] = 0\n",
    "data['-DM'] = 0\n",
    "\n",
    "for i in range(data.shape[0]-1):\n",
    "    pos = data.loc[i,'High']-data.loc[i+1,'High']\n",
    "    neg = data.loc[i+1,'Low']-data.loc[i,'Low']   # NOTICE HOW i and i+1 are reversed for neg\n",
    "    if pos>neg and pos>0:\n",
    "        data.loc[i,'+DM'] = pos\n",
    "    elif pos<neg and neg>0:\n",
    "        data.loc[i,'-DM'] = neg    "
   ]
  },
  {
   "cell_type": "markdown",
   "metadata": {
    "hidden": true
   },
   "source": [
    "### Smoothed values"
   ]
  },
  {
   "cell_type": "markdown",
   "metadata": {
    "heading_collapsed": true,
    "hidden": true
   },
   "source": [
    "#### Averaged True Range"
   ]
  },
  {
   "cell_type": "code",
   "execution_count": 616,
   "metadata": {
    "ExecuteTime": {
     "end_time": "2021-05-17T22:09:18.056912Z",
     "start_time": "2021-05-17T22:09:16.730596Z"
    },
    "hidden": true
   },
   "outputs": [],
   "source": [
    "n = 15\n",
    "\n",
    "data['ATR'] = 0 \n",
    "\n",
    "first=data.shape[0]-n   # can only be calculated once we have 15 or more data points\n",
    "    \n",
    "atr = np.mean(list(data.loc[first:,'TrueRange']))   #calculate with the n first data points\n",
    "data.loc[first,'ATR'] = atr\n",
    "\n",
    "for i in list(range(first-1,-1,-1)):\n",
    "        \n",
    "    new_range = data.loc[i,'TrueRange']\n",
    "        \n",
    "    atr = (atr*(n-1)+new_range)/n\n",
    "        \n",
    "    data.loc[i,'ATR'] = atr\n",
    "    "
   ]
  },
  {
   "cell_type": "markdown",
   "metadata": {
    "heading_collapsed": true,
    "hidden": true
   },
   "source": [
    "#### Smooth +/- DM"
   ]
  },
  {
   "cell_type": "code",
   "execution_count": 617,
   "metadata": {
    "ExecuteTime": {
     "end_time": "2021-05-17T22:09:20.795104Z",
     "start_time": "2021-05-17T22:09:18.059146Z"
    },
    "hidden": true
   },
   "outputs": [],
   "source": [
    "n=15\n",
    "\n",
    "data['Smooth_+DM'] = 0 \n",
    "data['Smooth_-DM'] = 0 \n",
    "\n",
    "first=data.shape[0]-n   #can only be calculated once we have 15 or more data points\n",
    "    \n",
    "pos = np.mean(list(data.loc[first:,'+DM']))   #calculate with the n first data points\n",
    "neg = np.mean(list(data.loc[first:,'-DM']))\n",
    "\n",
    "data.loc[first,'Smooth_+DM'] = pos\n",
    "data.loc[first,'Smooth_-DM'] = neg\n",
    "\n",
    "for i in list(range(first-1,-1,-1)):\n",
    "        \n",
    "    new_neg = data.loc[i,'-DM']\n",
    "    new_pos = data.loc[i,'+DM']\n",
    "        \n",
    "    pos = (pos*(n-1)+new_pos)/n\n",
    "    neg = (neg*(n-1)+new_neg)/n\n",
    "        \n",
    "    data.loc[i,'Smooth_+DM'] = pos\n",
    "    data.loc[i,'Smooth_-DM'] = neg\n"
   ]
  },
  {
   "cell_type": "markdown",
   "metadata": {
    "heading_collapsed": true,
    "hidden": true
   },
   "source": [
    "### IDX"
   ]
  },
  {
   "cell_type": "code",
   "execution_count": 618,
   "metadata": {
    "ExecuteTime": {
     "end_time": "2021-05-17T22:09:22.447659Z",
     "start_time": "2021-05-17T22:09:20.802477Z"
    },
    "hidden": true
   },
   "outputs": [],
   "source": [
    "n=15\n",
    "data['ADX'] = 0 \n",
    "\n",
    "data['+DI'] = (data['Smooth_+DM']/data['ATR'])*100\n",
    "data['-DI'] = (data['Smooth_-DM']/data['ATR'])*100\n",
    "\n",
    "DX = np.abs((data['+DI']-data['-DI'])/(data['+DI']+data['-DI']))*100\n",
    "data['DX'] = DX\n",
    "\n",
    "first=data.shape[0]-n-n+1   #can only be calculated once we have 15 or more data points\n",
    "\n",
    "adx = np.mean(list(data.loc[first:first+n-1,'DX']))\n",
    "\n",
    "data.loc[first,'ADX'] = adx\n",
    "\n",
    "for i in list(range(first-1,-1,-1)):\n",
    "        \n",
    "    new_adx = data.loc[i,'DX']\n",
    "        \n",
    "    adx = (adx*(n-1)+new_adx)/n\n",
    "        \n",
    "    data.loc[i,'ADX'] = adx\n"
   ]
  },
  {
   "cell_type": "markdown",
   "metadata": {
    "heading_collapsed": true,
    "hidden": true
   },
   "source": [
    "## Moving Averages"
   ]
  },
  {
   "cell_type": "markdown",
   "metadata": {
    "heading_collapsed": true,
    "hidden": true
   },
   "source": [
    "### Regular Average (Period = 50)"
   ]
  },
  {
   "cell_type": "code",
   "execution_count": 619,
   "metadata": {
    "ExecuteTime": {
     "end_time": "2021-05-17T22:09:22.456112Z",
     "start_time": "2021-05-17T22:09:22.449863Z"
    },
    "hidden": true
   },
   "outputs": [],
   "source": [
    "df = data.iloc[::-1].reset_index(drop=True)['Price']"
   ]
  },
  {
   "cell_type": "code",
   "execution_count": 620,
   "metadata": {
    "ExecuteTime": {
     "end_time": "2021-05-17T22:09:23.845311Z",
     "start_time": "2021-05-17T22:09:22.460926Z"
    },
    "hidden": true
   },
   "outputs": [],
   "source": [
    "ma50 = df.rolling(50).mean()\n",
    "\n",
    "data['MA_50'] = ma50.iloc[::-1].reset_index(drop=True)\n",
    "\n",
    "data['MA_50_diff'] = 0\n",
    "\n",
    "for i in range(0,data.shape[0]-1):\n",
    "    data.loc[i,'MA_50_diff'] = data.loc[i,'MA_50'] - data.loc[i+1,'MA_50']"
   ]
  },
  {
   "cell_type": "markdown",
   "metadata": {
    "heading_collapsed": true,
    "hidden": true
   },
   "source": [
    "### Regular Average (Period = 100)"
   ]
  },
  {
   "cell_type": "code",
   "execution_count": 621,
   "metadata": {
    "ExecuteTime": {
     "end_time": "2021-05-17T22:09:25.229157Z",
     "start_time": "2021-05-17T22:09:23.852505Z"
    },
    "hidden": true
   },
   "outputs": [],
   "source": [
    "ma100 = df.rolling(100).mean()\n",
    "\n",
    "data['MA_100'] = ma100.iloc[::-1].reset_index(drop=True)\n",
    "\n",
    "data['MA_100_diff'] = 0\n",
    "\n",
    "for i in range(0,data.shape[0]-1):\n",
    "    data.loc[i,'MA_100_diff'] = data.loc[i,'MA_100'] - data.loc[i+1,'MA_100']"
   ]
  },
  {
   "cell_type": "markdown",
   "metadata": {
    "heading_collapsed": true,
    "hidden": true
   },
   "source": [
    "### Exponential Average (Period = 150)"
   ]
  },
  {
   "cell_type": "code",
   "execution_count": 622,
   "metadata": {
    "ExecuteTime": {
     "end_time": "2021-05-17T22:09:26.609229Z",
     "start_time": "2021-05-17T22:09:25.234692Z"
    },
    "hidden": true
   },
   "outputs": [],
   "source": [
    "exp1 = df.ewm(span=150, adjust=False).mean()\n",
    "\n",
    "data['EMA_150'] = exp1.iloc[::-1].reset_index(drop=True)\n",
    "\n",
    "data['EMA_150_diff'] = 0\n",
    "\n",
    "for i in range(0,data.shape[0]-1):\n",
    "    data.loc[i,'EMA_150_diff'] = data.loc[i,'EMA_150'] - data.loc[i+1,'EMA_150']"
   ]
  },
  {
   "cell_type": "markdown",
   "metadata": {
    "heading_collapsed": true,
    "hidden": true
   },
   "source": [
    "## Dropping rows"
   ]
  },
  {
   "cell_type": "code",
   "execution_count": 623,
   "metadata": {
    "ExecuteTime": {
     "end_time": "2021-05-17T22:09:26.623368Z",
     "start_time": "2021-05-17T22:09:26.611235Z"
    },
    "hidden": true
   },
   "outputs": [],
   "source": [
    "data = data.drop(data[data['year']==2002].index)\n",
    "data = data.drop(data[data['year']==2021].index)"
   ]
  },
  {
   "cell_type": "markdown",
   "metadata": {
    "heading_collapsed": true,
    "hidden": true
   },
   "source": [
    "## Dropping columns"
   ]
  },
  {
   "cell_type": "code",
   "execution_count": 624,
   "metadata": {
    "ExecuteTime": {
     "end_time": "2021-05-17T22:09:26.651233Z",
     "start_time": "2021-05-17T22:09:26.625685Z"
    },
    "hidden": true
   },
   "outputs": [],
   "source": [
    "data.drop(columns=['RS','UpAvg','DownAvg'],errors='ignore',inplace=True)\n",
    "data.drop(columns=['MACD_15','MACD_30'],errors='ignore',inplace=True)\n",
    "data.drop(columns=['TrueRange'],errors='ignore',inplace=True)\n",
    "data.drop(columns=['+DM','-DM','DownAvg','+DI','-DI'],errors='ignore',inplace=True)\n",
    "data.drop(columns=['DX','IDX','Smooth_+DM','Smooth_-DM','ATR'],errors='ignore',inplace=True)"
   ]
  },
  {
   "cell_type": "markdown",
   "metadata": {},
   "source": [
    "# Machine Learning"
   ]
  },
  {
   "cell_type": "code",
   "execution_count": 539,
   "metadata": {
    "ExecuteTime": {
     "end_time": "2021-05-17T21:33:36.615742Z",
     "start_time": "2021-05-17T21:33:36.581757Z"
    }
   },
   "outputs": [
    {
     "data": {
      "text/html": [
       "<div>\n",
       "<style scoped>\n",
       "    .dataframe tbody tr th:only-of-type {\n",
       "        vertical-align: middle;\n",
       "    }\n",
       "\n",
       "    .dataframe tbody tr th {\n",
       "        vertical-align: top;\n",
       "    }\n",
       "\n",
       "    .dataframe thead th {\n",
       "        text-align: right;\n",
       "    }\n",
       "</style>\n",
       "<table border=\"1\" class=\"dataframe\">\n",
       "  <thead>\n",
       "    <tr style=\"text-align: right;\">\n",
       "      <th></th>\n",
       "      <th>Date</th>\n",
       "      <th>Price</th>\n",
       "      <th>Open</th>\n",
       "      <th>High</th>\n",
       "      <th>Low</th>\n",
       "      <th>Change %</th>\n",
       "      <th>Change</th>\n",
       "      <th>year</th>\n",
       "      <th>month</th>\n",
       "      <th>day</th>\n",
       "      <th>RSI 20</th>\n",
       "      <th>Overbought</th>\n",
       "      <th>Oversold</th>\n",
       "      <th>MACD</th>\n",
       "      <th>Signal</th>\n",
       "      <th>MACD - Signal</th>\n",
       "      <th>ADX</th>\n",
       "      <th>MA_50</th>\n",
       "      <th>MA_100</th>\n",
       "      <th>EMA_150</th>\n",
       "    </tr>\n",
       "  </thead>\n",
       "  <tbody>\n",
       "    <tr>\n",
       "      <th>1</th>\n",
       "      <td>2020-12-31</td>\n",
       "      <td>1.2213</td>\n",
       "      <td>1.2298</td>\n",
       "      <td>1.2310</td>\n",
       "      <td>1.2209</td>\n",
       "      <td>-0.67</td>\n",
       "      <td>-0.0082</td>\n",
       "      <td>2020</td>\n",
       "      <td>12</td>\n",
       "      <td>31</td>\n",
       "      <td>60.540498</td>\n",
       "      <td>1</td>\n",
       "      <td>0</td>\n",
       "      <td>0.007759</td>\n",
       "      <td>0.008124</td>\n",
       "      <td>-0.000366</td>\n",
       "      <td>27.827335</td>\n",
       "      <td>1.198020</td>\n",
       "      <td>1.188833</td>\n",
       "      <td>1.175449</td>\n",
       "    </tr>\n",
       "    <tr>\n",
       "      <th>2</th>\n",
       "      <td>2020-12-30</td>\n",
       "      <td>1.2295</td>\n",
       "      <td>1.2248</td>\n",
       "      <td>1.2311</td>\n",
       "      <td>1.2246</td>\n",
       "      <td>0.39</td>\n",
       "      <td>0.0048</td>\n",
       "      <td>2020</td>\n",
       "      <td>12</td>\n",
       "      <td>30</td>\n",
       "      <td>68.723630</td>\n",
       "      <td>1</td>\n",
       "      <td>0</td>\n",
       "      <td>0.008145</td>\n",
       "      <td>0.008206</td>\n",
       "      <td>-0.000060</td>\n",
       "      <td>28.174582</td>\n",
       "      <td>1.197226</td>\n",
       "      <td>1.188432</td>\n",
       "      <td>1.174834</td>\n",
       "    </tr>\n",
       "    <tr>\n",
       "      <th>3</th>\n",
       "      <td>2020-12-29</td>\n",
       "      <td>1.2247</td>\n",
       "      <td>1.2217</td>\n",
       "      <td>1.2276</td>\n",
       "      <td>1.2207</td>\n",
       "      <td>0.27</td>\n",
       "      <td>0.0033</td>\n",
       "      <td>2020</td>\n",
       "      <td>12</td>\n",
       "      <td>29</td>\n",
       "      <td>66.181619</td>\n",
       "      <td>1</td>\n",
       "      <td>0</td>\n",
       "      <td>0.007932</td>\n",
       "      <td>0.008219</td>\n",
       "      <td>-0.000288</td>\n",
       "      <td>27.639525</td>\n",
       "      <td>1.196358</td>\n",
       "      <td>1.187919</td>\n",
       "      <td>1.174100</td>\n",
       "    </tr>\n",
       "    <tr>\n",
       "      <th>4</th>\n",
       "      <td>2020-12-28</td>\n",
       "      <td>1.2214</td>\n",
       "      <td>1.2202</td>\n",
       "      <td>1.2251</td>\n",
       "      <td>1.2181</td>\n",
       "      <td>0.08</td>\n",
       "      <td>0.0010</td>\n",
       "      <td>2020</td>\n",
       "      <td>12</td>\n",
       "      <td>28</td>\n",
       "      <td>64.285794</td>\n",
       "      <td>1</td>\n",
       "      <td>0</td>\n",
       "      <td>0.007947</td>\n",
       "      <td>0.008283</td>\n",
       "      <td>-0.000336</td>\n",
       "      <td>27.527296</td>\n",
       "      <td>1.195506</td>\n",
       "      <td>1.187411</td>\n",
       "      <td>1.173421</td>\n",
       "    </tr>\n",
       "    <tr>\n",
       "      <th>5</th>\n",
       "      <td>2020-12-25</td>\n",
       "      <td>1.2204</td>\n",
       "      <td>1.2186</td>\n",
       "      <td>1.2212</td>\n",
       "      <td>1.2165</td>\n",
       "      <td>0.15</td>\n",
       "      <td>0.0018</td>\n",
       "      <td>2020</td>\n",
       "      <td>12</td>\n",
       "      <td>25</td>\n",
       "      <td>63.699977</td>\n",
       "      <td>1</td>\n",
       "      <td>0</td>\n",
       "      <td>0.008131</td>\n",
       "      <td>0.008358</td>\n",
       "      <td>-0.000227</td>\n",
       "      <td>27.769495</td>\n",
       "      <td>1.194610</td>\n",
       "      <td>1.186933</td>\n",
       "      <td>1.172777</td>\n",
       "    </tr>\n",
       "    <tr>\n",
       "      <th>...</th>\n",
       "      <td>...</td>\n",
       "      <td>...</td>\n",
       "      <td>...</td>\n",
       "      <td>...</td>\n",
       "      <td>...</td>\n",
       "      <td>...</td>\n",
       "      <td>...</td>\n",
       "      <td>...</td>\n",
       "      <td>...</td>\n",
       "      <td>...</td>\n",
       "      <td>...</td>\n",
       "      <td>...</td>\n",
       "      <td>...</td>\n",
       "      <td>...</td>\n",
       "      <td>...</td>\n",
       "      <td>...</td>\n",
       "      <td>...</td>\n",
       "      <td>...</td>\n",
       "      <td>...</td>\n",
       "      <td>...</td>\n",
       "    </tr>\n",
       "    <tr>\n",
       "      <th>4693</th>\n",
       "      <td>2003-01-07</td>\n",
       "      <td>1.0416</td>\n",
       "      <td>1.0463</td>\n",
       "      <td>1.0468</td>\n",
       "      <td>1.0394</td>\n",
       "      <td>-0.51</td>\n",
       "      <td>-0.0053</td>\n",
       "      <td>2003</td>\n",
       "      <td>1</td>\n",
       "      <td>7</td>\n",
       "      <td>63.126810</td>\n",
       "      <td>1</td>\n",
       "      <td>0</td>\n",
       "      <td>0.010159</td>\n",
       "      <td>0.009768</td>\n",
       "      <td>0.000391</td>\n",
       "      <td>37.218065</td>\n",
       "      <td>1.014156</td>\n",
       "      <td>0.997367</td>\n",
       "      <td>0.987290</td>\n",
       "    </tr>\n",
       "    <tr>\n",
       "      <th>4694</th>\n",
       "      <td>2003-01-06</td>\n",
       "      <td>1.0469</td>\n",
       "      <td>1.0417</td>\n",
       "      <td>1.0497</td>\n",
       "      <td>1.0414</td>\n",
       "      <td>0.44</td>\n",
       "      <td>0.0046</td>\n",
       "      <td>2003</td>\n",
       "      <td>1</td>\n",
       "      <td>6</td>\n",
       "      <td>67.723733</td>\n",
       "      <td>1</td>\n",
       "      <td>0</td>\n",
       "      <td>0.010522</td>\n",
       "      <td>0.009681</td>\n",
       "      <td>0.000841</td>\n",
       "      <td>38.136438</td>\n",
       "      <td>1.012992</td>\n",
       "      <td>0.996736</td>\n",
       "      <td>0.986561</td>\n",
       "    </tr>\n",
       "    <tr>\n",
       "      <th>4695</th>\n",
       "      <td>2003-01-03</td>\n",
       "      <td>1.0423</td>\n",
       "      <td>1.0359</td>\n",
       "      <td>1.0438</td>\n",
       "      <td>1.0336</td>\n",
       "      <td>0.59</td>\n",
       "      <td>0.0061</td>\n",
       "      <td>2003</td>\n",
       "      <td>1</td>\n",
       "      <td>3</td>\n",
       "      <td>65.661992</td>\n",
       "      <td>1</td>\n",
       "      <td>0</td>\n",
       "      <td>0.010471</td>\n",
       "      <td>0.009494</td>\n",
       "      <td>0.000977</td>\n",
       "      <td>38.776037</td>\n",
       "      <td>1.011750</td>\n",
       "      <td>0.996034</td>\n",
       "      <td>0.985752</td>\n",
       "    </tr>\n",
       "    <tr>\n",
       "      <th>4696</th>\n",
       "      <td>2003-01-02</td>\n",
       "      <td>1.0362</td>\n",
       "      <td>1.0492</td>\n",
       "      <td>1.0498</td>\n",
       "      <td>1.0334</td>\n",
       "      <td>-1.24</td>\n",
       "      <td>-0.0130</td>\n",
       "      <td>2003</td>\n",
       "      <td>1</td>\n",
       "      <td>2</td>\n",
       "      <td>62.656909</td>\n",
       "      <td>1</td>\n",
       "      <td>0</td>\n",
       "      <td>0.010645</td>\n",
       "      <td>0.009277</td>\n",
       "      <td>0.001368</td>\n",
       "      <td>40.065784</td>\n",
       "      <td>1.010420</td>\n",
       "      <td>0.995455</td>\n",
       "      <td>0.984993</td>\n",
       "    </tr>\n",
       "    <tr>\n",
       "      <th>4697</th>\n",
       "      <td>2003-01-01</td>\n",
       "      <td>1.0492</td>\n",
       "      <td>1.0494</td>\n",
       "      <td>1.0502</td>\n",
       "      <td>1.0492</td>\n",
       "      <td>-0.09</td>\n",
       "      <td>-0.0009</td>\n",
       "      <td>2003</td>\n",
       "      <td>1</td>\n",
       "      <td>1</td>\n",
       "      <td>76.149134</td>\n",
       "      <td>1</td>\n",
       "      <td>0</td>\n",
       "      <td>0.011204</td>\n",
       "      <td>0.008973</td>\n",
       "      <td>0.002231</td>\n",
       "      <td>41.447655</td>\n",
       "      <td>1.009254</td>\n",
       "      <td>0.994911</td>\n",
       "      <td>0.984305</td>\n",
       "    </tr>\n",
       "  </tbody>\n",
       "</table>\n",
       "<p>4697 rows × 20 columns</p>\n",
       "</div>"
      ],
      "text/plain": [
       "           Date   Price    Open    High     Low  Change %  Change  year  \\\n",
       "1    2020-12-31  1.2213  1.2298  1.2310  1.2209     -0.67 -0.0082  2020   \n",
       "2    2020-12-30  1.2295  1.2248  1.2311  1.2246      0.39  0.0048  2020   \n",
       "3    2020-12-29  1.2247  1.2217  1.2276  1.2207      0.27  0.0033  2020   \n",
       "4    2020-12-28  1.2214  1.2202  1.2251  1.2181      0.08  0.0010  2020   \n",
       "5    2020-12-25  1.2204  1.2186  1.2212  1.2165      0.15  0.0018  2020   \n",
       "...         ...     ...     ...     ...     ...       ...     ...   ...   \n",
       "4693 2003-01-07  1.0416  1.0463  1.0468  1.0394     -0.51 -0.0053  2003   \n",
       "4694 2003-01-06  1.0469  1.0417  1.0497  1.0414      0.44  0.0046  2003   \n",
       "4695 2003-01-03  1.0423  1.0359  1.0438  1.0336      0.59  0.0061  2003   \n",
       "4696 2003-01-02  1.0362  1.0492  1.0498  1.0334     -1.24 -0.0130  2003   \n",
       "4697 2003-01-01  1.0492  1.0494  1.0502  1.0492     -0.09 -0.0009  2003   \n",
       "\n",
       "      month  day     RSI 20  Overbought  Oversold      MACD    Signal  \\\n",
       "1        12   31  60.540498           1         0  0.007759  0.008124   \n",
       "2        12   30  68.723630           1         0  0.008145  0.008206   \n",
       "3        12   29  66.181619           1         0  0.007932  0.008219   \n",
       "4        12   28  64.285794           1         0  0.007947  0.008283   \n",
       "5        12   25  63.699977           1         0  0.008131  0.008358   \n",
       "...     ...  ...        ...         ...       ...       ...       ...   \n",
       "4693      1    7  63.126810           1         0  0.010159  0.009768   \n",
       "4694      1    6  67.723733           1         0  0.010522  0.009681   \n",
       "4695      1    3  65.661992           1         0  0.010471  0.009494   \n",
       "4696      1    2  62.656909           1         0  0.010645  0.009277   \n",
       "4697      1    1  76.149134           1         0  0.011204  0.008973   \n",
       "\n",
       "      MACD - Signal        ADX     MA_50    MA_100   EMA_150  \n",
       "1         -0.000366  27.827335  1.198020  1.188833  1.175449  \n",
       "2         -0.000060  28.174582  1.197226  1.188432  1.174834  \n",
       "3         -0.000288  27.639525  1.196358  1.187919  1.174100  \n",
       "4         -0.000336  27.527296  1.195506  1.187411  1.173421  \n",
       "5         -0.000227  27.769495  1.194610  1.186933  1.172777  \n",
       "...             ...        ...       ...       ...       ...  \n",
       "4693       0.000391  37.218065  1.014156  0.997367  0.987290  \n",
       "4694       0.000841  38.136438  1.012992  0.996736  0.986561  \n",
       "4695       0.000977  38.776037  1.011750  0.996034  0.985752  \n",
       "4696       0.001368  40.065784  1.010420  0.995455  0.984993  \n",
       "4697       0.002231  41.447655  1.009254  0.994911  0.984305  \n",
       "\n",
       "[4697 rows x 20 columns]"
      ]
     },
     "execution_count": 539,
     "metadata": {},
     "output_type": "execute_result"
    }
   ],
   "source": [
    "data"
   ]
  },
  {
   "cell_type": "code",
   "execution_count": 626,
   "metadata": {
    "ExecuteTime": {
     "end_time": "2021-05-17T22:13:58.183641Z",
     "start_time": "2021-05-17T22:13:53.536239Z"
    }
   },
   "outputs": [
    {
     "data": {
      "text/plain": [
       "<AxesSubplot:>"
      ]
     },
     "execution_count": 626,
     "metadata": {},
     "output_type": "execute_result"
    },
    {
     "data": {
      "image/png": "[encoded data removed]",
      "text/plain": [
       "<Figure size 1296x936 with 2 Axes>"
      ]
     },
     "metadata": {
      "needs_background": "light"
     },
     "output_type": "display_data"
    }
   ],
   "source": [
    "f, ax = plt.subplots(figsize=(18, 13))\n",
    "sns.heatmap(data.corr(),annot=True,vmin=-1, vmax=1)"
   ]
  }
 ],
 "metadata": {
  "kernelspec": {
   "display_name": "Python 3",
   "language": "python",
   "name": "python3"
  },
  "language_info": {
   "codemirror_mode": {
    "name": "ipython",
    "version": 3
   },
   "file_extension": ".py",
   "mimetype": "text/x-python",
   "name": "python",
   "nbconvert_exporter": "python",
   "pygments_lexer": "ipython3",
   "version": "3.8.5"
  },
  "latex_envs": {
   "LaTeX_envs_menu_present": true,
   "autoclose": false,
   "autocomplete": true,
   "bibliofile": "biblio.bib",
   "cite_by": "apalike",
   "current_citInitial": 1,
   "eqLabelWithNumbers": true,
   "eqNumInitial": 1,
   "hotkeys": {
    "equation": "Ctrl-E",
    "itemize": "Ctrl-I"
   },
   "labels_anchors": false,
   "latex_user_defs": false,
   "report_style_numbering": false,
   "user_envs_cfg": false
  },
  "varInspector": {
   "cols": {
    "lenName": 16,
    "lenType": 16,
    "lenVar": 40
   },
   "kernels_config": {
    "python": {
     "delete_cmd_postfix": "",
     "delete_cmd_prefix": "del ",
     "library": "var_list.py",
     "varRefreshCmd": "print(var_dic_list())"
    },
    "r": {
     "delete_cmd_postfix": ") ",
     "delete_cmd_prefix": "rm(",
     "library": "var_list.r",
     "varRefreshCmd": "cat(var_dic_list()) "
    }
   },
   "types_to_exclude": [
    "module",
    "function",
    "builtin_function_or_method",
    "instance",
    "_Feature"
   ],
   "window_display": false
  }
 },
 "nbformat": 4,
 "nbformat_minor": 4
}
