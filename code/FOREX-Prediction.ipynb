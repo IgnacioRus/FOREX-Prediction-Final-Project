{
 "cells": [
  {
   "cell_type": "markdown",
   "metadata": {
    "heading_collapsed": true
   },
   "source": [
    "# Libraries"
   ]
  },
  {
   "cell_type": "code",
   "execution_count": 1012,
   "metadata": {
    "ExecuteTime": {
     "end_time": "2021-05-19T16:03:46.176069Z",
     "start_time": "2021-05-19T16:03:46.146568Z"
    },
    "hidden": true
   },
   "outputs": [],
   "source": [
    "import pandas as pd\n",
    "import numpy as np\n",
    "import seaborn as sns\n",
    "import matplotlib.pyplot as plt\n",
    "from sklearn.model_selection import cross_val_score\n",
    "from sklearn.model_selection import RepeatedStratifiedKFold, RepeatedKFold\n",
    "from sklearn.ensemble import GradientBoostingClassifier as GBC, GradientBoostingRegressor as GBR\n",
    "from sklearn.model_selection import train_test_split as tts\n",
    "from sklearn.preprocessing import StandardScaler, RobustScaler\n",
    "from sklearn.model_selection import GridSearchCV\n",
    "from sklearn.metrics import cohen_kappa_score\n",
    "from sklearn.feature_selection import RFE\n",
    "from sklearn.metrics import accuracy_score\n",
    "from sklearn.preprocessing import PolynomialFeatures as PF\n",
    "from sklearn.metrics import mean_squared_error, mean_absolute_error, r2_score"
   ]
  },
  {
   "cell_type": "markdown",
   "metadata": {
    "heading_collapsed": true
   },
   "source": [
    "# Data Preprocessing"
   ]
  },
  {
   "cell_type": "markdown",
   "metadata": {
    "heading_collapsed": true,
    "hidden": true
   },
   "source": [
    "## Import & First look"
   ]
  },
  {
   "cell_type": "code",
   "execution_count": 663,
   "metadata": {
    "ExecuteTime": {
     "end_time": "2021-05-18T12:22:11.681154Z",
     "start_time": "2021-05-18T12:22:11.598249Z"
    },
    "hidden": true
   },
   "outputs": [
    {
     "data": {
      "text/html": [
       "<div>\n",
       "<style scoped>\n",
       "    .dataframe tbody tr th:only-of-type {\n",
       "        vertical-align: middle;\n",
       "    }\n",
       "\n",
       "    .dataframe tbody tr th {\n",
       "        vertical-align: top;\n",
       "    }\n",
       "\n",
       "    .dataframe thead th {\n",
       "        text-align: right;\n",
       "    }\n",
       "</style>\n",
       "<table border=\"1\" class=\"dataframe\">\n",
       "  <thead>\n",
       "    <tr style=\"text-align: right;\">\n",
       "      <th></th>\n",
       "      <th>Date</th>\n",
       "      <th>Price</th>\n",
       "      <th>Open</th>\n",
       "      <th>High</th>\n",
       "      <th>Low</th>\n",
       "      <th>Change %</th>\n",
       "    </tr>\n",
       "  </thead>\n",
       "  <tbody>\n",
       "    <tr>\n",
       "      <th>0</th>\n",
       "      <td>Jan 01, 2021</td>\n",
       "      <td>1.2212</td>\n",
       "      <td>1.2216</td>\n",
       "      <td>1.2217</td>\n",
       "      <td>1.2210</td>\n",
       "      <td>-0.01</td>\n",
       "    </tr>\n",
       "    <tr>\n",
       "      <th>1</th>\n",
       "      <td>Dec 31, 2020</td>\n",
       "      <td>1.2213</td>\n",
       "      <td>1.2298</td>\n",
       "      <td>1.2310</td>\n",
       "      <td>1.2209</td>\n",
       "      <td>-0.67</td>\n",
       "    </tr>\n",
       "    <tr>\n",
       "      <th>2</th>\n",
       "      <td>Dec 30, 2020</td>\n",
       "      <td>1.2295</td>\n",
       "      <td>1.2248</td>\n",
       "      <td>1.2311</td>\n",
       "      <td>1.2246</td>\n",
       "      <td>0.39</td>\n",
       "    </tr>\n",
       "    <tr>\n",
       "      <th>3</th>\n",
       "      <td>Dec 29, 2020</td>\n",
       "      <td>1.2247</td>\n",
       "      <td>1.2217</td>\n",
       "      <td>1.2276</td>\n",
       "      <td>1.2207</td>\n",
       "      <td>0.27</td>\n",
       "    </tr>\n",
       "    <tr>\n",
       "      <th>4</th>\n",
       "      <td>Dec 28, 2020</td>\n",
       "      <td>1.2214</td>\n",
       "      <td>1.2202</td>\n",
       "      <td>1.2251</td>\n",
       "      <td>1.2181</td>\n",
       "      <td>0.08</td>\n",
       "    </tr>\n",
       "    <tr>\n",
       "      <th>...</th>\n",
       "      <td>...</td>\n",
       "      <td>...</td>\n",
       "      <td>...</td>\n",
       "      <td>...</td>\n",
       "      <td>...</td>\n",
       "      <td>...</td>\n",
       "    </tr>\n",
       "    <tr>\n",
       "      <th>4954</th>\n",
       "      <td>Jan 07, 2002</td>\n",
       "      <td>0.8935</td>\n",
       "      <td>0.8951</td>\n",
       "      <td>0.8998</td>\n",
       "      <td>0.8880</td>\n",
       "      <td>-0.17</td>\n",
       "    </tr>\n",
       "    <tr>\n",
       "      <th>4955</th>\n",
       "      <td>Jan 04, 2002</td>\n",
       "      <td>0.8950</td>\n",
       "      <td>0.8987</td>\n",
       "      <td>0.9003</td>\n",
       "      <td>0.8937</td>\n",
       "      <td>-0.51</td>\n",
       "    </tr>\n",
       "    <tr>\n",
       "      <th>4956</th>\n",
       "      <td>Jan 03, 2002</td>\n",
       "      <td>0.8996</td>\n",
       "      <td>0.9039</td>\n",
       "      <td>0.9062</td>\n",
       "      <td>0.8976</td>\n",
       "      <td>-0.44</td>\n",
       "    </tr>\n",
       "    <tr>\n",
       "      <th>4957</th>\n",
       "      <td>Jan 02, 2002</td>\n",
       "      <td>0.9036</td>\n",
       "      <td>0.8896</td>\n",
       "      <td>0.9069</td>\n",
       "      <td>0.8883</td>\n",
       "      <td>1.59</td>\n",
       "    </tr>\n",
       "    <tr>\n",
       "      <th>4958</th>\n",
       "      <td>Jan 01, 2002</td>\n",
       "      <td>0.8895</td>\n",
       "      <td>0.8909</td>\n",
       "      <td>0.8913</td>\n",
       "      <td>0.8863</td>\n",
       "      <td>-0.16</td>\n",
       "    </tr>\n",
       "  </tbody>\n",
       "</table>\n",
       "<p>4959 rows × 6 columns</p>\n",
       "</div>"
      ],
      "text/plain": [
       "              Date   Price    Open    High     Low  Change %\n",
       "0     Jan 01, 2021  1.2212  1.2216  1.2217  1.2210     -0.01\n",
       "1     Dec 31, 2020  1.2213  1.2298  1.2310  1.2209     -0.67\n",
       "2     Dec 30, 2020  1.2295  1.2248  1.2311  1.2246      0.39\n",
       "3     Dec 29, 2020  1.2247  1.2217  1.2276  1.2207      0.27\n",
       "4     Dec 28, 2020  1.2214  1.2202  1.2251  1.2181      0.08\n",
       "...            ...     ...     ...     ...     ...       ...\n",
       "4954  Jan 07, 2002  0.8935  0.8951  0.8998  0.8880     -0.17\n",
       "4955  Jan 04, 2002  0.8950  0.8987  0.9003  0.8937     -0.51\n",
       "4956  Jan 03, 2002  0.8996  0.9039  0.9062  0.8976     -0.44\n",
       "4957  Jan 02, 2002  0.9036  0.8896  0.9069  0.8883      1.59\n",
       "4958  Jan 01, 2002  0.8895  0.8909  0.8913  0.8863     -0.16\n",
       "\n",
       "[4959 rows x 6 columns]"
      ]
     },
     "execution_count": 663,
     "metadata": {},
     "output_type": "execute_result"
    }
   ],
   "source": [
    "#data0 = pd.read_csv('./EURUSD1440.csv',sep='\\t',names=['time','open','high','low','close','volume'])\n",
    "\n",
    "data = pd.read_csv('../data/EUR_USD Historical Data.csv')\n",
    "changes = [ float(i[:-1]) for i in data['Change %']]\n",
    "data['Change %'] = changes\n",
    "data"
   ]
  },
  {
   "cell_type": "code",
   "execution_count": 664,
   "metadata": {
    "ExecuteTime": {
     "end_time": "2021-05-18T12:22:14.257118Z",
     "start_time": "2021-05-18T12:22:11.684426Z"
    },
    "hidden": true
   },
   "outputs": [
    {
     "data": {
      "text/html": [
       "<div>\n",
       "<style scoped>\n",
       "    .dataframe tbody tr th:only-of-type {\n",
       "        vertical-align: middle;\n",
       "    }\n",
       "\n",
       "    .dataframe tbody tr th {\n",
       "        vertical-align: top;\n",
       "    }\n",
       "\n",
       "    .dataframe thead th {\n",
       "        text-align: right;\n",
       "    }\n",
       "</style>\n",
       "<table border=\"1\" class=\"dataframe\">\n",
       "  <thead>\n",
       "    <tr style=\"text-align: right;\">\n",
       "      <th></th>\n",
       "      <th>Date</th>\n",
       "      <th>Price</th>\n",
       "      <th>Open</th>\n",
       "      <th>High</th>\n",
       "      <th>Low</th>\n",
       "      <th>Change %</th>\n",
       "      <th>Change</th>\n",
       "    </tr>\n",
       "  </thead>\n",
       "  <tbody>\n",
       "    <tr>\n",
       "      <th>0</th>\n",
       "      <td>Jan 01, 2021</td>\n",
       "      <td>1.2212</td>\n",
       "      <td>1.2216</td>\n",
       "      <td>1.2217</td>\n",
       "      <td>1.2210</td>\n",
       "      <td>-0.01</td>\n",
       "      <td>-0.0001</td>\n",
       "    </tr>\n",
       "    <tr>\n",
       "      <th>1</th>\n",
       "      <td>Dec 31, 2020</td>\n",
       "      <td>1.2213</td>\n",
       "      <td>1.2298</td>\n",
       "      <td>1.2310</td>\n",
       "      <td>1.2209</td>\n",
       "      <td>-0.67</td>\n",
       "      <td>-0.0082</td>\n",
       "    </tr>\n",
       "    <tr>\n",
       "      <th>2</th>\n",
       "      <td>Dec 30, 2020</td>\n",
       "      <td>1.2295</td>\n",
       "      <td>1.2248</td>\n",
       "      <td>1.2311</td>\n",
       "      <td>1.2246</td>\n",
       "      <td>0.39</td>\n",
       "      <td>0.0048</td>\n",
       "    </tr>\n",
       "    <tr>\n",
       "      <th>3</th>\n",
       "      <td>Dec 29, 2020</td>\n",
       "      <td>1.2247</td>\n",
       "      <td>1.2217</td>\n",
       "      <td>1.2276</td>\n",
       "      <td>1.2207</td>\n",
       "      <td>0.27</td>\n",
       "      <td>0.0033</td>\n",
       "    </tr>\n",
       "    <tr>\n",
       "      <th>4</th>\n",
       "      <td>Dec 28, 2020</td>\n",
       "      <td>1.2214</td>\n",
       "      <td>1.2202</td>\n",
       "      <td>1.2251</td>\n",
       "      <td>1.2181</td>\n",
       "      <td>0.08</td>\n",
       "      <td>0.0010</td>\n",
       "    </tr>\n",
       "    <tr>\n",
       "      <th>...</th>\n",
       "      <td>...</td>\n",
       "      <td>...</td>\n",
       "      <td>...</td>\n",
       "      <td>...</td>\n",
       "      <td>...</td>\n",
       "      <td>...</td>\n",
       "      <td>...</td>\n",
       "    </tr>\n",
       "    <tr>\n",
       "      <th>4954</th>\n",
       "      <td>Jan 07, 2002</td>\n",
       "      <td>0.8935</td>\n",
       "      <td>0.8951</td>\n",
       "      <td>0.8998</td>\n",
       "      <td>0.8880</td>\n",
       "      <td>-0.17</td>\n",
       "      <td>-0.0015</td>\n",
       "    </tr>\n",
       "    <tr>\n",
       "      <th>4955</th>\n",
       "      <td>Jan 04, 2002</td>\n",
       "      <td>0.8950</td>\n",
       "      <td>0.8987</td>\n",
       "      <td>0.9003</td>\n",
       "      <td>0.8937</td>\n",
       "      <td>-0.51</td>\n",
       "      <td>-0.0046</td>\n",
       "    </tr>\n",
       "    <tr>\n",
       "      <th>4956</th>\n",
       "      <td>Jan 03, 2002</td>\n",
       "      <td>0.8996</td>\n",
       "      <td>0.9039</td>\n",
       "      <td>0.9062</td>\n",
       "      <td>0.8976</td>\n",
       "      <td>-0.44</td>\n",
       "      <td>-0.0040</td>\n",
       "    </tr>\n",
       "    <tr>\n",
       "      <th>4957</th>\n",
       "      <td>Jan 02, 2002</td>\n",
       "      <td>0.9036</td>\n",
       "      <td>0.8896</td>\n",
       "      <td>0.9069</td>\n",
       "      <td>0.8883</td>\n",
       "      <td>1.59</td>\n",
       "      <td>0.0141</td>\n",
       "    </tr>\n",
       "    <tr>\n",
       "      <th>4958</th>\n",
       "      <td>Jan 01, 2002</td>\n",
       "      <td>0.8895</td>\n",
       "      <td>0.8909</td>\n",
       "      <td>0.8913</td>\n",
       "      <td>0.8863</td>\n",
       "      <td>-0.16</td>\n",
       "      <td>0.0000</td>\n",
       "    </tr>\n",
       "  </tbody>\n",
       "</table>\n",
       "<p>4959 rows × 7 columns</p>\n",
       "</div>"
      ],
      "text/plain": [
       "              Date   Price    Open    High     Low  Change %  Change\n",
       "0     Jan 01, 2021  1.2212  1.2216  1.2217  1.2210     -0.01 -0.0001\n",
       "1     Dec 31, 2020  1.2213  1.2298  1.2310  1.2209     -0.67 -0.0082\n",
       "2     Dec 30, 2020  1.2295  1.2248  1.2311  1.2246      0.39  0.0048\n",
       "3     Dec 29, 2020  1.2247  1.2217  1.2276  1.2207      0.27  0.0033\n",
       "4     Dec 28, 2020  1.2214  1.2202  1.2251  1.2181      0.08  0.0010\n",
       "...            ...     ...     ...     ...     ...       ...     ...\n",
       "4954  Jan 07, 2002  0.8935  0.8951  0.8998  0.8880     -0.17 -0.0015\n",
       "4955  Jan 04, 2002  0.8950  0.8987  0.9003  0.8937     -0.51 -0.0046\n",
       "4956  Jan 03, 2002  0.8996  0.9039  0.9062  0.8976     -0.44 -0.0040\n",
       "4957  Jan 02, 2002  0.9036  0.8896  0.9069  0.8883      1.59  0.0141\n",
       "4958  Jan 01, 2002  0.8895  0.8909  0.8913  0.8863     -0.16  0.0000\n",
       "\n",
       "[4959 rows x 7 columns]"
      ]
     },
     "execution_count": 664,
     "metadata": {},
     "output_type": "execute_result"
    }
   ],
   "source": [
    "data['Change'] = 0\n",
    "\n",
    "for i in range(data.shape[0]-1):\n",
    "    data.loc[i,'Change'] = data.loc[i,'Price']-data.loc[i+1,'Price']\n",
    "data"
   ]
  },
  {
   "cell_type": "markdown",
   "metadata": {
    "heading_collapsed": true,
    "hidden": true
   },
   "source": [
    "## Prediction"
   ]
  },
  {
   "cell_type": "code",
   "execution_count": 665,
   "metadata": {
    "ExecuteTime": {
     "end_time": "2021-05-18T12:22:20.180938Z",
     "start_time": "2021-05-18T12:22:14.263426Z"
    },
    "hidden": true
   },
   "outputs": [
    {
     "data": {
      "text/html": [
       "<div>\n",
       "<style scoped>\n",
       "    .dataframe tbody tr th:only-of-type {\n",
       "        vertical-align: middle;\n",
       "    }\n",
       "\n",
       "    .dataframe tbody tr th {\n",
       "        vertical-align: top;\n",
       "    }\n",
       "\n",
       "    .dataframe thead th {\n",
       "        text-align: right;\n",
       "    }\n",
       "</style>\n",
       "<table border=\"1\" class=\"dataframe\">\n",
       "  <thead>\n",
       "    <tr style=\"text-align: right;\">\n",
       "      <th></th>\n",
       "      <th>Date</th>\n",
       "      <th>Price</th>\n",
       "      <th>Open</th>\n",
       "      <th>High</th>\n",
       "      <th>Low</th>\n",
       "      <th>Change %</th>\n",
       "      <th>Change</th>\n",
       "      <th>Y</th>\n",
       "      <th>Y_pos</th>\n",
       "    </tr>\n",
       "  </thead>\n",
       "  <tbody>\n",
       "    <tr>\n",
       "      <th>0</th>\n",
       "      <td>Jan 01, 2021</td>\n",
       "      <td>1.2212</td>\n",
       "      <td>1.2216</td>\n",
       "      <td>1.2217</td>\n",
       "      <td>1.2210</td>\n",
       "      <td>-0.01</td>\n",
       "      <td>-0.0001</td>\n",
       "      <td>0.0000</td>\n",
       "      <td>0</td>\n",
       "    </tr>\n",
       "    <tr>\n",
       "      <th>1</th>\n",
       "      <td>Dec 31, 2020</td>\n",
       "      <td>1.2213</td>\n",
       "      <td>1.2298</td>\n",
       "      <td>1.2310</td>\n",
       "      <td>1.2209</td>\n",
       "      <td>-0.67</td>\n",
       "      <td>-0.0082</td>\n",
       "      <td>-0.0001</td>\n",
       "      <td>0</td>\n",
       "    </tr>\n",
       "    <tr>\n",
       "      <th>2</th>\n",
       "      <td>Dec 30, 2020</td>\n",
       "      <td>1.2295</td>\n",
       "      <td>1.2248</td>\n",
       "      <td>1.2311</td>\n",
       "      <td>1.2246</td>\n",
       "      <td>0.39</td>\n",
       "      <td>0.0048</td>\n",
       "      <td>-0.0082</td>\n",
       "      <td>0</td>\n",
       "    </tr>\n",
       "    <tr>\n",
       "      <th>3</th>\n",
       "      <td>Dec 29, 2020</td>\n",
       "      <td>1.2247</td>\n",
       "      <td>1.2217</td>\n",
       "      <td>1.2276</td>\n",
       "      <td>1.2207</td>\n",
       "      <td>0.27</td>\n",
       "      <td>0.0033</td>\n",
       "      <td>0.0048</td>\n",
       "      <td>1</td>\n",
       "    </tr>\n",
       "    <tr>\n",
       "      <th>4</th>\n",
       "      <td>Dec 28, 2020</td>\n",
       "      <td>1.2214</td>\n",
       "      <td>1.2202</td>\n",
       "      <td>1.2251</td>\n",
       "      <td>1.2181</td>\n",
       "      <td>0.08</td>\n",
       "      <td>0.0010</td>\n",
       "      <td>0.0033</td>\n",
       "      <td>1</td>\n",
       "    </tr>\n",
       "    <tr>\n",
       "      <th>...</th>\n",
       "      <td>...</td>\n",
       "      <td>...</td>\n",
       "      <td>...</td>\n",
       "      <td>...</td>\n",
       "      <td>...</td>\n",
       "      <td>...</td>\n",
       "      <td>...</td>\n",
       "      <td>...</td>\n",
       "      <td>...</td>\n",
       "    </tr>\n",
       "    <tr>\n",
       "      <th>4954</th>\n",
       "      <td>Jan 07, 2002</td>\n",
       "      <td>0.8935</td>\n",
       "      <td>0.8951</td>\n",
       "      <td>0.8998</td>\n",
       "      <td>0.8880</td>\n",
       "      <td>-0.17</td>\n",
       "      <td>-0.0015</td>\n",
       "      <td>-0.0004</td>\n",
       "      <td>0</td>\n",
       "    </tr>\n",
       "    <tr>\n",
       "      <th>4955</th>\n",
       "      <td>Jan 04, 2002</td>\n",
       "      <td>0.8950</td>\n",
       "      <td>0.8987</td>\n",
       "      <td>0.9003</td>\n",
       "      <td>0.8937</td>\n",
       "      <td>-0.51</td>\n",
       "      <td>-0.0046</td>\n",
       "      <td>-0.0015</td>\n",
       "      <td>0</td>\n",
       "    </tr>\n",
       "    <tr>\n",
       "      <th>4956</th>\n",
       "      <td>Jan 03, 2002</td>\n",
       "      <td>0.8996</td>\n",
       "      <td>0.9039</td>\n",
       "      <td>0.9062</td>\n",
       "      <td>0.8976</td>\n",
       "      <td>-0.44</td>\n",
       "      <td>-0.0040</td>\n",
       "      <td>-0.0046</td>\n",
       "      <td>0</td>\n",
       "    </tr>\n",
       "    <tr>\n",
       "      <th>4957</th>\n",
       "      <td>Jan 02, 2002</td>\n",
       "      <td>0.9036</td>\n",
       "      <td>0.8896</td>\n",
       "      <td>0.9069</td>\n",
       "      <td>0.8883</td>\n",
       "      <td>1.59</td>\n",
       "      <td>0.0141</td>\n",
       "      <td>-0.0040</td>\n",
       "      <td>0</td>\n",
       "    </tr>\n",
       "    <tr>\n",
       "      <th>4958</th>\n",
       "      <td>Jan 01, 2002</td>\n",
       "      <td>0.8895</td>\n",
       "      <td>0.8909</td>\n",
       "      <td>0.8913</td>\n",
       "      <td>0.8863</td>\n",
       "      <td>-0.16</td>\n",
       "      <td>0.0000</td>\n",
       "      <td>0.0141</td>\n",
       "      <td>1</td>\n",
       "    </tr>\n",
       "  </tbody>\n",
       "</table>\n",
       "<p>4959 rows × 9 columns</p>\n",
       "</div>"
      ],
      "text/plain": [
       "              Date   Price    Open    High     Low  Change %  Change       Y  \\\n",
       "0     Jan 01, 2021  1.2212  1.2216  1.2217  1.2210     -0.01 -0.0001  0.0000   \n",
       "1     Dec 31, 2020  1.2213  1.2298  1.2310  1.2209     -0.67 -0.0082 -0.0001   \n",
       "2     Dec 30, 2020  1.2295  1.2248  1.2311  1.2246      0.39  0.0048 -0.0082   \n",
       "3     Dec 29, 2020  1.2247  1.2217  1.2276  1.2207      0.27  0.0033  0.0048   \n",
       "4     Dec 28, 2020  1.2214  1.2202  1.2251  1.2181      0.08  0.0010  0.0033   \n",
       "...            ...     ...     ...     ...     ...       ...     ...     ...   \n",
       "4954  Jan 07, 2002  0.8935  0.8951  0.8998  0.8880     -0.17 -0.0015 -0.0004   \n",
       "4955  Jan 04, 2002  0.8950  0.8987  0.9003  0.8937     -0.51 -0.0046 -0.0015   \n",
       "4956  Jan 03, 2002  0.8996  0.9039  0.9062  0.8976     -0.44 -0.0040 -0.0046   \n",
       "4957  Jan 02, 2002  0.9036  0.8896  0.9069  0.8883      1.59  0.0141 -0.0040   \n",
       "4958  Jan 01, 2002  0.8895  0.8909  0.8913  0.8863     -0.16  0.0000  0.0141   \n",
       "\n",
       "      Y_pos  \n",
       "0         0  \n",
       "1         0  \n",
       "2         0  \n",
       "3         1  \n",
       "4         1  \n",
       "...     ...  \n",
       "4954      0  \n",
       "4955      0  \n",
       "4956      0  \n",
       "4957      0  \n",
       "4958      1  \n",
       "\n",
       "[4959 rows x 9 columns]"
      ]
     },
     "execution_count": 665,
     "metadata": {},
     "output_type": "execute_result"
    }
   ],
   "source": [
    "data['Y'] = 0\n",
    "data['Y_pos'] = 0\n",
    "for i in range(1,data.shape[0]):\n",
    "    data.loc[i,'Y'] = data.loc[i-1,'Change']\n",
    "    if data.loc[i,'Y']>0:\n",
    "        data.loc[i,'Y_pos'] = 1\n",
    "data"
   ]
  },
  {
   "cell_type": "markdown",
   "metadata": {
    "heading_collapsed": true,
    "hidden": true
   },
   "source": [
    "## High-Low Range"
   ]
  },
  {
   "cell_type": "code",
   "execution_count": 666,
   "metadata": {
    "ExecuteTime": {
     "end_time": "2021-05-18T12:22:20.210492Z",
     "start_time": "2021-05-18T12:22:20.191966Z"
    },
    "hidden": true
   },
   "outputs": [],
   "source": [
    "data['HL_Range'] = (data['High']-data['Low'])/data['Price']"
   ]
  },
  {
   "cell_type": "markdown",
   "metadata": {
    "ExecuteTime": {
     "end_time": "2021-05-17T15:46:30.001763Z",
     "start_time": "2021-05-17T15:46:29.981187Z"
    },
    "heading_collapsed": true,
    "hidden": true
   },
   "source": [
    "## Date"
   ]
  },
  {
   "cell_type": "code",
   "execution_count": 667,
   "metadata": {
    "ExecuteTime": {
     "end_time": "2021-05-18T12:22:20.266255Z",
     "start_time": "2021-05-18T12:22:20.217222Z"
    },
    "hidden": true
   },
   "outputs": [],
   "source": [
    "data['Date'] = pd.to_datetime(data['Date'], infer_datetime_format=True) "
   ]
  },
  {
   "cell_type": "code",
   "execution_count": 668,
   "metadata": {
    "ExecuteTime": {
     "end_time": "2021-05-18T12:22:20.403121Z",
     "start_time": "2021-05-18T12:22:20.281108Z"
    },
    "hidden": true
   },
   "outputs": [],
   "source": [
    "dates = data['Date']\n",
    "\n",
    "data['year'] = dates.apply(lambda x: x.year)\n",
    "data['month'] = dates.apply(lambda x: x.month)\n",
    "data['day'] = dates.apply(lambda x: x.day)"
   ]
  },
  {
   "cell_type": "markdown",
   "metadata": {
    "heading_collapsed": true,
    "hidden": true
   },
   "source": [
    "## RSI Indicator"
   ]
  },
  {
   "cell_type": "code",
   "execution_count": 669,
   "metadata": {
    "ExecuteTime": {
     "end_time": "2021-05-18T12:22:20.420014Z",
     "start_time": "2021-05-18T12:22:20.407298Z"
    },
    "hidden": true
   },
   "outputs": [],
   "source": [
    "# https://www.tradingheroes.com/rsi-indicator-explained/\n",
    "# J. Welles Wilder in his 1978 book, New Concepts in Technical Trading Systems"
   ]
  },
  {
   "cell_type": "code",
   "execution_count": 670,
   "metadata": {
    "ExecuteTime": {
     "end_time": "2021-05-18T12:22:30.462990Z",
     "start_time": "2021-05-18T12:22:20.429685Z"
    },
    "hidden": true
   },
   "outputs": [],
   "source": [
    "pos = 0\n",
    "neg = 0\n",
    "n = 20\n",
    "rsi_n = 'RSI ' + str(n)\n",
    "negatemp = 0\n",
    "posatemp = 0\n",
    "data[rsi_n] = 0\n",
    "data['RS'] = 0\n",
    "data['UpAvg'] = 0\n",
    "data['DownAvg'] = 0\n",
    "data['Overbought'] = 0\n",
    "data['Oversold'] = 0\n",
    "pos0 = 0\n",
    "neg0 = 0\n",
    "first=data.shape[0]-n   #RSI(20) can only be calculated once we have 20 or more data points\n",
    "\n",
    "for j in list(data.loc[first:,'Change']):   #calculate rsi with the n first data points\n",
    "        \n",
    "        if j>0:\n",
    "            pos0 += j\n",
    "        if j<0:\n",
    "            neg0 += j\n",
    "            \n",
    "nega = np.abs(neg0)/n\n",
    "posa = pos0/n\n",
    "data.loc[first,'UpAvg'] = posa\n",
    "data.loc[first,'DownAvg'] = nega\n",
    "rs = posa/nega #0\n",
    "\n",
    "rsi = 100-(100/(1+rs))\n",
    "data.loc[first,rsi_n] = rsi\n",
    "\n",
    "if rsi > 60:\n",
    "    data.loc[first,'Overbought'] = 1\n",
    "if rsi < 40:\n",
    "    data.loc[first,'Oversold'] = 1\n",
    "\n",
    "for i in list(range(first-1,-1,-1)):    #calculate rsi through iteration\n",
    "    \n",
    "    new_change = data.loc[i,'Change']\n",
    "\n",
    "    if new_change<0:\n",
    "        \n",
    "        nega = (nega*(n-1)+np.abs(new_change))/n\n",
    "        posa = (posa*(n-1))/n\n",
    "    elif new_change>0:\n",
    "        \n",
    "        posa = (posa*(n-1)+new_change)/n\n",
    "        nega = (nega*(n-1))/n\n",
    "    else:\n",
    "        posa = (posa*(n-1))/n\n",
    "        nega = (nega*(n-1))/n\n",
    "    \n",
    "    data.loc[i,'UpAvg'] = posa\n",
    "    data.loc[i,'DownAvg'] = nega\n",
    "    rs = posa/nega\n",
    "    data.loc[i,'RS'] = rs\n",
    "    rsi = 100-(100/(1+rs))\n",
    "    data.loc[i,rsi_n] = rsi\n",
    "    if rsi > 60:\n",
    "        data.loc[i,'Overbought'] = 1\n",
    "    if rsi < 40:\n",
    "        data.loc[i,'Oversold'] = 1"
   ]
  },
  {
   "cell_type": "markdown",
   "metadata": {
    "heading_collapsed": true,
    "hidden": true
   },
   "source": [
    "## MACD Indicator"
   ]
  },
  {
   "cell_type": "code",
   "execution_count": 671,
   "metadata": {
    "ExecuteTime": {
     "end_time": "2021-05-18T12:22:30.491694Z",
     "start_time": "2021-05-18T12:22:30.471160Z"
    },
    "hidden": true
   },
   "outputs": [],
   "source": [
    "# https://www.avatrade.es/educacion/professional-trading-strategies/macd-trading-strategies\n",
    "# MACD = EMA (12) – EMA (26)\n",
    "# (Close−EMA(previous period))*0.1538+EMA(previous period)\n",
    "# Después de obtener el MACD, se calcula, a su vez, su media móvil exponencial.\n",
    "# Para realizar este cálculo se suele emplear una media de 9 períodos. Esta media móvil se denomina Señal."
   ]
  },
  {
   "cell_type": "markdown",
   "metadata": {
    "heading_collapsed": true,
    "hidden": true
   },
   "source": [
    "### MACD"
   ]
  },
  {
   "cell_type": "code",
   "execution_count": 672,
   "metadata": {
    "ExecuteTime": {
     "end_time": "2021-05-18T12:22:36.981153Z",
     "start_time": "2021-05-18T12:22:30.498686Z"
    },
    "hidden": true
   },
   "outputs": [],
   "source": [
    "n1 = 15\n",
    "n2 = 30\n",
    "\n",
    "mult = lambda x: 2/(x+1) \n",
    "\n",
    "data['MACD'] = 0 \n",
    "data['MACD_15'] = 0 \n",
    "data['MACD_30'] = 0\n",
    "\n",
    "for n in [n1,n2]:\n",
    "    \n",
    "    first=data.shape[0]-n   #EMA can only be calculated once we have 20 or more data points\n",
    "    \n",
    "    ema = np.mean(list(data.loc[first:,'Price']))   #calculate sma with the n first data points\n",
    "    tag = 'MACD_'+str(n)\n",
    "    data.loc[first,tag] = ema\n",
    "    if n == n2 :\n",
    "        data.loc[first,'MACD'] = data.loc[first,'MACD_15']-data.loc[first,'MACD_30']\n",
    "    for i in list(range(first-1,-1,-1)):\n",
    "        \n",
    "        new_price = data.loc[i,'Price']\n",
    "        \n",
    "        ema = (new_price-ema)*mult(n)+ema\n",
    "        \n",
    "        data.loc[i,tag] = ema\n",
    "        if n == n2 :\n",
    "            data.loc[i,'MACD'] = data.loc[i,'MACD_15']-data.loc[i,'MACD_30']\n",
    "            \n",
    "#df = data.iloc[::-1].reset_index(drop=True)\n",
    "\n",
    "#exp1 = df.Price.ewm(span=15, adjust=False).mean()\n",
    "#exp2 = df.Price.ewm(span=30, adjust=False).mean()\n",
    "#macd = exp1-exp2\n",
    "#exp3 = macd.ewm(span=10, adjust=False).mean()"
   ]
  },
  {
   "cell_type": "markdown",
   "metadata": {
    "heading_collapsed": true,
    "hidden": true
   },
   "source": [
    "### Signal"
   ]
  },
  {
   "cell_type": "code",
   "execution_count": 673,
   "metadata": {
    "ExecuteTime": {
     "end_time": "2021-05-18T12:22:38.745159Z",
     "start_time": "2021-05-18T12:22:36.983489Z"
    },
    "hidden": true
   },
   "outputs": [],
   "source": [
    "n3 = 10\n",
    "\n",
    "data['Signal'] = 0\n",
    "\n",
    "first=data.shape[0]-n2+1-n3\n",
    "ema_signal = np.mean(list(data.loc[first:first+n3-1,'MACD']))   #calculate sma with the n first data points\n",
    "\n",
    "data.loc[first,'Signal'] = ema_signal\n",
    "\n",
    "for i in list(range(first-1,-1,-1)):\n",
    "    \n",
    "    new_MACD = data.loc[i,'MACD']\n",
    "    \n",
    "    ema_signal = (new_MACD-ema_signal)*mult(n3)+ema_signal\n",
    "    \n",
    "    data.loc[i,'Signal'] = ema_signal\n",
    "    \n",
    "data['MACD - Signal'] = data['MACD'] - data['Signal']"
   ]
  },
  {
   "cell_type": "markdown",
   "metadata": {
    "heading_collapsed": true,
    "hidden": true
   },
   "source": [
    "## ADX Indicator"
   ]
  },
  {
   "cell_type": "code",
   "execution_count": 674,
   "metadata": {
    "ExecuteTime": {
     "end_time": "2021-05-18T12:22:38.753274Z",
     "start_time": "2021-05-18T12:22:38.747495Z"
    },
    "hidden": true
   },
   "outputs": [],
   "source": [
    "# https://blog.quantinsti.com/adx-indicator-python/\n",
    "# https://school.stockcharts.com/doku.php?id=technical_indicators:average_directional_index_adx"
   ]
  },
  {
   "cell_type": "markdown",
   "metadata": {
    "heading_collapsed": true,
    "hidden": true
   },
   "source": [
    "### True Range"
   ]
  },
  {
   "cell_type": "code",
   "execution_count": 675,
   "metadata": {
    "ExecuteTime": {
     "end_time": "2021-05-18T12:22:38.790387Z",
     "start_time": "2021-05-18T12:22:38.763504Z"
    },
    "hidden": true
   },
   "outputs": [],
   "source": [
    "range1 = data['High']-data['Low']\n",
    "range2 = np.abs(data['High']-(data['Price']-data['Change']))\n",
    "range3 = np.abs(data['Low']-(data['Price']-data['Change']))\n",
    "\n",
    "data['TrueRange'] = np.max([range1,range2,range3],axis=0)"
   ]
  },
  {
   "cell_type": "markdown",
   "metadata": {
    "heading_collapsed": true,
    "hidden": true
   },
   "source": [
    "### +/- DM"
   ]
  },
  {
   "cell_type": "code",
   "execution_count": 676,
   "metadata": {
    "ExecuteTime": {
     "end_time": "2021-05-18T12:22:41.929673Z",
     "start_time": "2021-05-18T12:22:38.815172Z"
    },
    "hidden": true
   },
   "outputs": [],
   "source": [
    "data['+DM'] = 0\n",
    "data['-DM'] = 0\n",
    "\n",
    "for i in range(data.shape[0]-1):\n",
    "    pos = data.loc[i,'High']-data.loc[i+1,'High']\n",
    "    neg = data.loc[i+1,'Low']-data.loc[i,'Low']   # NOTICE HOW i and i+1 are reversed for neg\n",
    "    if pos>neg and pos>0:\n",
    "        data.loc[i,'+DM'] = pos\n",
    "    elif pos<neg and neg>0:\n",
    "        data.loc[i,'-DM'] = neg    "
   ]
  },
  {
   "cell_type": "markdown",
   "metadata": {
    "hidden": true
   },
   "source": [
    "### Smoothed values"
   ]
  },
  {
   "cell_type": "markdown",
   "metadata": {
    "heading_collapsed": true,
    "hidden": true
   },
   "source": [
    "#### Averaged True Range"
   ]
  },
  {
   "cell_type": "code",
   "execution_count": 677,
   "metadata": {
    "ExecuteTime": {
     "end_time": "2021-05-18T12:22:44.415627Z",
     "start_time": "2021-05-18T12:22:41.932010Z"
    },
    "hidden": true
   },
   "outputs": [],
   "source": [
    "n = 15\n",
    "\n",
    "data['ATR'] = 0 \n",
    "\n",
    "first=data.shape[0]-n   # can only be calculated once we have 15 or more data points\n",
    "    \n",
    "atr = np.mean(list(data.loc[first:,'TrueRange']))   #calculate with the n first data points\n",
    "data.loc[first,'ATR'] = atr\n",
    "\n",
    "for i in list(range(first-1,-1,-1)):\n",
    "        \n",
    "    new_range = data.loc[i,'TrueRange']\n",
    "        \n",
    "    atr = (atr*(n-1)+new_range)/n\n",
    "        \n",
    "    data.loc[i,'ATR'] = atr\n",
    "    "
   ]
  },
  {
   "cell_type": "markdown",
   "metadata": {
    "heading_collapsed": true,
    "hidden": true
   },
   "source": [
    "#### Smooth +/- DM"
   ]
  },
  {
   "cell_type": "code",
   "execution_count": 678,
   "metadata": {
    "ExecuteTime": {
     "end_time": "2021-05-18T12:22:48.749022Z",
     "start_time": "2021-05-18T12:22:44.420007Z"
    },
    "hidden": true
   },
   "outputs": [],
   "source": [
    "n=15\n",
    "\n",
    "data['Smooth_+DM'] = 0 \n",
    "data['Smooth_-DM'] = 0 \n",
    "\n",
    "first=data.shape[0]-n   #can only be calculated once we have 15 or more data points\n",
    "    \n",
    "pos = np.mean(list(data.loc[first:,'+DM']))   #calculate with the n first data points\n",
    "neg = np.mean(list(data.loc[first:,'-DM']))\n",
    "\n",
    "data.loc[first,'Smooth_+DM'] = pos\n",
    "data.loc[first,'Smooth_-DM'] = neg\n",
    "\n",
    "for i in list(range(first-1,-1,-1)):\n",
    "        \n",
    "    new_neg = data.loc[i,'-DM']\n",
    "    new_pos = data.loc[i,'+DM']\n",
    "        \n",
    "    pos = (pos*(n-1)+new_pos)/n\n",
    "    neg = (neg*(n-1)+new_neg)/n\n",
    "        \n",
    "    data.loc[i,'Smooth_+DM'] = pos\n",
    "    data.loc[i,'Smooth_-DM'] = neg\n"
   ]
  },
  {
   "cell_type": "markdown",
   "metadata": {
    "heading_collapsed": true,
    "hidden": true
   },
   "source": [
    "### IDX"
   ]
  },
  {
   "cell_type": "code",
   "execution_count": 679,
   "metadata": {
    "ExecuteTime": {
     "end_time": "2021-05-18T12:22:50.586310Z",
     "start_time": "2021-05-18T12:22:48.751258Z"
    },
    "hidden": true
   },
   "outputs": [],
   "source": [
    "n=15\n",
    "data['ADX'] = 0 \n",
    "\n",
    "data['+DI'] = (data['Smooth_+DM']/data['ATR'])*100\n",
    "data['-DI'] = (data['Smooth_-DM']/data['ATR'])*100\n",
    "\n",
    "DX = np.abs((data['+DI']-data['-DI'])/(data['+DI']+data['-DI']))*100\n",
    "data['DX'] = DX\n",
    "\n",
    "first=data.shape[0]-n-n+1   #can only be calculated once we have 15 or more data points\n",
    "\n",
    "adx = np.mean(list(data.loc[first:first+n-1,'DX']))\n",
    "\n",
    "data.loc[first,'ADX'] = adx\n",
    "\n",
    "for i in list(range(first-1,-1,-1)):\n",
    "        \n",
    "    new_adx = data.loc[i,'DX']\n",
    "        \n",
    "    adx = (adx*(n-1)+new_adx)/n\n",
    "        \n",
    "    data.loc[i,'ADX'] = adx\n"
   ]
  },
  {
   "cell_type": "markdown",
   "metadata": {
    "heading_collapsed": true,
    "hidden": true
   },
   "source": [
    "## Moving Averages"
   ]
  },
  {
   "cell_type": "markdown",
   "metadata": {
    "heading_collapsed": true,
    "hidden": true
   },
   "source": [
    "### Regular Average (Period = 50)"
   ]
  },
  {
   "cell_type": "code",
   "execution_count": 680,
   "metadata": {
    "ExecuteTime": {
     "end_time": "2021-05-18T12:22:50.609580Z",
     "start_time": "2021-05-18T12:22:50.588957Z"
    },
    "hidden": true
   },
   "outputs": [],
   "source": [
    "df = data.iloc[::-1].reset_index(drop=True)['Price']"
   ]
  },
  {
   "cell_type": "code",
   "execution_count": 681,
   "metadata": {
    "ExecuteTime": {
     "end_time": "2021-05-18T12:22:53.287598Z",
     "start_time": "2021-05-18T12:22:50.612896Z"
    },
    "hidden": true
   },
   "outputs": [],
   "source": [
    "ma50 = df.rolling(50).mean()\n",
    "\n",
    "data['MA_50'] = ma50.iloc[::-1].reset_index(drop=True)\n",
    "\n",
    "data['MA_50_diff'] = 0\n",
    "\n",
    "for i in range(0,data.shape[0]-1):\n",
    "    data.loc[i,'MA_50_diff'] = data.loc[i,'MA_50'] - data.loc[i+1,'MA_50']"
   ]
  },
  {
   "cell_type": "markdown",
   "metadata": {
    "heading_collapsed": true,
    "hidden": true
   },
   "source": [
    "### Regular Average (Period = 100)"
   ]
  },
  {
   "cell_type": "code",
   "execution_count": 682,
   "metadata": {
    "ExecuteTime": {
     "end_time": "2021-05-18T12:22:56.496348Z",
     "start_time": "2021-05-18T12:22:53.290069Z"
    },
    "hidden": true
   },
   "outputs": [],
   "source": [
    "ma100 = df.rolling(100).mean()\n",
    "\n",
    "data['MA_100'] = ma100.iloc[::-1].reset_index(drop=True)\n",
    "\n",
    "data['MA_100_diff'] = 0\n",
    "\n",
    "for i in range(0,data.shape[0]-1):\n",
    "    data.loc[i,'MA_100_diff'] = data.loc[i,'MA_100'] - data.loc[i+1,'MA_100']"
   ]
  },
  {
   "cell_type": "markdown",
   "metadata": {
    "heading_collapsed": true,
    "hidden": true
   },
   "source": [
    "### Exponential Average (Period = 150)"
   ]
  },
  {
   "cell_type": "code",
   "execution_count": 683,
   "metadata": {
    "ExecuteTime": {
     "end_time": "2021-05-18T12:22:58.327649Z",
     "start_time": "2021-05-18T12:22:56.498940Z"
    },
    "hidden": true
   },
   "outputs": [],
   "source": [
    "exp1 = df.ewm(span=150, adjust=False).mean()\n",
    "\n",
    "data['EMA_150'] = exp1.iloc[::-1].reset_index(drop=True)\n",
    "\n",
    "data['EMA_150_diff'] = 0\n",
    "\n",
    "for i in range(0,data.shape[0]-1):\n",
    "    data.loc[i,'EMA_150_diff'] = data.loc[i,'EMA_150'] - data.loc[i+1,'EMA_150']"
   ]
  },
  {
   "cell_type": "markdown",
   "metadata": {
    "heading_collapsed": true,
    "hidden": true
   },
   "source": [
    "## Dropping rows"
   ]
  },
  {
   "cell_type": "code",
   "execution_count": 684,
   "metadata": {
    "ExecuteTime": {
     "end_time": "2021-05-18T12:22:58.356277Z",
     "start_time": "2021-05-18T12:22:58.329883Z"
    },
    "hidden": true
   },
   "outputs": [],
   "source": [
    "data = data.drop(data[data['year']==2002].index)\n",
    "data = data.drop(data[data['year']==2021].index)"
   ]
  },
  {
   "cell_type": "markdown",
   "metadata": {
    "heading_collapsed": true,
    "hidden": true
   },
   "source": [
    "## Dropping columns"
   ]
  },
  {
   "cell_type": "code",
   "execution_count": 685,
   "metadata": {
    "ExecuteTime": {
     "end_time": "2021-05-18T14:46:45.202827Z",
     "start_time": "2021-05-18T14:46:45.195745Z"
    },
    "hidden": true
   },
   "outputs": [],
   "source": [
    "data.drop(columns=['RS','UpAvg','DownAvg'],errors='ignore',inplace=True)\n",
    "data.drop(columns=['MACD_15','MACD_30'],errors='ignore',inplace=True)\n",
    "data.drop(columns=['TrueRange'],errors='ignore',inplace=True)\n",
    "data.drop(columns=['+DM','-DM','DownAvg','+DI','-DI'],errors='ignore',inplace=True)\n",
    "data.drop(columns=['DX','IDX','Smooth_+DM','Smooth_-DM','ATR'],errors='ignore',inplace=True)"
   ]
  },
  {
   "cell_type": "markdown",
   "metadata": {
    "heading_collapsed": true,
    "hidden": true
   },
   "source": [
    "## Save dataset"
   ]
  },
  {
   "cell_type": "code",
   "execution_count": 686,
   "metadata": {
    "ExecuteTime": {
     "end_time": "2021-05-18T12:23:05.352699Z",
     "start_time": "2021-05-18T12:23:05.108532Z"
    },
    "hidden": true
   },
   "outputs": [],
   "source": [
    "data.to_csv('../data/Complete_data.csv')"
   ]
  },
  {
   "cell_type": "markdown",
   "metadata": {},
   "source": [
    "# Machine Learning"
   ]
  },
  {
   "cell_type": "markdown",
   "metadata": {
    "heading_collapsed": true
   },
   "source": [
    "## First Analysis"
   ]
  },
  {
   "cell_type": "code",
   "execution_count": 539,
   "metadata": {
    "ExecuteTime": {
     "end_time": "2021-05-17T21:33:36.615742Z",
     "start_time": "2021-05-17T21:33:36.581757Z"
    },
    "hidden": true
   },
   "outputs": [
    {
     "data": {
      "text/html": [
       "<div>\n",
       "<style scoped>\n",
       "    .dataframe tbody tr th:only-of-type {\n",
       "        vertical-align: middle;\n",
       "    }\n",
       "\n",
       "    .dataframe tbody tr th {\n",
       "        vertical-align: top;\n",
       "    }\n",
       "\n",
       "    .dataframe thead th {\n",
       "        text-align: right;\n",
       "    }\n",
       "</style>\n",
       "<table border=\"1\" class=\"dataframe\">\n",
       "  <thead>\n",
       "    <tr style=\"text-align: right;\">\n",
       "      <th></th>\n",
       "      <th>Date</th>\n",
       "      <th>Price</th>\n",
       "      <th>Open</th>\n",
       "      <th>High</th>\n",
       "      <th>Low</th>\n",
       "      <th>Change %</th>\n",
       "      <th>Change</th>\n",
       "      <th>year</th>\n",
       "      <th>month</th>\n",
       "      <th>day</th>\n",
       "      <th>RSI 20</th>\n",
       "      <th>Overbought</th>\n",
       "      <th>Oversold</th>\n",
       "      <th>MACD</th>\n",
       "      <th>Signal</th>\n",
       "      <th>MACD - Signal</th>\n",
       "      <th>ADX</th>\n",
       "      <th>MA_50</th>\n",
       "      <th>MA_100</th>\n",
       "      <th>EMA_150</th>\n",
       "    </tr>\n",
       "  </thead>\n",
       "  <tbody>\n",
       "    <tr>\n",
       "      <th>1</th>\n",
       "      <td>2020-12-31</td>\n",
       "      <td>1.2213</td>\n",
       "      <td>1.2298</td>\n",
       "      <td>1.2310</td>\n",
       "      <td>1.2209</td>\n",
       "      <td>-0.67</td>\n",
       "      <td>-0.0082</td>\n",
       "      <td>2020</td>\n",
       "      <td>12</td>\n",
       "      <td>31</td>\n",
       "      <td>60.540498</td>\n",
       "      <td>1</td>\n",
       "      <td>0</td>\n",
       "      <td>0.007759</td>\n",
       "      <td>0.008124</td>\n",
       "      <td>-0.000366</td>\n",
       "      <td>27.827335</td>\n",
       "      <td>1.198020</td>\n",
       "      <td>1.188833</td>\n",
       "      <td>1.175449</td>\n",
       "    </tr>\n",
       "    <tr>\n",
       "      <th>2</th>\n",
       "      <td>2020-12-30</td>\n",
       "      <td>1.2295</td>\n",
       "      <td>1.2248</td>\n",
       "      <td>1.2311</td>\n",
       "      <td>1.2246</td>\n",
       "      <td>0.39</td>\n",
       "      <td>0.0048</td>\n",
       "      <td>2020</td>\n",
       "      <td>12</td>\n",
       "      <td>30</td>\n",
       "      <td>68.723630</td>\n",
       "      <td>1</td>\n",
       "      <td>0</td>\n",
       "      <td>0.008145</td>\n",
       "      <td>0.008206</td>\n",
       "      <td>-0.000060</td>\n",
       "      <td>28.174582</td>\n",
       "      <td>1.197226</td>\n",
       "      <td>1.188432</td>\n",
       "      <td>1.174834</td>\n",
       "    </tr>\n",
       "    <tr>\n",
       "      <th>3</th>\n",
       "      <td>2020-12-29</td>\n",
       "      <td>1.2247</td>\n",
       "      <td>1.2217</td>\n",
       "      <td>1.2276</td>\n",
       "      <td>1.2207</td>\n",
       "      <td>0.27</td>\n",
       "      <td>0.0033</td>\n",
       "      <td>2020</td>\n",
       "      <td>12</td>\n",
       "      <td>29</td>\n",
       "      <td>66.181619</td>\n",
       "      <td>1</td>\n",
       "      <td>0</td>\n",
       "      <td>0.007932</td>\n",
       "      <td>0.008219</td>\n",
       "      <td>-0.000288</td>\n",
       "      <td>27.639525</td>\n",
       "      <td>1.196358</td>\n",
       "      <td>1.187919</td>\n",
       "      <td>1.174100</td>\n",
       "    </tr>\n",
       "    <tr>\n",
       "      <th>4</th>\n",
       "      <td>2020-12-28</td>\n",
       "      <td>1.2214</td>\n",
       "      <td>1.2202</td>\n",
       "      <td>1.2251</td>\n",
       "      <td>1.2181</td>\n",
       "      <td>0.08</td>\n",
       "      <td>0.0010</td>\n",
       "      <td>2020</td>\n",
       "      <td>12</td>\n",
       "      <td>28</td>\n",
       "      <td>64.285794</td>\n",
       "      <td>1</td>\n",
       "      <td>0</td>\n",
       "      <td>0.007947</td>\n",
       "      <td>0.008283</td>\n",
       "      <td>-0.000336</td>\n",
       "      <td>27.527296</td>\n",
       "      <td>1.195506</td>\n",
       "      <td>1.187411</td>\n",
       "      <td>1.173421</td>\n",
       "    </tr>\n",
       "    <tr>\n",
       "      <th>5</th>\n",
       "      <td>2020-12-25</td>\n",
       "      <td>1.2204</td>\n",
       "      <td>1.2186</td>\n",
       "      <td>1.2212</td>\n",
       "      <td>1.2165</td>\n",
       "      <td>0.15</td>\n",
       "      <td>0.0018</td>\n",
       "      <td>2020</td>\n",
       "      <td>12</td>\n",
       "      <td>25</td>\n",
       "      <td>63.699977</td>\n",
       "      <td>1</td>\n",
       "      <td>0</td>\n",
       "      <td>0.008131</td>\n",
       "      <td>0.008358</td>\n",
       "      <td>-0.000227</td>\n",
       "      <td>27.769495</td>\n",
       "      <td>1.194610</td>\n",
       "      <td>1.186933</td>\n",
       "      <td>1.172777</td>\n",
       "    </tr>\n",
       "    <tr>\n",
       "      <th>...</th>\n",
       "      <td>...</td>\n",
       "      <td>...</td>\n",
       "      <td>...</td>\n",
       "      <td>...</td>\n",
       "      <td>...</td>\n",
       "      <td>...</td>\n",
       "      <td>...</td>\n",
       "      <td>...</td>\n",
       "      <td>...</td>\n",
       "      <td>...</td>\n",
       "      <td>...</td>\n",
       "      <td>...</td>\n",
       "      <td>...</td>\n",
       "      <td>...</td>\n",
       "      <td>...</td>\n",
       "      <td>...</td>\n",
       "      <td>...</td>\n",
       "      <td>...</td>\n",
       "      <td>...</td>\n",
       "      <td>...</td>\n",
       "    </tr>\n",
       "    <tr>\n",
       "      <th>4693</th>\n",
       "      <td>2003-01-07</td>\n",
       "      <td>1.0416</td>\n",
       "      <td>1.0463</td>\n",
       "      <td>1.0468</td>\n",
       "      <td>1.0394</td>\n",
       "      <td>-0.51</td>\n",
       "      <td>-0.0053</td>\n",
       "      <td>2003</td>\n",
       "      <td>1</td>\n",
       "      <td>7</td>\n",
       "      <td>63.126810</td>\n",
       "      <td>1</td>\n",
       "      <td>0</td>\n",
       "      <td>0.010159</td>\n",
       "      <td>0.009768</td>\n",
       "      <td>0.000391</td>\n",
       "      <td>37.218065</td>\n",
       "      <td>1.014156</td>\n",
       "      <td>0.997367</td>\n",
       "      <td>0.987290</td>\n",
       "    </tr>\n",
       "    <tr>\n",
       "      <th>4694</th>\n",
       "      <td>2003-01-06</td>\n",
       "      <td>1.0469</td>\n",
       "      <td>1.0417</td>\n",
       "      <td>1.0497</td>\n",
       "      <td>1.0414</td>\n",
       "      <td>0.44</td>\n",
       "      <td>0.0046</td>\n",
       "      <td>2003</td>\n",
       "      <td>1</td>\n",
       "      <td>6</td>\n",
       "      <td>67.723733</td>\n",
       "      <td>1</td>\n",
       "      <td>0</td>\n",
       "      <td>0.010522</td>\n",
       "      <td>0.009681</td>\n",
       "      <td>0.000841</td>\n",
       "      <td>38.136438</td>\n",
       "      <td>1.012992</td>\n",
       "      <td>0.996736</td>\n",
       "      <td>0.986561</td>\n",
       "    </tr>\n",
       "    <tr>\n",
       "      <th>4695</th>\n",
       "      <td>2003-01-03</td>\n",
       "      <td>1.0423</td>\n",
       "      <td>1.0359</td>\n",
       "      <td>1.0438</td>\n",
       "      <td>1.0336</td>\n",
       "      <td>0.59</td>\n",
       "      <td>0.0061</td>\n",
       "      <td>2003</td>\n",
       "      <td>1</td>\n",
       "      <td>3</td>\n",
       "      <td>65.661992</td>\n",
       "      <td>1</td>\n",
       "      <td>0</td>\n",
       "      <td>0.010471</td>\n",
       "      <td>0.009494</td>\n",
       "      <td>0.000977</td>\n",
       "      <td>38.776037</td>\n",
       "      <td>1.011750</td>\n",
       "      <td>0.996034</td>\n",
       "      <td>0.985752</td>\n",
       "    </tr>\n",
       "    <tr>\n",
       "      <th>4696</th>\n",
       "      <td>2003-01-02</td>\n",
       "      <td>1.0362</td>\n",
       "      <td>1.0492</td>\n",
       "      <td>1.0498</td>\n",
       "      <td>1.0334</td>\n",
       "      <td>-1.24</td>\n",
       "      <td>-0.0130</td>\n",
       "      <td>2003</td>\n",
       "      <td>1</td>\n",
       "      <td>2</td>\n",
       "      <td>62.656909</td>\n",
       "      <td>1</td>\n",
       "      <td>0</td>\n",
       "      <td>0.010645</td>\n",
       "      <td>0.009277</td>\n",
       "      <td>0.001368</td>\n",
       "      <td>40.065784</td>\n",
       "      <td>1.010420</td>\n",
       "      <td>0.995455</td>\n",
       "      <td>0.984993</td>\n",
       "    </tr>\n",
       "    <tr>\n",
       "      <th>4697</th>\n",
       "      <td>2003-01-01</td>\n",
       "      <td>1.0492</td>\n",
       "      <td>1.0494</td>\n",
       "      <td>1.0502</td>\n",
       "      <td>1.0492</td>\n",
       "      <td>-0.09</td>\n",
       "      <td>-0.0009</td>\n",
       "      <td>2003</td>\n",
       "      <td>1</td>\n",
       "      <td>1</td>\n",
       "      <td>76.149134</td>\n",
       "      <td>1</td>\n",
       "      <td>0</td>\n",
       "      <td>0.011204</td>\n",
       "      <td>0.008973</td>\n",
       "      <td>0.002231</td>\n",
       "      <td>41.447655</td>\n",
       "      <td>1.009254</td>\n",
       "      <td>0.994911</td>\n",
       "      <td>0.984305</td>\n",
       "    </tr>\n",
       "  </tbody>\n",
       "</table>\n",
       "<p>4697 rows × 20 columns</p>\n",
       "</div>"
      ],
      "text/plain": [
       "           Date   Price    Open    High     Low  Change %  Change  year  \\\n",
       "1    2020-12-31  1.2213  1.2298  1.2310  1.2209     -0.67 -0.0082  2020   \n",
       "2    2020-12-30  1.2295  1.2248  1.2311  1.2246      0.39  0.0048  2020   \n",
       "3    2020-12-29  1.2247  1.2217  1.2276  1.2207      0.27  0.0033  2020   \n",
       "4    2020-12-28  1.2214  1.2202  1.2251  1.2181      0.08  0.0010  2020   \n",
       "5    2020-12-25  1.2204  1.2186  1.2212  1.2165      0.15  0.0018  2020   \n",
       "...         ...     ...     ...     ...     ...       ...     ...   ...   \n",
       "4693 2003-01-07  1.0416  1.0463  1.0468  1.0394     -0.51 -0.0053  2003   \n",
       "4694 2003-01-06  1.0469  1.0417  1.0497  1.0414      0.44  0.0046  2003   \n",
       "4695 2003-01-03  1.0423  1.0359  1.0438  1.0336      0.59  0.0061  2003   \n",
       "4696 2003-01-02  1.0362  1.0492  1.0498  1.0334     -1.24 -0.0130  2003   \n",
       "4697 2003-01-01  1.0492  1.0494  1.0502  1.0492     -0.09 -0.0009  2003   \n",
       "\n",
       "      month  day     RSI 20  Overbought  Oversold      MACD    Signal  \\\n",
       "1        12   31  60.540498           1         0  0.007759  0.008124   \n",
       "2        12   30  68.723630           1         0  0.008145  0.008206   \n",
       "3        12   29  66.181619           1         0  0.007932  0.008219   \n",
       "4        12   28  64.285794           1         0  0.007947  0.008283   \n",
       "5        12   25  63.699977           1         0  0.008131  0.008358   \n",
       "...     ...  ...        ...         ...       ...       ...       ...   \n",
       "4693      1    7  63.126810           1         0  0.010159  0.009768   \n",
       "4694      1    6  67.723733           1         0  0.010522  0.009681   \n",
       "4695      1    3  65.661992           1         0  0.010471  0.009494   \n",
       "4696      1    2  62.656909           1         0  0.010645  0.009277   \n",
       "4697      1    1  76.149134           1         0  0.011204  0.008973   \n",
       "\n",
       "      MACD - Signal        ADX     MA_50    MA_100   EMA_150  \n",
       "1         -0.000366  27.827335  1.198020  1.188833  1.175449  \n",
       "2         -0.000060  28.174582  1.197226  1.188432  1.174834  \n",
       "3         -0.000288  27.639525  1.196358  1.187919  1.174100  \n",
       "4         -0.000336  27.527296  1.195506  1.187411  1.173421  \n",
       "5         -0.000227  27.769495  1.194610  1.186933  1.172777  \n",
       "...             ...        ...       ...       ...       ...  \n",
       "4693       0.000391  37.218065  1.014156  0.997367  0.987290  \n",
       "4694       0.000841  38.136438  1.012992  0.996736  0.986561  \n",
       "4695       0.000977  38.776037  1.011750  0.996034  0.985752  \n",
       "4696       0.001368  40.065784  1.010420  0.995455  0.984993  \n",
       "4697       0.002231  41.447655  1.009254  0.994911  0.984305  \n",
       "\n",
       "[4697 rows x 20 columns]"
      ]
     },
     "execution_count": 539,
     "metadata": {},
     "output_type": "execute_result"
    }
   ],
   "source": [
    "data"
   ]
  },
  {
   "cell_type": "code",
   "execution_count": 687,
   "metadata": {
    "ExecuteTime": {
     "end_time": "2021-05-18T12:24:08.977115Z",
     "start_time": "2021-05-18T12:24:01.881466Z"
    },
    "hidden": true,
    "scrolled": false
   },
   "outputs": [
    {
     "data": {
      "text/plain": [
       "<AxesSubplot:>"
      ]
     },
     "execution_count": 687,
     "metadata": {},
     "output_type": "execute_result"
    },
    {
     "data": {
      "image/png": "[encoded data removed]",
      "text/plain": [
       "<Figure size 1296x936 with 2 Axes>"
      ]
     },
     "metadata": {
      "needs_background": "light"
     },
     "output_type": "display_data"
    }
   ],
   "source": [
    "f, ax = plt.subplots(figsize=(18, 13))\n",
    "sns.heatmap(data.corr(),annot=True,vmin=-1, vmax=1)"
   ]
  },
  {
   "cell_type": "code",
   "execution_count": 688,
   "metadata": {
    "ExecuteTime": {
     "end_time": "2021-05-18T12:24:09.294926Z",
     "start_time": "2021-05-18T12:24:09.283552Z"
    },
    "hidden": true
   },
   "outputs": [
    {
     "data": {
      "text/plain": [
       "1    2360\n",
       "0    2337\n",
       "Name: Y_pos, dtype: int64"
      ]
     },
     "execution_count": 688,
     "metadata": {},
     "output_type": "execute_result"
    }
   ],
   "source": [
    "data['Y_pos'].value_counts()"
   ]
  },
  {
   "cell_type": "markdown",
   "metadata": {},
   "source": [
    "## Classification"
   ]
  },
  {
   "cell_type": "markdown",
   "metadata": {
    "heading_collapsed": true
   },
   "source": [
    "### Preparing data"
   ]
  },
  {
   "cell_type": "markdown",
   "metadata": {
    "heading_collapsed": true,
    "hidden": true
   },
   "source": [
    "#### Standard Scaler"
   ]
  },
  {
   "cell_type": "code",
   "execution_count": 952,
   "metadata": {
    "ExecuteTime": {
     "end_time": "2021-05-19T14:50:51.417387Z",
     "start_time": "2021-05-19T14:50:51.274353Z"
    },
    "hidden": true
   },
   "outputs": [],
   "source": [
    "columns_to_drop = ['Date','year','month','day','Y','Y_pos','Close','High','Low','Overbought','Oversold']\n",
    "\n",
    "Xc = data.drop(columns=columns_to_drop,errors='ignore')\n",
    "yc = data['Y_pos']\n",
    "\n",
    "Xc_train_change, Xc_test_change, yc_train, yc_test = tts(Xc,yc,test_size=0.2,random_state=1123)\n",
    "Xc_train_change, Xc_val_change, yc_train, yc_val = tts(Xc_train_change,yc_train,test_size=1/3,random_state=1123)\n",
    "\n",
    "Xc_train_change = pd.DataFrame(Xc_train_change, columns = Xc.columns)\n",
    "Xc_test_change  = pd.DataFrame(Xc_test_change, columns = Xc.columns)\n",
    "Xc_val_change = pd.DataFrame(Xc_val_change, columns = Xc.columns)\n",
    "\n",
    "Xc_train = Xc_train_change.drop(columns=['Change','Price'],errors='ignore')\n",
    "Xc_test = Xc_test_change.drop(columns=['Change','Price'],errors='ignore')\n",
    "Xc_val = Xc_val_change.drop(columns=['Change','Price'],errors='ignore')\n",
    "\n",
    "feature_names = Xc_train.columns\n",
    "scaler = StandardScaler()\n",
    "\n",
    "scaler.fit(Xc_train)\n",
    "\n",
    "Xc_train = scaler.transform(Xc_train)\n",
    "Xc_test  = scaler.transform(Xc_test)\n",
    "Xc_val  = scaler.transform(Xc_val)\n",
    "\n",
    "Xc_train = pd.DataFrame(Xc_train, columns = feature_names)\n",
    "Xc_test = pd.DataFrame(Xc_test, columns = feature_names)\n",
    "Xc_val = pd.DataFrame(Xc_val, columns = feature_names)"
   ]
  },
  {
   "cell_type": "markdown",
   "metadata": {
    "heading_collapsed": true,
    "hidden": true
   },
   "source": [
    "###### Polynomial Features"
   ]
  },
  {
   "cell_type": "code",
   "execution_count": 983,
   "metadata": {
    "ExecuteTime": {
     "end_time": "2021-05-19T15:31:13.433016Z",
     "start_time": "2021-05-19T15:31:13.300068Z"
    },
    "hidden": true
   },
   "outputs": [],
   "source": [
    "columns_to_drop = ['Date','year','month','day','Y','Y_pos','Close','High','Low','Overbought','Oversold']\n",
    "\n",
    "Xc = data.drop(columns=columns_to_drop,errors='ignore')\n",
    "yc = data['Y_pos']\n",
    "\n",
    "Xc_train_change, Xc_test_change, yc_train, yc_test = tts(Xc,yc,test_size=0.2,random_state=1123)\n",
    "Xc_train_change, Xc_val_change, yc_train, yc_val = tts(Xc_train_change,yc_train,test_size=1/3,random_state=1123)\n",
    "\n",
    "Xc_train_change = pd.DataFrame(Xc_train_change, columns = Xc.columns)\n",
    "Xc_test_change  = pd.DataFrame(Xc_test_change, columns = Xc.columns)\n",
    "Xc_val_change = pd.DataFrame(Xc_val_change, columns = Xc.columns)\n",
    "\n",
    "Xc_train = Xc_train_change.drop(columns=['Change','Price'],errors='ignore')\n",
    "Xc_test = Xc_test_change.drop(columns=['Change','Price'],errors='ignore')\n",
    "Xc_val = Xc_val_change.drop(columns=['Change','Price'],errors='ignore')\n",
    "\n",
    "feature_names = Xc_train.columns\n",
    "scaler = StandardScaler()\n",
    "\n",
    "scaler.fit(Xc_train)\n",
    "\n",
    "Xc_train = scaler.transform(Xc_train)\n",
    "Xc_test  = scaler.transform(Xc_test)\n",
    "Xc_val  = scaler.transform(Xc_val)\n",
    "\n",
    "Xc_train = pd.DataFrame(Xc_train, columns = feature_names)\n",
    "Xc_test = pd.DataFrame(Xc_test, columns = feature_names)\n",
    "Xc_val = pd.DataFrame(Xc_val, columns = feature_names)\n",
    "\n",
    "poly = PF(2)\n",
    "Xc_trainp = poly.fit_transform(Xc_train)\n",
    "Xc_testp = poly.fit_transform(Xc_test)\n",
    "Xc_valp = poly.fit_transform(Xc_val)\n",
    "\n",
    "feature_namesp = poly.get_feature_names(Xc_train.columns)\n",
    "\n",
    "Xc_trainp = pd.DataFrame(Xc_trainp, columns = feature_namesp)\n",
    "Xc_testp = pd.DataFrame(Xc_testp, columns = feature_namesp)\n",
    "Xc_valp = pd.DataFrame(Xc_valp, columns = feature_namesp)"
   ]
  },
  {
   "cell_type": "markdown",
   "metadata": {
    "heading_collapsed": true,
    "hidden": true
   },
   "source": [
    "#### Robust Scaler"
   ]
  },
  {
   "cell_type": "code",
   "execution_count": 910,
   "metadata": {
    "ExecuteTime": {
     "end_time": "2021-05-19T09:26:58.093588Z",
     "start_time": "2021-05-19T09:26:58.024548Z"
    },
    "hidden": true
   },
   "outputs": [],
   "source": [
    "columns_to_drop = ['Date','year','month','day','Y','Y_pos','Price','Close','High','Low','Overbought','Oversold']\n",
    "\n",
    "Xc = data.drop(columns=columns_to_drop,errors='ignore')\n",
    "yc = data['Y_pos']\n",
    "\n",
    "Xc_train_change, Xc_test_change, yc_train, yc_test = tts(Xc,yc,test_size=0.2,random_state=1123)\n",
    "Xc_train_change, Xc_val_change, yc_train, yc_val = tts(Xc_train_change,yc_train,test_size=1/3,random_state=1123)\n",
    "\n",
    "Xc_train_change = pd.DataFrame(Xc_train_change, columns = Xc.columns)\n",
    "Xc_test_change  = pd.DataFrame(Xc_test_change, columns = Xc.columns)\n",
    "Xc_val_change = pd.DataFrame(Xc_val_change, columns = Xc.columns)\n",
    "\n",
    "Xc_train = Xc_train_change.drop(columns='Change',errors='ignore')\n",
    "Xc_test = Xc_test_change.drop(columns='Change',errors='ignore')\n",
    "Xc_val = Xc_val_change.drop(columns='Change',errors='ignore')\n",
    "\n",
    "feature_names = Xc_train.columns\n",
    "scaler = RobustScaler()\n",
    "\n",
    "scaler.fit(Xc_train)\n",
    "\n",
    "Xc_train = scaler.transform(Xc_train)\n",
    "Xc_test  = scaler.transform(Xc_test)\n",
    "Xc_val  = scaler.transform(Xc_val)\n",
    "\n",
    "Xc_train = pd.DataFrame(Xc_train, columns = feature_names)\n",
    "Xc_test = pd.DataFrame(Xc_test, columns = feature_names)\n",
    "Xc_val = pd.DataFrame(Xc_val, columns = feature_names)"
   ]
  },
  {
   "cell_type": "markdown",
   "metadata": {},
   "source": [
    "### GradientBoostingClassifier() - StandardScaler"
   ]
  },
  {
   "cell_type": "code",
   "execution_count": 690,
   "metadata": {
    "ExecuteTime": {
     "end_time": "2021-05-18T12:25:05.856608Z",
     "start_time": "2021-05-18T12:24:30.517705Z"
    }
   },
   "outputs": [
    {
     "name": "stdout",
     "output_type": "stream",
     "text": [
      "Mean Accuracy: 0.504 (0.026)\n"
     ]
    }
   ],
   "source": [
    "model = GBC()\n",
    "\n",
    "model.fit(Xc_train, yc_train)\n",
    "\n",
    "# define the evaluation method\n",
    "cv = RepeatedStratifiedKFold(n_splits=10, n_repeats=3, random_state=1)\n",
    "\n",
    "# evaluate the model on the dataset\n",
    "n_scores = cross_val_score(model, Xc_train, yc_train, scoring='accuracy', cv=cv, n_jobs=-1)\n",
    "\n",
    "\n",
    "\n",
    "# report performance\n",
    "print('Mean Accuracy: %.3f (%.3f)' % (np.mean(n_scores), np.std(n_scores)))"
   ]
  },
  {
   "cell_type": "markdown",
   "metadata": {
    "heading_collapsed": true
   },
   "source": [
    "#### Number of Trees"
   ]
  },
  {
   "cell_type": "code",
   "execution_count": 647,
   "metadata": {
    "ExecuteTime": {
     "end_time": "2021-05-18T11:24:35.433913Z",
     "start_time": "2021-05-18T10:53:12.573729Z"
    },
    "hidden": true
   },
   "outputs": [
    {
     "name": "stdout",
     "output_type": "stream",
     "text": [
      ">10 0.512 (0.018)\n",
      ">50 0.511 (0.024)\n",
      ">100 0.508 (0.022)\n",
      ">500 0.500 (0.023)\n",
      ">1000 0.497 (0.023)\n",
      ">5000 0.501 (0.020)\n"
     ]
    },
    {
     "data": {
      "image/png": "[encoded data removed]",
      "text/plain": [
       "<Figure size 432x288 with 1 Axes>"
      ]
     },
     "metadata": {
      "needs_background": "light"
     },
     "output_type": "display_data"
    }
   ],
   "source": [
    "def get_models():     # get a list of models to evaluate\n",
    "    \n",
    "    models = dict()\n",
    "    n_trees = [10, 50, 100, 500, 1000, 5000]     # define number of trees to consider\n",
    "    for n in n_trees:\n",
    "        models['N_trees:'+str(n)] = GBC(n_estimators=n)\n",
    "    return models\n",
    " \n",
    "\n",
    "def evaluate_model(model, X, y):    # evaluate a given model using cross-validation\n",
    "    \n",
    "    cv = RepeatedStratifiedKFold(n_splits=10, n_repeats=3, random_state=1)   # define the evaluation procedure\n",
    "    scores = cross_val_score(model, X, y, scoring='accuracy', cv=cv, n_jobs=-1)   # evaluate the model and collect the results\n",
    "    return scores\n",
    " \n",
    "\n",
    "models = get_models()  # get the models to evaluate\n",
    "results, names = list(), list()\n",
    "\n",
    "for name, model in models.items():   # evaluate the models and store results\n",
    "    \n",
    "    scores = evaluate_model(model, Xc_train, yc_train) # evaluate the model\n",
    "    \n",
    "    results.append(scores) # store the results\n",
    "    names.append(name)\n",
    "    \n",
    "    print('>%s %.3f (%.3f)' % (name, np.mean(scores), np.std(scores))) # summarize the performance along the way\n",
    "    \n",
    "\n",
    "plt.boxplot(results, labels=names, showmeans=True)  # plot model performance for comparison\n",
    "plt.show()"
   ]
  },
  {
   "cell_type": "markdown",
   "metadata": {
    "heading_collapsed": true
   },
   "source": [
    "#### Number of Samples"
   ]
  },
  {
   "cell_type": "code",
   "execution_count": 651,
   "metadata": {
    "ExecuteTime": {
     "end_time": "2021-05-18T11:28:44.342625Z",
     "start_time": "2021-05-18T11:26:31.355066Z"
    },
    "hidden": true
   },
   "outputs": [
    {
     "name": "stdout",
     "output_type": "stream",
     "text": [
      ">N_samples:0.1 0.502 (0.029)\n",
      ">N_samples:0.2 0.506 (0.027)\n",
      ">N_samples:0.30000000000000004 0.504 (0.022)\n",
      ">N_samples:0.4 0.507 (0.023)\n",
      ">N_samples:0.5 0.505 (0.019)\n",
      ">N_samples:0.6 0.507 (0.021)\n",
      ">N_samples:0.7000000000000001 0.499 (0.022)\n",
      ">N_samples:0.8 0.504 (0.026)\n",
      ">N_samples:0.9 0.506 (0.030)\n",
      ">N_samples:1.0 0.507 (0.021)\n"
     ]
    },
    {
     "data": {
      "image/png": "[encoded data removed]",
      "text/plain": [
       "<Figure size 432x288 with 1 Axes>"
      ]
     },
     "metadata": {
      "needs_background": "light"
     },
     "output_type": "display_data"
    }
   ],
   "source": [
    "def get_models():     # get a list of models to evaluate\n",
    "    \n",
    "    models = dict()\n",
    "    for i in np.arange(0.1, 1.1, 0.1):\n",
    "        models['N_samples:'+str(i)] = GBC(subsample=i)\n",
    "    return models\n",
    "\n",
    "models = get_models()  # get the models to evaluate\n",
    "results, names = list(), list()\n",
    "\n",
    "for name, model in models.items():   # evaluate the models and store results\n",
    "    \n",
    "    scores = evaluate_model(model, Xc_train, yc_train) # evaluate the model\n",
    "    \n",
    "    results.append(scores) # store the results\n",
    "    names.append(name)\n",
    "    \n",
    "    print('>%s %.3f (%.3f)' % (name, np.mean(scores), np.std(scores))) # summarize the performance along the way\n",
    "    \n",
    "\n",
    "plt.boxplot(results, labels=names, showmeans=True)  # plot model performance for comparison\n",
    "plt.show()"
   ]
  },
  {
   "cell_type": "markdown",
   "metadata": {
    "heading_collapsed": true
   },
   "source": [
    "#### Number of Features"
   ]
  },
  {
   "cell_type": "code",
   "execution_count": 652,
   "metadata": {
    "ExecuteTime": {
     "end_time": "2021-05-18T11:32:31.188874Z",
     "start_time": "2021-05-18T11:28:44.602722Z"
    },
    "hidden": true
   },
   "outputs": [
    {
     "name": "stdout",
     "output_type": "stream",
     "text": [
      ">N_feat:1 0.507 (0.021)\n",
      ">N_feat:2 0.510 (0.027)\n",
      ">N_feat:3 0.504 (0.026)\n",
      ">N_feat:4 0.511 (0.025)\n",
      ">N_feat:5 0.507 (0.024)\n",
      ">N_feat:6 0.503 (0.026)\n",
      ">N_feat:7 0.509 (0.022)\n",
      ">N_feat:8 0.507 (0.025)\n",
      ">N_feat:9 0.511 (0.021)\n",
      ">N_feat:10 0.503 (0.025)\n",
      ">N_feat:11 0.504 (0.024)\n",
      ">N_feat:12 0.509 (0.021)\n",
      ">N_feat:13 0.505 (0.024)\n",
      ">N_feat:14 0.507 (0.024)\n",
      ">N_feat:15 0.509 (0.021)\n",
      ">N_feat:16 0.500 (0.024)\n",
      ">N_feat:17 0.505 (0.022)\n",
      ">N_feat:18 0.505 (0.023)\n",
      ">N_feat:19 0.508 (0.022)\n"
     ]
    },
    {
     "data": {
      "image/png": "[encoded data removed]",
      "text/plain": [
       "<Figure size 432x288 with 1 Axes>"
      ]
     },
     "metadata": {
      "needs_background": "light"
     },
     "output_type": "display_data"
    }
   ],
   "source": [
    "def get_models():     # get a list of models to evaluate\n",
    "    \n",
    "    models = dict()\n",
    "    for j in range(1,20):\n",
    "        models['N_feat:'+str(j)] = GBC(max_features=j)\n",
    "    return models\n",
    "\n",
    "models = get_models()  # get the models to evaluate\n",
    "results, names = list(), list()\n",
    "\n",
    "for name, model in models.items():   # evaluate the models and store results\n",
    "    \n",
    "    scores = evaluate_model(model, Xc_train, yc_train) # evaluate the model\n",
    "    \n",
    "    results.append(scores) # store the results\n",
    "    names.append(name)\n",
    "    \n",
    "    print('>%s %.3f (%.3f)' % (name, np.mean(scores), np.std(scores))) # summarize the performance along the way\n",
    "    \n",
    "\n",
    "plt.boxplot(results, labels=names, showmeans=True)  # plot model performance for comparison\n",
    "plt.show()"
   ]
  },
  {
   "cell_type": "markdown",
   "metadata": {
    "heading_collapsed": true
   },
   "source": [
    "#### Learning Rate"
   ]
  },
  {
   "cell_type": "code",
   "execution_count": 653,
   "metadata": {
    "ExecuteTime": {
     "end_time": "2021-05-18T11:34:41.556073Z",
     "start_time": "2021-05-18T11:32:52.390348Z"
    },
    "hidden": true
   },
   "outputs": [
    {
     "name": "stdout",
     "output_type": "stream",
     "text": [
      ">L_rate:0.0001 0.501 (0.006)\n",
      ">L_rate:0.001 0.508 (0.016)\n",
      ">L_rate:0.01 0.509 (0.019)\n",
      ">L_rate:0.1 0.510 (0.022)\n",
      ">L_rate:1.0 0.500 (0.019)\n"
     ]
    },
    {
     "data": {
      "image/png": "[encoded data removed]",
      "text/plain": [
       "<Figure size 432x288 with 1 Axes>"
      ]
     },
     "metadata": {
      "needs_background": "light"
     },
     "output_type": "display_data"
    }
   ],
   "source": [
    "def get_models():     # get a list of models to evaluate\n",
    "    \n",
    "    models = dict()\n",
    "    for k in [0.0001, 0.001, 0.01, 0.1, 1.0]:\n",
    "        models['L_rate:'+str(k)] = GBC(learning_rate=k)\n",
    "    return models\n",
    "\n",
    "models = get_models()  # get the models to evaluate\n",
    "results, names = list(), list()\n",
    "\n",
    "for name, model in models.items():   # evaluate the models and store results\n",
    "    \n",
    "    scores = evaluate_model(model, Xc_train, yc_train) # evaluate the model\n",
    "    \n",
    "    results.append(scores) # store the results\n",
    "    names.append(name)\n",
    "    \n",
    "    print('>%s %.3f (%.3f)' % (name, np.mean(scores), np.std(scores))) # summarize the performance along the way\n",
    "    \n",
    "\n",
    "plt.boxplot(results, labels=names, showmeans=True)  # plot model performance for comparison\n",
    "plt.show()"
   ]
  },
  {
   "cell_type": "markdown",
   "metadata": {
    "heading_collapsed": true
   },
   "source": [
    "#### Tree Depth"
   ]
  },
  {
   "cell_type": "code",
   "execution_count": 654,
   "metadata": {
    "ExecuteTime": {
     "end_time": "2021-05-18T11:41:29.894605Z",
     "start_time": "2021-05-18T11:34:54.332409Z"
    },
    "hidden": true
   },
   "outputs": [
    {
     "name": "stdout",
     "output_type": "stream",
     "text": [
      ">T_depth:1 0.505 (0.028)\n",
      ">T_depth:2 0.506 (0.021)\n",
      ">T_depth:3 0.507 (0.022)\n",
      ">T_depth:4 0.504 (0.026)\n",
      ">T_depth:5 0.509 (0.028)\n",
      ">T_depth:6 0.507 (0.020)\n",
      ">T_depth:7 0.514 (0.020)\n",
      ">T_depth:8 0.510 (0.024)\n",
      ">T_depth:9 0.515 (0.023)\n",
      ">T_depth:10 0.510 (0.026)\n"
     ]
    },
    {
     "data": {
      "image/png": "[encoded data removed]",
      "text/plain": [
       "<Figure size 432x288 with 1 Axes>"
      ]
     },
     "metadata": {
      "needs_background": "light"
     },
     "output_type": "display_data"
    }
   ],
   "source": [
    "def get_models():     # get a list of models to evaluate\n",
    "    \n",
    "    models = dict()\n",
    "    for l in range(1,11):\n",
    "        models['T_depth:'+str(l)] = GBC(max_depth=l)\n",
    "    return models\n",
    "\n",
    "models = get_models()  # get the models to evaluate\n",
    "results, names = list(), list()\n",
    "\n",
    "for name, model in models.items():   # evaluate the models and store results\n",
    "    \n",
    "    scores = evaluate_model(model, Xc_train, yc_train) # evaluate the model\n",
    "    \n",
    "    results.append(scores) # store the results\n",
    "    names.append(name)\n",
    "    \n",
    "    print('>%s %.3f (%.3f)' % (name, np.mean(scores), np.std(scores))) # summarize the performance along the way\n",
    "    \n",
    "\n",
    "plt.boxplot(results, labels=names, showmeans=True)  # plot model performance for comparison\n",
    "plt.show()"
   ]
  },
  {
   "cell_type": "markdown",
   "metadata": {},
   "source": [
    "#### Grid Search"
   ]
  },
  {
   "cell_type": "markdown",
   "metadata": {},
   "source": [
    "##### Test 1"
   ]
  },
  {
   "cell_type": "code",
   "execution_count": 691,
   "metadata": {
    "ExecuteTime": {
     "end_time": "2021-05-18T14:03:17.887283Z",
     "start_time": "2021-05-18T12:25:06.758561Z"
    },
    "scrolled": true
   },
   "outputs": [
    {
     "name": "stdout",
     "output_type": "stream",
     "text": [
      "Fitting 30 folds for each of 320 candidates, totalling 9600 fits\n"
     ]
    },
    {
     "name": "stderr",
     "output_type": "stream",
     "text": [
      "[Parallel(n_jobs=-1)]: Using backend LokyBackend with 4 concurrent workers.\n",
      "[Parallel(n_jobs=-1)]: Done  26 tasks      | elapsed:    1.0s\n",
      "[Parallel(n_jobs=-1)]: Done 169 tasks      | elapsed:   15.1s\n",
      "[Parallel(n_jobs=-1)]: Done 293 tasks      | elapsed:  1.1min\n",
      "[Parallel(n_jobs=-1)]: Done 464 tasks      | elapsed:  3.1min\n",
      "[Parallel(n_jobs=-1)]: Done 685 tasks      | elapsed:  3.9min\n",
      "[Parallel(n_jobs=-1)]: Done 954 tasks      | elapsed:  9.0min\n",
      "[Parallel(n_jobs=-1)]: Done 1273 tasks      | elapsed: 11.3min\n",
      "[Parallel(n_jobs=-1)]: Done 1640 tasks      | elapsed: 16.0min\n",
      "[Parallel(n_jobs=-1)]: Done 2057 tasks      | elapsed: 22.5min\n",
      "[Parallel(n_jobs=-1)]: Done 2522 tasks      | elapsed: 24.8min\n",
      "[Parallel(n_jobs=-1)]: Done 3037 tasks      | elapsed: 28.7min\n",
      "[Parallel(n_jobs=-1)]: Done 3600 tasks      | elapsed: 34.9min\n",
      "[Parallel(n_jobs=-1)]: Done 4213 tasks      | elapsed: 41.9min\n",
      "[Parallel(n_jobs=-1)]: Done 4874 tasks      | elapsed: 46.9min\n",
      "[Parallel(n_jobs=-1)]: Done 5585 tasks      | elapsed: 54.2min\n",
      "[Parallel(n_jobs=-1)]: Done 6344 tasks      | elapsed: 62.0min\n",
      "[Parallel(n_jobs=-1)]: Done 7153 tasks      | elapsed: 69.4min\n",
      "[Parallel(n_jobs=-1)]: Done 8010 tasks      | elapsed: 79.1min\n",
      "[Parallel(n_jobs=-1)]: Done 8917 tasks      | elapsed: 85.5min\n",
      "[Parallel(n_jobs=-1)]: Done 9600 out of 9600 | elapsed: 98.1min finished\n"
     ]
    },
    {
     "name": "stdout",
     "output_type": "stream",
     "text": [
      "Best: 0.521077 using {'learning_rate': 0.1, 'max_depth': 9, 'n_estimators': 100, 'subsample': 0.7}\n",
      "0.502262 (0.000608) with: {'learning_rate': 0.0001, 'max_depth': 3, 'n_estimators': 10, 'subsample': 0.1}\n",
      "0.502262 (0.000608) with: {'learning_rate': 0.0001, 'max_depth': 3, 'n_estimators': 10, 'subsample': 0.5}\n",
      "0.502262 (0.000608) with: {'learning_rate': 0.0001, 'max_depth': 3, 'n_estimators': 10, 'subsample': 0.7}\n",
      "0.502262 (0.000608) with: {'learning_rate': 0.0001, 'max_depth': 3, 'n_estimators': 10, 'subsample': 1.0}\n",
      "0.502262 (0.000608) with: {'learning_rate': 0.0001, 'max_depth': 3, 'n_estimators': 50, 'subsample': 0.1}\n",
      "0.502262 (0.000608) with: {'learning_rate': 0.0001, 'max_depth': 3, 'n_estimators': 50, 'subsample': 0.5}\n",
      "0.502262 (0.000608) with: {'learning_rate': 0.0001, 'max_depth': 3, 'n_estimators': 50, 'subsample': 0.7}\n",
      "0.501464 (0.002337) with: {'learning_rate': 0.0001, 'max_depth': 3, 'n_estimators': 50, 'subsample': 1.0}\n",
      "0.502262 (0.000608) with: {'learning_rate': 0.0001, 'max_depth': 3, 'n_estimators': 100, 'subsample': 0.1}\n",
      "0.502173 (0.000726) with: {'learning_rate': 0.0001, 'max_depth': 3, 'n_estimators': 100, 'subsample': 0.5}\n",
      "0.501641 (0.001600) with: {'learning_rate': 0.0001, 'max_depth': 3, 'n_estimators': 100, 'subsample': 0.7}\n",
      "0.501197 (0.006113) with: {'learning_rate': 0.0001, 'max_depth': 3, 'n_estimators': 100, 'subsample': 1.0}\n",
      "0.501996 (0.001226) with: {'learning_rate': 0.0001, 'max_depth': 3, 'n_estimators': 200, 'subsample': 0.1}\n",
      "0.499512 (0.004242) with: {'learning_rate': 0.0001, 'max_depth': 3, 'n_estimators': 200, 'subsample': 0.5}\n",
      "0.498625 (0.004300) with: {'learning_rate': 0.0001, 'max_depth': 3, 'n_estimators': 200, 'subsample': 0.7}\n",
      "0.502350 (0.009606) with: {'learning_rate': 0.0001, 'max_depth': 3, 'n_estimators': 200, 'subsample': 1.0}\n",
      "0.502262 (0.000608) with: {'learning_rate': 0.0001, 'max_depth': 5, 'n_estimators': 10, 'subsample': 0.1}\n",
      "0.502262 (0.000608) with: {'learning_rate': 0.0001, 'max_depth': 5, 'n_estimators': 10, 'subsample': 0.5}\n",
      "0.502262 (0.000608) with: {'learning_rate': 0.0001, 'max_depth': 5, 'n_estimators': 10, 'subsample': 0.7}\n",
      "0.502262 (0.000608) with: {'learning_rate': 0.0001, 'max_depth': 5, 'n_estimators': 10, 'subsample': 1.0}\n",
      "0.502262 (0.000608) with: {'learning_rate': 0.0001, 'max_depth': 5, 'n_estimators': 50, 'subsample': 0.1}\n",
      "0.502262 (0.000608) with: {'learning_rate': 0.0001, 'max_depth': 5, 'n_estimators': 50, 'subsample': 0.5}\n",
      "0.502262 (0.000608) with: {'learning_rate': 0.0001, 'max_depth': 5, 'n_estimators': 50, 'subsample': 0.7}\n",
      "0.501465 (0.004100) with: {'learning_rate': 0.0001, 'max_depth': 5, 'n_estimators': 50, 'subsample': 1.0}\n",
      "0.502262 (0.000608) with: {'learning_rate': 0.0001, 'max_depth': 5, 'n_estimators': 100, 'subsample': 0.1}\n",
      "0.501641 (0.001671) with: {'learning_rate': 0.0001, 'max_depth': 5, 'n_estimators': 100, 'subsample': 0.5}\n",
      "0.500311 (0.002563) with: {'learning_rate': 0.0001, 'max_depth': 5, 'n_estimators': 100, 'subsample': 0.7}\n",
      "0.500932 (0.006350) with: {'learning_rate': 0.0001, 'max_depth': 5, 'n_estimators': 100, 'subsample': 1.0}\n",
      "0.502173 (0.002800) with: {'learning_rate': 0.0001, 'max_depth': 5, 'n_estimators': 200, 'subsample': 0.1}\n",
      "0.498980 (0.005069) with: {'learning_rate': 0.0001, 'max_depth': 5, 'n_estimators': 200, 'subsample': 0.5}\n",
      "0.497294 (0.006033) with: {'learning_rate': 0.0001, 'max_depth': 5, 'n_estimators': 200, 'subsample': 0.7}\n",
      "0.500489 (0.009987) with: {'learning_rate': 0.0001, 'max_depth': 5, 'n_estimators': 200, 'subsample': 1.0}\n",
      "0.502262 (0.000608) with: {'learning_rate': 0.0001, 'max_depth': 7, 'n_estimators': 10, 'subsample': 0.1}\n",
      "0.502262 (0.000608) with: {'learning_rate': 0.0001, 'max_depth': 7, 'n_estimators': 10, 'subsample': 0.5}\n",
      "0.502262 (0.000608) with: {'learning_rate': 0.0001, 'max_depth': 7, 'n_estimators': 10, 'subsample': 0.7}\n",
      "0.502262 (0.000608) with: {'learning_rate': 0.0001, 'max_depth': 7, 'n_estimators': 10, 'subsample': 1.0}\n",
      "0.502262 (0.000608) with: {'learning_rate': 0.0001, 'max_depth': 7, 'n_estimators': 50, 'subsample': 0.1}\n",
      "0.502262 (0.000608) with: {'learning_rate': 0.0001, 'max_depth': 7, 'n_estimators': 50, 'subsample': 0.5}\n",
      "0.502262 (0.000608) with: {'learning_rate': 0.0001, 'max_depth': 7, 'n_estimators': 50, 'subsample': 0.7}\n",
      "0.500312 (0.006126) with: {'learning_rate': 0.0001, 'max_depth': 7, 'n_estimators': 50, 'subsample': 1.0}\n",
      "0.502262 (0.000608) with: {'learning_rate': 0.0001, 'max_depth': 7, 'n_estimators': 100, 'subsample': 0.1}\n",
      "0.501020 (0.002517) with: {'learning_rate': 0.0001, 'max_depth': 7, 'n_estimators': 100, 'subsample': 0.5}\n",
      "0.500754 (0.003565) with: {'learning_rate': 0.0001, 'max_depth': 7, 'n_estimators': 100, 'subsample': 0.7}\n",
      "0.500754 (0.008689) with: {'learning_rate': 0.0001, 'max_depth': 7, 'n_estimators': 100, 'subsample': 1.0}\n",
      "0.501198 (0.004458) with: {'learning_rate': 0.0001, 'max_depth': 7, 'n_estimators': 200, 'subsample': 0.1}\n",
      "0.499512 (0.008666) with: {'learning_rate': 0.0001, 'max_depth': 7, 'n_estimators': 200, 'subsample': 0.5}\n",
      "0.498185 (0.008641) with: {'learning_rate': 0.0001, 'max_depth': 7, 'n_estimators': 200, 'subsample': 0.7}\n",
      "0.505457 (0.013933) with: {'learning_rate': 0.0001, 'max_depth': 7, 'n_estimators': 200, 'subsample': 1.0}\n",
      "0.502262 (0.000608) with: {'learning_rate': 0.0001, 'max_depth': 9, 'n_estimators': 10, 'subsample': 0.1}\n",
      "0.502262 (0.000608) with: {'learning_rate': 0.0001, 'max_depth': 9, 'n_estimators': 10, 'subsample': 0.5}\n",
      "0.502262 (0.000608) with: {'learning_rate': 0.0001, 'max_depth': 9, 'n_estimators': 10, 'subsample': 0.7}\n",
      "0.502262 (0.000608) with: {'learning_rate': 0.0001, 'max_depth': 9, 'n_estimators': 10, 'subsample': 1.0}\n",
      "0.502262 (0.000608) with: {'learning_rate': 0.0001, 'max_depth': 9, 'n_estimators': 50, 'subsample': 0.1}\n",
      "0.502262 (0.000608) with: {'learning_rate': 0.0001, 'max_depth': 9, 'n_estimators': 50, 'subsample': 0.5}\n",
      "0.502262 (0.000608) with: {'learning_rate': 0.0001, 'max_depth': 9, 'n_estimators': 50, 'subsample': 0.7}\n",
      "0.502174 (0.008897) with: {'learning_rate': 0.0001, 'max_depth': 9, 'n_estimators': 50, 'subsample': 1.0}\n",
      "0.502262 (0.000608) with: {'learning_rate': 0.0001, 'max_depth': 9, 'n_estimators': 100, 'subsample': 0.1}\n",
      "0.500577 (0.002948) with: {'learning_rate': 0.0001, 'max_depth': 9, 'n_estimators': 100, 'subsample': 0.5}\n",
      "0.499068 (0.003556) with: {'learning_rate': 0.0001, 'max_depth': 9, 'n_estimators': 100, 'subsample': 0.7}\n",
      "0.504659 (0.012868) with: {'learning_rate': 0.0001, 'max_depth': 9, 'n_estimators': 100, 'subsample': 1.0}\n",
      "0.500222 (0.007681) with: {'learning_rate': 0.0001, 'max_depth': 9, 'n_estimators': 200, 'subsample': 0.1}\n",
      "0.501110 (0.010004) with: {'learning_rate': 0.0001, 'max_depth': 9, 'n_estimators': 200, 'subsample': 0.5}\n",
      "0.501912 (0.011385) with: {'learning_rate': 0.0001, 'max_depth': 9, 'n_estimators': 200, 'subsample': 0.7}\n",
      "0.507140 (0.017282) with: {'learning_rate': 0.0001, 'max_depth': 9, 'n_estimators': 200, 'subsample': 1.0}\n",
      "0.502262 (0.002150) with: {'learning_rate': 0.001, 'max_depth': 3, 'n_estimators': 10, 'subsample': 0.1}\n",
      "0.502262 (0.000917) with: {'learning_rate': 0.001, 'max_depth': 3, 'n_estimators': 10, 'subsample': 0.5}\n",
      "0.501196 (0.003005) with: {'learning_rate': 0.001, 'max_depth': 3, 'n_estimators': 10, 'subsample': 0.7}\n",
      "0.501109 (0.005994) with: {'learning_rate': 0.001, 'max_depth': 3, 'n_estimators': 10, 'subsample': 1.0}\n",
      "0.502178 (0.018651) with: {'learning_rate': 0.001, 'max_depth': 3, 'n_estimators': 50, 'subsample': 0.1}\n",
      "0.503591 (0.012561) with: {'learning_rate': 0.001, 'max_depth': 3, 'n_estimators': 50, 'subsample': 0.5}\n",
      "0.502705 (0.010706) with: {'learning_rate': 0.001, 'max_depth': 3, 'n_estimators': 50, 'subsample': 0.7}\n",
      "0.503771 (0.013394) with: {'learning_rate': 0.001, 'max_depth': 3, 'n_estimators': 50, 'subsample': 1.0}\n",
      "0.513176 (0.019121) with: {'learning_rate': 0.001, 'max_depth': 3, 'n_estimators': 100, 'subsample': 0.1}\n",
      "0.508649 (0.017696) with: {'learning_rate': 0.001, 'max_depth': 3, 'n_estimators': 100, 'subsample': 0.5}\n",
      "0.506698 (0.014834) with: {'learning_rate': 0.001, 'max_depth': 3, 'n_estimators': 100, 'subsample': 0.7}\n",
      "0.506168 (0.014857) with: {'learning_rate': 0.001, 'max_depth': 3, 'n_estimators': 100, 'subsample': 1.0}\n",
      "0.506881 (0.021340) with: {'learning_rate': 0.001, 'max_depth': 3, 'n_estimators': 200, 'subsample': 0.1}\n",
      "0.512288 (0.019915) with: {'learning_rate': 0.001, 'max_depth': 3, 'n_estimators': 200, 'subsample': 0.5}\n",
      "0.512998 (0.020086) with: {'learning_rate': 0.001, 'max_depth': 3, 'n_estimators': 200, 'subsample': 0.7}\n",
      "0.507495 (0.015271) with: {'learning_rate': 0.001, 'max_depth': 3, 'n_estimators': 200, 'subsample': 1.0}\n",
      "0.502617 (0.004741) with: {'learning_rate': 0.001, 'max_depth': 5, 'n_estimators': 10, 'subsample': 0.1}\n",
      "0.501375 (0.003120) with: {'learning_rate': 0.001, 'max_depth': 5, 'n_estimators': 10, 'subsample': 0.5}\n",
      "0.500043 (0.004670) with: {'learning_rate': 0.001, 'max_depth': 5, 'n_estimators': 10, 'subsample': 0.7}\n",
      "0.500843 (0.006723) with: {'learning_rate': 0.001, 'max_depth': 5, 'n_estimators': 10, 'subsample': 1.0}\n",
      "0.498622 (0.019346) with: {'learning_rate': 0.001, 'max_depth': 5, 'n_estimators': 50, 'subsample': 0.1}\n",
      "0.504215 (0.014036) with: {'learning_rate': 0.001, 'max_depth': 5, 'n_estimators': 50, 'subsample': 0.5}\n",
      "0.507943 (0.014728) with: {'learning_rate': 0.001, 'max_depth': 5, 'n_estimators': 50, 'subsample': 0.7}\n",
      "0.504658 (0.012612) with: {'learning_rate': 0.001, 'max_depth': 5, 'n_estimators': 50, 'subsample': 1.0}\n",
      "0.507230 (0.020550) with: {'learning_rate': 0.001, 'max_depth': 5, 'n_estimators': 100, 'subsample': 0.1}\n",
      "0.511402 (0.021907) with: {'learning_rate': 0.001, 'max_depth': 5, 'n_estimators': 100, 'subsample': 0.5}\n",
      "0.510247 (0.017447) with: {'learning_rate': 0.001, 'max_depth': 5, 'n_estimators': 100, 'subsample': 0.7}\n",
      "0.511666 (0.014231) with: {'learning_rate': 0.001, 'max_depth': 5, 'n_estimators': 100, 'subsample': 1.0}\n",
      "0.509541 (0.021764) with: {'learning_rate': 0.001, 'max_depth': 5, 'n_estimators': 200, 'subsample': 0.1}\n",
      "0.512292 (0.025668) with: {'learning_rate': 0.001, 'max_depth': 5, 'n_estimators': 200, 'subsample': 0.5}\n",
      "0.512999 (0.025137) with: {'learning_rate': 0.001, 'max_depth': 5, 'n_estimators': 200, 'subsample': 0.7}\n",
      "0.509803 (0.019004) with: {'learning_rate': 0.001, 'max_depth': 5, 'n_estimators': 200, 'subsample': 1.0}\n",
      "0.501019 (0.008016) with: {'learning_rate': 0.001, 'max_depth': 7, 'n_estimators': 10, 'subsample': 0.1}\n",
      "0.501199 (0.005839) with: {'learning_rate': 0.001, 'max_depth': 7, 'n_estimators': 10, 'subsample': 0.5}\n",
      "0.500666 (0.005331) with: {'learning_rate': 0.001, 'max_depth': 7, 'n_estimators': 10, 'subsample': 0.7}\n",
      "0.500932 (0.008779) with: {'learning_rate': 0.001, 'max_depth': 7, 'n_estimators': 10, 'subsample': 1.0}\n",
      "0.503678 (0.024129) with: {'learning_rate': 0.001, 'max_depth': 7, 'n_estimators': 50, 'subsample': 0.1}\n",
      "0.509093 (0.020319) with: {'learning_rate': 0.001, 'max_depth': 7, 'n_estimators': 50, 'subsample': 0.5}\n",
      "0.505724 (0.016303) with: {'learning_rate': 0.001, 'max_depth': 7, 'n_estimators': 50, 'subsample': 0.7}\n",
      "0.510243 (0.017410) with: {'learning_rate': 0.001, 'max_depth': 7, 'n_estimators': 50, 'subsample': 1.0}\n",
      "0.511046 (0.023094) with: {'learning_rate': 0.001, 'max_depth': 7, 'n_estimators': 100, 'subsample': 0.1}\n",
      "0.508563 (0.023932) with: {'learning_rate': 0.001, 'max_depth': 7, 'n_estimators': 100, 'subsample': 0.5}\n",
      "0.507056 (0.021662) with: {'learning_rate': 0.001, 'max_depth': 7, 'n_estimators': 100, 'subsample': 0.7}\n",
      "0.510333 (0.019925) with: {'learning_rate': 0.001, 'max_depth': 7, 'n_estimators': 100, 'subsample': 1.0}\n",
      "0.504210 (0.020829) with: {'learning_rate': 0.001, 'max_depth': 7, 'n_estimators': 200, 'subsample': 0.1}\n",
      "0.510601 (0.021348) with: {'learning_rate': 0.001, 'max_depth': 7, 'n_estimators': 200, 'subsample': 0.5}\n",
      "0.509271 (0.021826) with: {'learning_rate': 0.001, 'max_depth': 7, 'n_estimators': 200, 'subsample': 0.7}\n",
      "0.507317 (0.021419) with: {'learning_rate': 0.001, 'max_depth': 7, 'n_estimators': 200, 'subsample': 1.0}\n",
      "0.500049 (0.011607) with: {'learning_rate': 0.001, 'max_depth': 9, 'n_estimators': 10, 'subsample': 0.1}\n",
      "0.500310 (0.006605) with: {'learning_rate': 0.001, 'max_depth': 9, 'n_estimators': 10, 'subsample': 0.5}\n",
      "0.500045 (0.006285) with: {'learning_rate': 0.001, 'max_depth': 9, 'n_estimators': 10, 'subsample': 0.7}\n",
      "0.504127 (0.012436) with: {'learning_rate': 0.001, 'max_depth': 9, 'n_estimators': 10, 'subsample': 1.0}\n",
      "0.507139 (0.022257) with: {'learning_rate': 0.001, 'max_depth': 9, 'n_estimators': 50, 'subsample': 0.1}\n",
      "0.508652 (0.019289) with: {'learning_rate': 0.001, 'max_depth': 9, 'n_estimators': 50, 'subsample': 0.5}\n",
      "0.507411 (0.020343) with: {'learning_rate': 0.001, 'max_depth': 9, 'n_estimators': 50, 'subsample': 0.7}\n",
      "0.511219 (0.018238) with: {'learning_rate': 0.001, 'max_depth': 9, 'n_estimators': 50, 'subsample': 1.0}\n",
      "0.508208 (0.022105) with: {'learning_rate': 0.001, 'max_depth': 9, 'n_estimators': 100, 'subsample': 0.1}\n",
      "0.512028 (0.023162) with: {'learning_rate': 0.001, 'max_depth': 9, 'n_estimators': 100, 'subsample': 0.5}\n",
      "0.512204 (0.020194) with: {'learning_rate': 0.001, 'max_depth': 9, 'n_estimators': 100, 'subsample': 0.7}\n",
      "0.511934 (0.022957) with: {'learning_rate': 0.001, 'max_depth': 9, 'n_estimators': 100, 'subsample': 1.0}\n",
      "0.513620 (0.027043) with: {'learning_rate': 0.001, 'max_depth': 9, 'n_estimators': 200, 'subsample': 0.1}\n",
      "0.516911 (0.024544) with: {'learning_rate': 0.001, 'max_depth': 9, 'n_estimators': 200, 'subsample': 0.5}\n",
      "0.513175 (0.022526) with: {'learning_rate': 0.001, 'max_depth': 9, 'n_estimators': 200, 'subsample': 0.7}\n",
      "0.502620 (0.023404) with: {'learning_rate': 0.001, 'max_depth': 9, 'n_estimators': 200, 'subsample': 1.0}\n",
      "0.504832 (0.026333) with: {'learning_rate': 0.01, 'max_depth': 3, 'n_estimators': 10, 'subsample': 0.1}\n",
      "0.507674 (0.020009) with: {'learning_rate': 0.01, 'max_depth': 3, 'n_estimators': 10, 'subsample': 0.5}\n",
      "0.503234 (0.018202) with: {'learning_rate': 0.01, 'max_depth': 3, 'n_estimators': 10, 'subsample': 0.7}\n",
      "0.506168 (0.015272) with: {'learning_rate': 0.01, 'max_depth': 3, 'n_estimators': 10, 'subsample': 1.0}\n",
      "0.505282 (0.020192) with: {'learning_rate': 0.01, 'max_depth': 3, 'n_estimators': 50, 'subsample': 0.1}\n",
      "0.510605 (0.026492) with: {'learning_rate': 0.01, 'max_depth': 3, 'n_estimators': 50, 'subsample': 0.5}\n",
      "0.511483 (0.023662) with: {'learning_rate': 0.01, 'max_depth': 3, 'n_estimators': 50, 'subsample': 0.7}\n",
      "0.509983 (0.017206) with: {'learning_rate': 0.01, 'max_depth': 3, 'n_estimators': 50, 'subsample': 1.0}\n",
      "0.501287 (0.022454) with: {'learning_rate': 0.01, 'max_depth': 3, 'n_estimators': 100, 'subsample': 0.1}\n",
      "0.508475 (0.029925) with: {'learning_rate': 0.01, 'max_depth': 3, 'n_estimators': 100, 'subsample': 0.5}\n",
      "0.512204 (0.023760) with: {'learning_rate': 0.01, 'max_depth': 3, 'n_estimators': 100, 'subsample': 0.7}\n",
      "0.510248 (0.021146) with: {'learning_rate': 0.01, 'max_depth': 3, 'n_estimators': 100, 'subsample': 1.0}\n",
      "0.507669 (0.022281) with: {'learning_rate': 0.01, 'max_depth': 3, 'n_estimators': 200, 'subsample': 0.1}\n",
      "0.509095 (0.024319) with: {'learning_rate': 0.01, 'max_depth': 3, 'n_estimators': 200, 'subsample': 0.5}\n",
      "0.503241 (0.022707) with: {'learning_rate': 0.01, 'max_depth': 3, 'n_estimators': 200, 'subsample': 0.7}\n",
      "0.509005 (0.020525) with: {'learning_rate': 0.01, 'max_depth': 3, 'n_estimators': 200, 'subsample': 1.0}\n",
      "0.505465 (0.025787) with: {'learning_rate': 0.01, 'max_depth': 5, 'n_estimators': 10, 'subsample': 0.1}\n",
      "0.503063 (0.018558) with: {'learning_rate': 0.01, 'max_depth': 5, 'n_estimators': 10, 'subsample': 0.5}\n",
      "0.502441 (0.016443) with: {'learning_rate': 0.01, 'max_depth': 5, 'n_estimators': 10, 'subsample': 0.7}\n",
      "0.510868 (0.015519) with: {'learning_rate': 0.01, 'max_depth': 5, 'n_estimators': 10, 'subsample': 1.0}\n",
      "0.507053 (0.023971) with: {'learning_rate': 0.01, 'max_depth': 5, 'n_estimators': 50, 'subsample': 0.1}\n",
      "0.504127 (0.027112) with: {'learning_rate': 0.01, 'max_depth': 5, 'n_estimators': 50, 'subsample': 0.5}\n",
      "0.499251 (0.025276) with: {'learning_rate': 0.01, 'max_depth': 5, 'n_estimators': 50, 'subsample': 0.7}\n",
      "0.508740 (0.018679) with: {'learning_rate': 0.01, 'max_depth': 5, 'n_estimators': 50, 'subsample': 1.0}\n",
      "0.505195 (0.024121) with: {'learning_rate': 0.01, 'max_depth': 5, 'n_estimators': 100, 'subsample': 0.1}\n",
      "0.510602 (0.023897) with: {'learning_rate': 0.01, 'max_depth': 5, 'n_estimators': 100, 'subsample': 0.5}\n",
      "0.505192 (0.018176) with: {'learning_rate': 0.01, 'max_depth': 5, 'n_estimators': 100, 'subsample': 0.7}\n",
      "0.509446 (0.022657) with: {'learning_rate': 0.01, 'max_depth': 5, 'n_estimators': 100, 'subsample': 1.0}\n",
      "0.504746 (0.026016) with: {'learning_rate': 0.01, 'max_depth': 5, 'n_estimators': 200, 'subsample': 0.1}\n",
      "0.508913 (0.025538) with: {'learning_rate': 0.01, 'max_depth': 5, 'n_estimators': 200, 'subsample': 0.5}\n",
      "0.505015 (0.025826) with: {'learning_rate': 0.01, 'max_depth': 5, 'n_estimators': 200, 'subsample': 0.7}\n",
      "0.508910 (0.024279) with: {'learning_rate': 0.01, 'max_depth': 5, 'n_estimators': 200, 'subsample': 1.0}\n",
      "0.499433 (0.024245) with: {'learning_rate': 0.01, 'max_depth': 7, 'n_estimators': 10, 'subsample': 0.1}\n",
      "0.503944 (0.019533) with: {'learning_rate': 0.01, 'max_depth': 7, 'n_estimators': 10, 'subsample': 0.5}\n",
      "0.508474 (0.021271) with: {'learning_rate': 0.01, 'max_depth': 7, 'n_estimators': 10, 'subsample': 0.7}\n",
      "0.510421 (0.020197) with: {'learning_rate': 0.01, 'max_depth': 7, 'n_estimators': 10, 'subsample': 1.0}\n",
      "0.505009 (0.024479) with: {'learning_rate': 0.01, 'max_depth': 7, 'n_estimators': 50, 'subsample': 0.1}\n",
      "0.504659 (0.029113) with: {'learning_rate': 0.01, 'max_depth': 7, 'n_estimators': 50, 'subsample': 0.5}\n",
      "0.510870 (0.030627) with: {'learning_rate': 0.01, 'max_depth': 7, 'n_estimators': 50, 'subsample': 0.7}\n",
      "0.501727 (0.018367) with: {'learning_rate': 0.01, 'max_depth': 7, 'n_estimators': 50, 'subsample': 1.0}\n",
      "0.507677 (0.029870) with: {'learning_rate': 0.01, 'max_depth': 7, 'n_estimators': 100, 'subsample': 0.1}\n",
      "0.510344 (0.027404) with: {'learning_rate': 0.01, 'max_depth': 7, 'n_estimators': 100, 'subsample': 0.5}\n",
      "0.507765 (0.018763) with: {'learning_rate': 0.01, 'max_depth': 7, 'n_estimators': 100, 'subsample': 0.7}\n",
      "0.499420 (0.017746) with: {'learning_rate': 0.01, 'max_depth': 7, 'n_estimators': 100, 'subsample': 1.0}\n",
      "0.504564 (0.020254) with: {'learning_rate': 0.01, 'max_depth': 7, 'n_estimators': 200, 'subsample': 0.1}\n",
      "0.503684 (0.024347) with: {'learning_rate': 0.01, 'max_depth': 7, 'n_estimators': 200, 'subsample': 0.5}\n",
      "0.504922 (0.025048) with: {'learning_rate': 0.01, 'max_depth': 7, 'n_estimators': 200, 'subsample': 0.7}\n",
      "0.502966 (0.027046) with: {'learning_rate': 0.01, 'max_depth': 7, 'n_estimators': 200, 'subsample': 1.0}\n",
      "0.499422 (0.018317) with: {'learning_rate': 0.01, 'max_depth': 9, 'n_estimators': 10, 'subsample': 0.1}\n",
      "0.504569 (0.016871) with: {'learning_rate': 0.01, 'max_depth': 9, 'n_estimators': 10, 'subsample': 0.5}\n",
      "0.507853 (0.023392) with: {'learning_rate': 0.01, 'max_depth': 9, 'n_estimators': 10, 'subsample': 0.7}\n",
      "0.511043 (0.021790) with: {'learning_rate': 0.01, 'max_depth': 9, 'n_estimators': 10, 'subsample': 1.0}\n",
      "0.509185 (0.023887) with: {'learning_rate': 0.01, 'max_depth': 9, 'n_estimators': 50, 'subsample': 0.1}\n",
      "0.508744 (0.024549) with: {'learning_rate': 0.01, 'max_depth': 9, 'n_estimators': 50, 'subsample': 0.5}\n",
      "0.507144 (0.020571) with: {'learning_rate': 0.01, 'max_depth': 9, 'n_estimators': 50, 'subsample': 0.7}\n",
      "0.501291 (0.022775) with: {'learning_rate': 0.01, 'max_depth': 9, 'n_estimators': 50, 'subsample': 1.0}\n",
      "0.508388 (0.025744) with: {'learning_rate': 0.01, 'max_depth': 9, 'n_estimators': 100, 'subsample': 0.1}\n",
      "0.508023 (0.027637) with: {'learning_rate': 0.01, 'max_depth': 9, 'n_estimators': 100, 'subsample': 0.5}\n",
      "0.508648 (0.021432) with: {'learning_rate': 0.01, 'max_depth': 9, 'n_estimators': 100, 'subsample': 0.7}\n",
      "0.505365 (0.021275) with: {'learning_rate': 0.01, 'max_depth': 9, 'n_estimators': 100, 'subsample': 1.0}\n",
      "0.504925 (0.018098) with: {'learning_rate': 0.01, 'max_depth': 9, 'n_estimators': 200, 'subsample': 0.1}\n",
      "0.515392 (0.022819) with: {'learning_rate': 0.01, 'max_depth': 9, 'n_estimators': 200, 'subsample': 0.5}\n",
      "0.507678 (0.021015) with: {'learning_rate': 0.01, 'max_depth': 9, 'n_estimators': 200, 'subsample': 0.7}\n",
      "0.502796 (0.020391) with: {'learning_rate': 0.01, 'max_depth': 9, 'n_estimators': 200, 'subsample': 1.0}\n",
      "0.505554 (0.027922) with: {'learning_rate': 0.1, 'max_depth': 3, 'n_estimators': 10, 'subsample': 0.1}\n",
      "0.503601 (0.018732) with: {'learning_rate': 0.1, 'max_depth': 3, 'n_estimators': 10, 'subsample': 0.5}\n",
      "0.503778 (0.027639) with: {'learning_rate': 0.1, 'max_depth': 3, 'n_estimators': 10, 'subsample': 0.7}\n",
      "0.512730 (0.024559) with: {'learning_rate': 0.1, 'max_depth': 3, 'n_estimators': 10, 'subsample': 1.0}\n",
      "0.505102 (0.024338) with: {'learning_rate': 0.1, 'max_depth': 3, 'n_estimators': 50, 'subsample': 0.1}\n",
      "0.501996 (0.023661) with: {'learning_rate': 0.1, 'max_depth': 3, 'n_estimators': 50, 'subsample': 0.5}\n",
      "0.500127 (0.025147) with: {'learning_rate': 0.1, 'max_depth': 3, 'n_estimators': 50, 'subsample': 0.7}\n",
      "0.509718 (0.022907) with: {'learning_rate': 0.1, 'max_depth': 3, 'n_estimators': 50, 'subsample': 1.0}\n",
      "0.503321 (0.021841) with: {'learning_rate': 0.1, 'max_depth': 3, 'n_estimators': 100, 'subsample': 0.1}\n",
      "0.503675 (0.023224) with: {'learning_rate': 0.1, 'max_depth': 3, 'n_estimators': 100, 'subsample': 0.5}\n",
      "0.505810 (0.022198) with: {'learning_rate': 0.1, 'max_depth': 3, 'n_estimators': 100, 'subsample': 0.7}\n",
      "0.506433 (0.024206) with: {'learning_rate': 0.1, 'max_depth': 3, 'n_estimators': 100, 'subsample': 1.0}\n",
      "0.503859 (0.027183) with: {'learning_rate': 0.1, 'max_depth': 3, 'n_estimators': 200, 'subsample': 0.1}\n",
      "0.500485 (0.020368) with: {'learning_rate': 0.1, 'max_depth': 3, 'n_estimators': 200, 'subsample': 0.5}\n",
      "0.506258 (0.022098) with: {'learning_rate': 0.1, 'max_depth': 3, 'n_estimators': 200, 'subsample': 0.7}\n",
      "0.497824 (0.030125) with: {'learning_rate': 0.1, 'max_depth': 3, 'n_estimators': 200, 'subsample': 1.0}\n",
      "0.505721 (0.028736) with: {'learning_rate': 0.1, 'max_depth': 5, 'n_estimators': 10, 'subsample': 0.1}\n",
      "0.499153 (0.024542) with: {'learning_rate': 0.1, 'max_depth': 5, 'n_estimators': 10, 'subsample': 0.5}\n",
      "0.504300 (0.028757) with: {'learning_rate': 0.1, 'max_depth': 5, 'n_estimators': 10, 'subsample': 0.7}\n",
      "0.503063 (0.020467) with: {'learning_rate': 0.1, 'max_depth': 5, 'n_estimators': 10, 'subsample': 1.0}\n",
      "0.501559 (0.023262) with: {'learning_rate': 0.1, 'max_depth': 5, 'n_estimators': 50, 'subsample': 0.1}\n",
      "0.506342 (0.019168) with: {'learning_rate': 0.1, 'max_depth': 5, 'n_estimators': 50, 'subsample': 0.5}\n",
      "0.506078 (0.021318) with: {'learning_rate': 0.1, 'max_depth': 5, 'n_estimators': 50, 'subsample': 0.7}\n",
      "0.505012 (0.022757) with: {'learning_rate': 0.1, 'max_depth': 5, 'n_estimators': 50, 'subsample': 1.0}\n",
      "0.502539 (0.024975) with: {'learning_rate': 0.1, 'max_depth': 5, 'n_estimators': 100, 'subsample': 0.1}\n",
      "0.498083 (0.026637) with: {'learning_rate': 0.1, 'max_depth': 5, 'n_estimators': 100, 'subsample': 0.5}\n",
      "0.502703 (0.022608) with: {'learning_rate': 0.1, 'max_depth': 5, 'n_estimators': 100, 'subsample': 0.7}\n",
      "0.500042 (0.022798) with: {'learning_rate': 0.1, 'max_depth': 5, 'n_estimators': 100, 'subsample': 1.0}\n",
      "0.502787 (0.022130) with: {'learning_rate': 0.1, 'max_depth': 5, 'n_estimators': 200, 'subsample': 0.1}\n",
      "0.507146 (0.020593) with: {'learning_rate': 0.1, 'max_depth': 5, 'n_estimators': 200, 'subsample': 0.5}\n",
      "0.505188 (0.016947) with: {'learning_rate': 0.1, 'max_depth': 5, 'n_estimators': 200, 'subsample': 0.7}\n",
      "0.500573 (0.026623) with: {'learning_rate': 0.1, 'max_depth': 5, 'n_estimators': 200, 'subsample': 1.0}\n",
      "0.498357 (0.026610) with: {'learning_rate': 0.1, 'max_depth': 7, 'n_estimators': 10, 'subsample': 0.1}\n",
      "0.500136 (0.024914) with: {'learning_rate': 0.1, 'max_depth': 7, 'n_estimators': 10, 'subsample': 0.5}\n",
      "0.502969 (0.020003) with: {'learning_rate': 0.1, 'max_depth': 7, 'n_estimators': 10, 'subsample': 0.7}\n",
      "0.503061 (0.021203) with: {'learning_rate': 0.1, 'max_depth': 7, 'n_estimators': 10, 'subsample': 1.0}\n",
      "0.503064 (0.029173) with: {'learning_rate': 0.1, 'max_depth': 7, 'n_estimators': 50, 'subsample': 0.1}\n",
      "0.506336 (0.029980) with: {'learning_rate': 0.1, 'max_depth': 7, 'n_estimators': 50, 'subsample': 0.5}\n",
      "0.501723 (0.020454) with: {'learning_rate': 0.1, 'max_depth': 7, 'n_estimators': 50, 'subsample': 0.7}\n",
      "0.501196 (0.025260) with: {'learning_rate': 0.1, 'max_depth': 7, 'n_estimators': 50, 'subsample': 1.0}\n",
      "0.500314 (0.022342) with: {'learning_rate': 0.1, 'max_depth': 7, 'n_estimators': 100, 'subsample': 0.1}\n",
      "0.507059 (0.023604) with: {'learning_rate': 0.1, 'max_depth': 7, 'n_estimators': 100, 'subsample': 0.5}\n",
      "0.507934 (0.016555) with: {'learning_rate': 0.1, 'max_depth': 7, 'n_estimators': 100, 'subsample': 0.7}\n",
      "0.508387 (0.022797) with: {'learning_rate': 0.1, 'max_depth': 7, 'n_estimators': 100, 'subsample': 1.0}\n",
      "0.493482 (0.021196) with: {'learning_rate': 0.1, 'max_depth': 7, 'n_estimators': 200, 'subsample': 0.1}\n",
      "0.506430 (0.020349) with: {'learning_rate': 0.1, 'max_depth': 7, 'n_estimators': 200, 'subsample': 0.5}\n",
      "0.513615 (0.022578) with: {'learning_rate': 0.1, 'max_depth': 7, 'n_estimators': 200, 'subsample': 0.7}\n",
      "0.505633 (0.023068) with: {'learning_rate': 0.1, 'max_depth': 7, 'n_estimators': 200, 'subsample': 1.0}\n",
      "0.504916 (0.024767) with: {'learning_rate': 0.1, 'max_depth': 9, 'n_estimators': 10, 'subsample': 0.1}\n",
      "0.505371 (0.027831) with: {'learning_rate': 0.1, 'max_depth': 9, 'n_estimators': 10, 'subsample': 0.5}\n",
      "0.497116 (0.022698) with: {'learning_rate': 0.1, 'max_depth': 9, 'n_estimators': 10, 'subsample': 0.7}\n",
      "0.507050 (0.028661) with: {'learning_rate': 0.1, 'max_depth': 9, 'n_estimators': 10, 'subsample': 1.0}\n",
      "0.496320 (0.020977) with: {'learning_rate': 0.1, 'max_depth': 9, 'n_estimators': 50, 'subsample': 0.1}\n",
      "0.508028 (0.030417) with: {'learning_rate': 0.1, 'max_depth': 9, 'n_estimators': 50, 'subsample': 0.5}\n",
      "0.506611 (0.021904) with: {'learning_rate': 0.1, 'max_depth': 9, 'n_estimators': 50, 'subsample': 0.7}\n",
      "0.503416 (0.019030) with: {'learning_rate': 0.1, 'max_depth': 9, 'n_estimators': 50, 'subsample': 1.0}\n",
      "0.503244 (0.026014) with: {'learning_rate': 0.1, 'max_depth': 9, 'n_estimators': 100, 'subsample': 0.1}\n",
      "0.509636 (0.020531) with: {'learning_rate': 0.1, 'max_depth': 9, 'n_estimators': 100, 'subsample': 0.5}\n",
      "0.521077 (0.022959) with: {'learning_rate': 0.1, 'max_depth': 9, 'n_estimators': 100, 'subsample': 0.7}\n",
      "0.504749 (0.020302) with: {'learning_rate': 0.1, 'max_depth': 9, 'n_estimators': 100, 'subsample': 1.0}\n",
      "0.510335 (0.019979) with: {'learning_rate': 0.1, 'max_depth': 9, 'n_estimators': 200, 'subsample': 0.1}\n",
      "0.512469 (0.018923) with: {'learning_rate': 0.1, 'max_depth': 9, 'n_estimators': 200, 'subsample': 0.5}\n",
      "0.512021 (0.021178) with: {'learning_rate': 0.1, 'max_depth': 9, 'n_estimators': 200, 'subsample': 0.7}\n",
      "0.511839 (0.025065) with: {'learning_rate': 0.1, 'max_depth': 9, 'n_estimators': 200, 'subsample': 1.0}\n",
      "0.505547 (0.025967) with: {'learning_rate': 1.0, 'max_depth': 3, 'n_estimators': 10, 'subsample': 0.1}\n",
      "0.497106 (0.020134) with: {'learning_rate': 1.0, 'max_depth': 3, 'n_estimators': 10, 'subsample': 0.5}\n",
      "0.504927 (0.022751) with: {'learning_rate': 1.0, 'max_depth': 3, 'n_estimators': 10, 'subsample': 0.7}\n",
      "0.503066 (0.024431) with: {'learning_rate': 1.0, 'max_depth': 3, 'n_estimators': 10, 'subsample': 1.0}\n",
      "0.505632 (0.022668) with: {'learning_rate': 1.0, 'max_depth': 3, 'n_estimators': 50, 'subsample': 0.1}\n",
      "0.502073 (0.029408) with: {'learning_rate': 1.0, 'max_depth': 3, 'n_estimators': 50, 'subsample': 0.5}\n",
      "0.492952 (0.025297) with: {'learning_rate': 1.0, 'max_depth': 3, 'n_estimators': 50, 'subsample': 0.7}\n",
      "0.497474 (0.022163) with: {'learning_rate': 1.0, 'max_depth': 3, 'n_estimators': 50, 'subsample': 1.0}\n",
      "0.496934 (0.023215) with: {'learning_rate': 1.0, 'max_depth': 3, 'n_estimators': 100, 'subsample': 0.1}\n",
      "0.497648 (0.020440) with: {'learning_rate': 1.0, 'max_depth': 3, 'n_estimators': 100, 'subsample': 0.5}\n",
      "0.507502 (0.024104) with: {'learning_rate': 1.0, 'max_depth': 3, 'n_estimators': 100, 'subsample': 0.7}\n",
      "0.497914 (0.025212) with: {'learning_rate': 1.0, 'max_depth': 3, 'n_estimators': 100, 'subsample': 1.0}\n",
      "0.502619 (0.019066) with: {'learning_rate': 1.0, 'max_depth': 3, 'n_estimators': 200, 'subsample': 0.1}\n",
      "0.501906 (0.024304) with: {'learning_rate': 1.0, 'max_depth': 3, 'n_estimators': 200, 'subsample': 0.5}\n",
      "0.503849 (0.020371) with: {'learning_rate': 1.0, 'max_depth': 3, 'n_estimators': 200, 'subsample': 0.7}\n",
      "0.498894 (0.020716) with: {'learning_rate': 1.0, 'max_depth': 3, 'n_estimators': 200, 'subsample': 1.0}\n",
      "0.498194 (0.030928) with: {'learning_rate': 1.0, 'max_depth': 5, 'n_estimators': 10, 'subsample': 0.1}\n",
      "0.491884 (0.022210) with: {'learning_rate': 1.0, 'max_depth': 5, 'n_estimators': 10, 'subsample': 0.5}\n",
      "0.499250 (0.017495) with: {'learning_rate': 1.0, 'max_depth': 5, 'n_estimators': 10, 'subsample': 0.7}\n",
      "0.503509 (0.025202) with: {'learning_rate': 1.0, 'max_depth': 5, 'n_estimators': 10, 'subsample': 1.0}\n",
      "0.498362 (0.028779) with: {'learning_rate': 1.0, 'max_depth': 5, 'n_estimators': 50, 'subsample': 0.1}\n",
      "0.502799 (0.026538) with: {'learning_rate': 1.0, 'max_depth': 5, 'n_estimators': 50, 'subsample': 0.5}\n",
      "0.507580 (0.022832) with: {'learning_rate': 1.0, 'max_depth': 5, 'n_estimators': 50, 'subsample': 0.7}\n",
      "0.504649 (0.027133) with: {'learning_rate': 1.0, 'max_depth': 5, 'n_estimators': 50, 'subsample': 1.0}\n",
      "0.493834 (0.019239) with: {'learning_rate': 1.0, 'max_depth': 5, 'n_estimators': 100, 'subsample': 0.1}\n",
      "0.515129 (0.029675) with: {'learning_rate': 1.0, 'max_depth': 5, 'n_estimators': 100, 'subsample': 0.5}\n",
      "0.512905 (0.018134) with: {'learning_rate': 1.0, 'max_depth': 5, 'n_estimators': 100, 'subsample': 0.7}\n",
      "0.506356 (0.023279) with: {'learning_rate': 1.0, 'max_depth': 5, 'n_estimators': 100, 'subsample': 1.0}\n",
      "0.498891 (0.023117) with: {'learning_rate': 1.0, 'max_depth': 5, 'n_estimators': 200, 'subsample': 0.1}\n",
      "0.502170 (0.028691) with: {'learning_rate': 1.0, 'max_depth': 5, 'n_estimators': 200, 'subsample': 0.5}\n",
      "0.508651 (0.023059) with: {'learning_rate': 1.0, 'max_depth': 5, 'n_estimators': 200, 'subsample': 0.7}\n",
      "0.508390 (0.027179) with: {'learning_rate': 1.0, 'max_depth': 5, 'n_estimators': 200, 'subsample': 1.0}\n",
      "0.497026 (0.025329) with: {'learning_rate': 1.0, 'max_depth': 7, 'n_estimators': 10, 'subsample': 0.1}\n",
      "0.511488 (0.021931) with: {'learning_rate': 1.0, 'max_depth': 7, 'n_estimators': 10, 'subsample': 0.5}\n",
      "0.504123 (0.021276) with: {'learning_rate': 1.0, 'max_depth': 7, 'n_estimators': 10, 'subsample': 0.7}\n",
      "0.500668 (0.026668) with: {'learning_rate': 1.0, 'max_depth': 7, 'n_estimators': 10, 'subsample': 1.0}\n",
      "0.501471 (0.018196) with: {'learning_rate': 1.0, 'max_depth': 7, 'n_estimators': 50, 'subsample': 0.1}\n",
      "0.508998 (0.022780) with: {'learning_rate': 1.0, 'max_depth': 7, 'n_estimators': 50, 'subsample': 0.5}\n",
      "0.500745 (0.025143) with: {'learning_rate': 1.0, 'max_depth': 7, 'n_estimators': 50, 'subsample': 0.7}\n",
      "0.500569 (0.022061) with: {'learning_rate': 1.0, 'max_depth': 7, 'n_estimators': 50, 'subsample': 1.0}\n",
      "0.504754 (0.027939) with: {'learning_rate': 1.0, 'max_depth': 7, 'n_estimators': 100, 'subsample': 0.1}\n",
      "0.503414 (0.018045) with: {'learning_rate': 1.0, 'max_depth': 7, 'n_estimators': 100, 'subsample': 0.5}\n",
      "0.513795 (0.022520) with: {'learning_rate': 1.0, 'max_depth': 7, 'n_estimators': 100, 'subsample': 0.7}\n",
      "0.506432 (0.022357) with: {'learning_rate': 1.0, 'max_depth': 7, 'n_estimators': 100, 'subsample': 1.0}\n",
      "0.506517 (0.028189) with: {'learning_rate': 1.0, 'max_depth': 7, 'n_estimators': 200, 'subsample': 0.1}\n",
      "0.498709 (0.018266) with: {'learning_rate': 1.0, 'max_depth': 7, 'n_estimators': 200, 'subsample': 0.5}\n",
      "0.498618 (0.021730) with: {'learning_rate': 1.0, 'max_depth': 7, 'n_estimators': 200, 'subsample': 0.7}\n",
      "0.511665 (0.019243) with: {'learning_rate': 1.0, 'max_depth': 7, 'n_estimators': 200, 'subsample': 1.0}\n",
      "0.493999 (0.026645) with: {'learning_rate': 1.0, 'max_depth': 9, 'n_estimators': 10, 'subsample': 0.1}\n",
      "0.508650 (0.025613) with: {'learning_rate': 1.0, 'max_depth': 9, 'n_estimators': 10, 'subsample': 0.5}\n",
      "0.507489 (0.027728) with: {'learning_rate': 1.0, 'max_depth': 9, 'n_estimators': 10, 'subsample': 0.7}\n",
      "0.497646 (0.023400) with: {'learning_rate': 1.0, 'max_depth': 9, 'n_estimators': 10, 'subsample': 1.0}\n",
      "0.498006 (0.029779) with: {'learning_rate': 1.0, 'max_depth': 9, 'n_estimators': 50, 'subsample': 0.1}\n",
      "0.504652 (0.023620) with: {'learning_rate': 1.0, 'max_depth': 9, 'n_estimators': 50, 'subsample': 0.5}\n",
      "0.497552 (0.030168) with: {'learning_rate': 1.0, 'max_depth': 9, 'n_estimators': 50, 'subsample': 0.7}\n",
      "0.504486 (0.023073) with: {'learning_rate': 1.0, 'max_depth': 9, 'n_estimators': 50, 'subsample': 1.0}\n",
      "0.501381 (0.024557) with: {'learning_rate': 1.0, 'max_depth': 9, 'n_estimators': 100, 'subsample': 0.1}\n",
      "0.501370 (0.023455) with: {'learning_rate': 1.0, 'max_depth': 9, 'n_estimators': 100, 'subsample': 0.5}\n",
      "0.513091 (0.025955) with: {'learning_rate': 1.0, 'max_depth': 9, 'n_estimators': 100, 'subsample': 0.7}\n",
      "0.510431 (0.024924) with: {'learning_rate': 1.0, 'max_depth': 9, 'n_estimators': 100, 'subsample': 1.0}\n",
      "0.508214 (0.032878) with: {'learning_rate': 1.0, 'max_depth': 9, 'n_estimators': 200, 'subsample': 0.1}\n",
      "0.502982 (0.031202) with: {'learning_rate': 1.0, 'max_depth': 9, 'n_estimators': 200, 'subsample': 0.5}\n",
      "0.507938 (0.023802) with: {'learning_rate': 1.0, 'max_depth': 9, 'n_estimators': 200, 'subsample': 0.7}\n",
      "0.510686 (0.026671) with: {'learning_rate': 1.0, 'max_depth': 9, 'n_estimators': 200, 'subsample': 1.0}\n"
     ]
    }
   ],
   "source": [
    "model = GBC()\n",
    "\n",
    "grid = dict()  # define the grid of values to search\n",
    "\n",
    "grid['n_estimators'] = [10, 50, 100, 200]\n",
    "grid['learning_rate'] = [0.0001, 0.001, 0.01, 0.1, 1.0]\n",
    "grid['subsample'] = [0.1, 0.5, 0.7, 1.0]\n",
    "grid['max_depth'] = [3, 5, 7, 9]\n",
    "\n",
    "cv = RepeatedStratifiedKFold(n_splits=10, n_repeats=3, random_state=1) # define the evaluation procedure\n",
    "\n",
    "\n",
    "grid_search = GridSearchCV(estimator=model, param_grid=grid, n_jobs=-1, cv=cv, scoring='accuracy',verbose=4)  # define the grid search procedure\n",
    "\n",
    "\n",
    "grid_result = grid_search.fit(Xc_train, yc_train)  # execute the grid search\n",
    "\n",
    "\n",
    "print(\"Best: %f using %s\" % (grid_result.best_score_, grid_result.best_params_)) # summarize the best score and configuration\n",
    "\n",
    "means = grid_result.cv_results_['mean_test_score'] # summarize all scores that were evaluated\n",
    "stds = grid_result.cv_results_['std_test_score']\n",
    "params = grid_result.cv_results_['params']\n",
    "\n",
    "for mean, stdev, param in zip(means, stds, params):\n",
    "    print(\"%f (%f) with: %r\" % (mean, stdev, param))"
   ]
  },
  {
   "cell_type": "code",
   "execution_count": 817,
   "metadata": {
    "ExecuteTime": {
     "end_time": "2021-05-18T16:44:55.658002Z",
     "start_time": "2021-05-18T16:44:55.650495Z"
    }
   },
   "outputs": [
    {
     "name": "stdout",
     "output_type": "stream",
     "text": [
      "0.516911 (0.024544) with: {'learning_rate': 0.001, 'max_depth': 9, 'n_estimators': 200, 'subsample': 0.5}\n",
      "0.515392 (0.022819) with: {'learning_rate': 0.01, 'max_depth': 9, 'n_estimators': 200, 'subsample': 0.5}\n",
      "0.521077 (0.022959) with: {'learning_rate': 0.1, 'max_depth': 9, 'n_estimators': 100, 'subsample': 0.7}\n",
      "0.515129 (0.029675) with: {'learning_rate': 1.0, 'max_depth': 5, 'n_estimators': 100, 'subsample': 0.5}\n",
      "0\n",
      "3\n",
      "1\n",
      "0\n"
     ]
    }
   ],
   "source": [
    "lear0_001 = 0\n",
    "lear0_01 = 0\n",
    "lear0_1 = 0\n",
    "lear1 = 0\n",
    "for mean, stdev, param in zip(means, stds, params):\n",
    "    if mean>0.514:\n",
    "        print(\"%f (%f) with: %r\" % (mean, stdev, param))\n",
    "        key = 'subsample'\n",
    "        check = [0.1, 0.5, 0.7, 1.0]\n",
    "        \n",
    "        if param[key] == check[0]:\n",
    "            lear0_001 += 1\n",
    "        if param[key] == check[1]:\n",
    "            lear0_01 += 1\n",
    "        if param[key] == check[2]:\n",
    "            lear0_1 += 1\n",
    "        if param[key] == check[3]:\n",
    "            lear1 += 1\n",
    "print(lear0_001)\n",
    "print(lear0_01)\n",
    "print(lear0_1)\n",
    "print(lear1)\n",
    "\n",
    "# ACCURACY > 0.51\n",
    "\n",
    "# LEARNING RATE\n",
    "\n",
    "# 0.001 : 19\n",
    "# 0.01 : 11\n",
    "# 0.1 : 7 *\n",
    "# 1.0 : 8\n",
    "\n",
    "# MAX DEPTH\n",
    "\n",
    "# 3 : 8\n",
    "# 5 : 9\n",
    "# 7 : 11\n",
    "# 9 : 17 *\n",
    "\n",
    "# NUMBER OF TREES\n",
    "\n",
    "# 10 : 5\n",
    "# 50 : 5\n",
    "# 100 : 19 *\n",
    "# 200 : 16\n",
    "\n",
    "# NUMBER OF SAMPLES\n",
    "\n",
    "# 0.1 : 4\n",
    "# 0.5 : 13\n",
    "# 0.7 : 14 *\n",
    "# 1.0 : 14\n",
    "\n",
    "# 0.521077 (0.022959) with: {'learning_rate': 0.1, 'max_depth': 9, 'n_estimators': 100, 'subsample': 0.7}"
   ]
  },
  {
   "cell_type": "code",
   "execution_count": 791,
   "metadata": {
    "ExecuteTime": {
     "end_time": "2021-05-18T15:42:51.548595Z",
     "start_time": "2021-05-18T15:42:47.914258Z"
    }
   },
   "outputs": [
    {
     "name": "stdout",
     "output_type": "stream",
     "text": [
      "[(0.10652107103560206, 'HL_Range'), (0.09445375635503606, 'ADX'), (0.08385612620057663, 'Change %'), (0.08344645459749654, 'MACD - Signal'), (0.08230731764764433, 'MA_100_diff'), (0.08134783323862958, 'RSI 20'), (0.07179083514255853, 'EMA_150_diff'), (0.0708390861034374, 'Signal'), (0.06864690738316186, 'MA_50_diff'), (0.06546605080160842, 'MACD'), (0.059575323694405546, 'Open'), (0.04688184485149064, 'MA_50'), (0.04391703761593328, 'MA_100'), (0.03990525724805511, 'EMA_150'), (0.0005328613308185395, 'Oversold'), (0.0005122367535453026, 'Overbought')]\n"
     ]
    }
   ],
   "source": [
    "model = GBC(learning_rate= 0.1, max_depth= 9, n_estimators= 100, subsample= 0.7,random_state=1)\n",
    "\n",
    "model.fit(Xc_train, yc_train)\n",
    "\n",
    "yc_predict = model.predict(Xc_test)\n",
    "\n",
    "feature_rank = [(model.feature_importances_[i],list(Xc_test.columns)[i]) for i in range(len(Xc_test.columns))]\n",
    "feature_rank.sort(reverse=True)\n",
    "print(feature_rank)"
   ]
  },
  {
   "cell_type": "code",
   "execution_count": 790,
   "metadata": {
    "ExecuteTime": {
     "end_time": "2021-05-18T15:42:22.694643Z",
     "start_time": "2021-05-18T15:42:22.309271Z"
    },
    "scrolled": true
   },
   "outputs": [
    {
     "name": "stdout",
     "output_type": "stream",
     "text": [
      "Good:  2.425\n",
      "Bad:  2.596\n",
      "Profit:  -0.17\n",
      "Accuracy:  0.506\n",
      "Kappa:  0.0128\n"
     ]
    }
   ],
   "source": [
    "yc_predict = model.predict(Xc_test)\n",
    "good = 0\n",
    "bad = 0\n",
    "for i in range(len(yc_test)):\n",
    "    \n",
    "    if list(yc_test)[i]==list(yc_predict)[i]:\n",
    "        good += np.abs(list(Xc_test_change['Change'])[i])\n",
    "    else:\n",
    "        bad += np.abs(list(Xc_test_change['Change'])[i])\n",
    "print('Good: ',np.round(good,3))\n",
    "print('Bad: ',np.round(bad,3))\n",
    "print('Profit: ',np.round(good-bad,3))\n",
    "\n",
    "accuracy = sum(yc_test==yc_predict)/len(yc_test)\n",
    "print('Accuracy: ',np.round(accuracy,3))\n",
    "\n",
    "kappa = cohen_kappa_score(yc_test,yc_predict)\n",
    "\n",
    "print('Kappa: ',np.round(kappa,4))"
   ]
  },
  {
   "cell_type": "markdown",
   "metadata": {
    "heading_collapsed": true
   },
   "source": [
    "##### RFE"
   ]
  },
  {
   "cell_type": "code",
   "execution_count": 806,
   "metadata": {
    "ExecuteTime": {
     "end_time": "2021-05-18T16:17:19.373215Z",
     "start_time": "2021-05-18T16:11:09.764174Z"
    },
    "hidden": true
   },
   "outputs": [
    {
     "name": "stdout",
     "output_type": "stream",
     "text": [
      "Optimum number of features: 14\n",
      "Score with 14 features: 0.520213\n"
     ]
    }
   ],
   "source": [
    "nof_list=np.arange(1,16)    #no of features        \n",
    "high_score=0\n",
    "\n",
    "nof=0           #Variable to store the optimum features \n",
    "score_list =[]\n",
    "\n",
    "for n in range(len(nof_list)):\n",
    "    \n",
    "    model = GBC(learning_rate= 0.1, max_depth= 9, n_estimators= 100, subsample= 0.7,random_state=1)\n",
    "    rfe = RFE(model,n_features_to_select=nof_list[n])\n",
    "    Xc_train_rfe = rfe.fit_transform(Xc_train,yc_train)\n",
    "    Xc_test_rfe = rfe.transform(Xc_test)\n",
    "    model.fit(Xc_train_rfe,yc_train)\n",
    "    score = model.score(Xc_test_rfe,yc_test)\n",
    "    score_list.append(score)\n",
    "    if(score>high_score):\n",
    "        high_score = score\n",
    "        nof = nof_list[n]\n",
    "print(\"Optimum number of features: %d\" %nof)\n",
    "print(\"Score with %d features: %f\" % (nof, high_score))"
   ]
  },
  {
   "cell_type": "code",
   "execution_count": 811,
   "metadata": {
    "ExecuteTime": {
     "end_time": "2021-05-18T16:38:19.569252Z",
     "start_time": "2021-05-18T16:38:06.694951Z"
    },
    "hidden": true
   },
   "outputs": [
    {
     "name": "stdout",
     "output_type": "stream",
     "text": [
      "[ True  True  True  True False False  True  True  True  True  True  True\n",
      "  True  True  True  True]\n",
      "[1 1 1 1 3 2 1 1 1 1 1 1 1 1 1 1]\n",
      "[(1, 'ADX'), (1, 'Change %'), (1, 'EMA_150'), (1, 'EMA_150_diff'), (1, 'HL_Range'), (1, 'MACD'), (1, 'MACD - Signal'), (1, 'MA_100'), (1, 'MA_100_diff'), (1, 'MA_50'), (1, 'MA_50_diff'), (1, 'Open'), (1, 'RSI 20'), (1, 'Signal'), (2, 'Oversold'), (3, 'Overbought')]\n"
     ]
    }
   ],
   "source": [
    "model = GBC(learning_rate= 0.1, max_depth= 9, n_estimators= 100, subsample= 0.7,random_state=1)\n",
    "#Initializing RFE model\n",
    "rfe = RFE(model,n_features_to_select=14)\n",
    "#Transforming data using RFE\n",
    "Xc_rfe = rfe.fit_transform(Xc_train,yc_train)  \n",
    "#Fitting the data to model\n",
    "model.fit(Xc_rfe,yc_train)\n",
    "print(rfe.support_)\n",
    "print(rfe.ranking_)\n",
    "\n",
    "feature_rank = [(rfe.ranking_[i],list(Xc_test.columns)[i]) for i in range(len(Xc_test.columns))]\n",
    "feature_rank.sort()\n",
    "print(feature_rank)"
   ]
  },
  {
   "cell_type": "markdown",
   "metadata": {
    "heading_collapsed": true
   },
   "source": [
    "##### Test 2"
   ]
  },
  {
   "cell_type": "code",
   "execution_count": 818,
   "metadata": {
    "ExecuteTime": {
     "end_time": "2021-05-18T20:26:15.061678Z",
     "start_time": "2021-05-18T16:49:42.429783Z"
    },
    "hidden": true
   },
   "outputs": [
    {
     "name": "stdout",
     "output_type": "stream",
     "text": [
      "Fitting 30 folds for each of 256 candidates, totalling 7680 fits\n"
     ]
    },
    {
     "name": "stderr",
     "output_type": "stream",
     "text": [
      "[Parallel(n_jobs=-1)]: Using backend LokyBackend with 4 concurrent workers.\n",
      "[Parallel(n_jobs=-1)]: Done  33 tasks      | elapsed:   25.1s\n",
      "[Parallel(n_jobs=-1)]: Done 154 tasks      | elapsed:  1.7min\n",
      "[Parallel(n_jobs=-1)]: Done 357 tasks      | elapsed:  4.6min\n",
      "[Parallel(n_jobs=-1)]: Done 640 tasks      | elapsed:  9.4min\n",
      "[Parallel(n_jobs=-1)]: Done 1005 tasks      | elapsed: 18.2min\n",
      "[Parallel(n_jobs=-1)]: Done 1450 tasks      | elapsed: 33.6min\n",
      "[Parallel(n_jobs=-1)]: Done 1977 tasks      | elapsed: 51.6min\n",
      "[Parallel(n_jobs=-1)]: Done 2584 tasks      | elapsed: 63.2min\n",
      "[Parallel(n_jobs=-1)]: Done 3273 tasks      | elapsed: 83.0min\n",
      "[Parallel(n_jobs=-1)]: Done 4042 tasks      | elapsed: 112.7min\n",
      "[Parallel(n_jobs=-1)]: Done 4893 tasks      | elapsed: 130.1min\n",
      "[Parallel(n_jobs=-1)]: Done 5824 tasks      | elapsed: 164.4min\n",
      "[Parallel(n_jobs=-1)]: Done 6837 tasks      | elapsed: 194.4min\n",
      "[Parallel(n_jobs=-1)]: Done 7680 out of 7680 | elapsed: 216.5min finished\n"
     ]
    },
    {
     "name": "stdout",
     "output_type": "stream",
     "text": [
      "Best: 0.522584 using {'learning_rate': 0.1, 'max_depth': 13, 'n_estimators': 130, 'subsample': 0.5}\n",
      "0.511849 (0.020931) with: {'learning_rate': 0.001, 'max_depth': 7, 'n_estimators': 80, 'subsample': 0.5}\n",
      "0.506701 (0.018464) with: {'learning_rate': 0.001, 'max_depth': 7, 'n_estimators': 80, 'subsample': 0.6}\n",
      "0.510961 (0.020561) with: {'learning_rate': 0.001, 'max_depth': 7, 'n_estimators': 80, 'subsample': 0.7}\n",
      "0.512291 (0.019239) with: {'learning_rate': 0.001, 'max_depth': 7, 'n_estimators': 80, 'subsample': 0.8}\n",
      "0.508919 (0.021736) with: {'learning_rate': 0.001, 'max_depth': 7, 'n_estimators': 100, 'subsample': 0.5}\n",
      "0.513620 (0.021598) with: {'learning_rate': 0.001, 'max_depth': 7, 'n_estimators': 100, 'subsample': 0.6}\n",
      "0.509007 (0.019964) with: {'learning_rate': 0.001, 'max_depth': 7, 'n_estimators': 100, 'subsample': 0.7}\n",
      "0.513350 (0.020138) with: {'learning_rate': 0.001, 'max_depth': 7, 'n_estimators': 100, 'subsample': 0.8}\n",
      "0.506343 (0.020463) with: {'learning_rate': 0.001, 'max_depth': 7, 'n_estimators': 130, 'subsample': 0.5}\n",
      "0.508738 (0.026241) with: {'learning_rate': 0.001, 'max_depth': 7, 'n_estimators': 130, 'subsample': 0.6}\n",
      "0.507858 (0.022160) with: {'learning_rate': 0.001, 'max_depth': 7, 'n_estimators': 130, 'subsample': 0.7}\n",
      "0.510339 (0.021094) with: {'learning_rate': 0.001, 'max_depth': 7, 'n_estimators': 130, 'subsample': 0.8}\n",
      "0.513799 (0.027327) with: {'learning_rate': 0.001, 'max_depth': 7, 'n_estimators': 160, 'subsample': 0.5}\n",
      "0.508920 (0.024321) with: {'learning_rate': 0.001, 'max_depth': 7, 'n_estimators': 160, 'subsample': 0.6}\n",
      "0.510071 (0.019308) with: {'learning_rate': 0.001, 'max_depth': 7, 'n_estimators': 160, 'subsample': 0.7}\n",
      "0.507943 (0.019753) with: {'learning_rate': 0.001, 'max_depth': 7, 'n_estimators': 160, 'subsample': 0.8}\n",
      "0.513090 (0.022322) with: {'learning_rate': 0.001, 'max_depth': 9, 'n_estimators': 80, 'subsample': 0.5}\n",
      "0.510431 (0.022028) with: {'learning_rate': 0.001, 'max_depth': 9, 'n_estimators': 80, 'subsample': 0.6}\n",
      "0.508650 (0.020337) with: {'learning_rate': 0.001, 'max_depth': 9, 'n_estimators': 80, 'subsample': 0.7}\n",
      "0.511849 (0.020635) with: {'learning_rate': 0.001, 'max_depth': 9, 'n_estimators': 80, 'subsample': 0.8}\n",
      "0.513884 (0.024925) with: {'learning_rate': 0.001, 'max_depth': 9, 'n_estimators': 100, 'subsample': 0.5}\n",
      "0.514948 (0.027064) with: {'learning_rate': 0.001, 'max_depth': 9, 'n_estimators': 100, 'subsample': 0.6}\n",
      "0.510778 (0.020936) with: {'learning_rate': 0.001, 'max_depth': 9, 'n_estimators': 100, 'subsample': 0.7}\n",
      "0.509361 (0.017122) with: {'learning_rate': 0.001, 'max_depth': 9, 'n_estimators': 100, 'subsample': 0.8}\n",
      "0.508836 (0.021195) with: {'learning_rate': 0.001, 'max_depth': 9, 'n_estimators': 130, 'subsample': 0.5}\n",
      "0.510070 (0.020008) with: {'learning_rate': 0.001, 'max_depth': 9, 'n_estimators': 130, 'subsample': 0.6}\n",
      "0.511230 (0.021525) with: {'learning_rate': 0.001, 'max_depth': 9, 'n_estimators': 130, 'subsample': 0.7}\n",
      "0.503509 (0.020527) with: {'learning_rate': 0.001, 'max_depth': 9, 'n_estimators': 130, 'subsample': 0.8}\n",
      "0.512378 (0.021790) with: {'learning_rate': 0.001, 'max_depth': 9, 'n_estimators': 160, 'subsample': 0.5}\n",
      "0.513886 (0.018561) with: {'learning_rate': 0.001, 'max_depth': 9, 'n_estimators': 160, 'subsample': 0.6}\n",
      "0.512292 (0.018561) with: {'learning_rate': 0.001, 'max_depth': 9, 'n_estimators': 160, 'subsample': 0.7}\n",
      "0.507586 (0.023699) with: {'learning_rate': 0.001, 'max_depth': 9, 'n_estimators': 160, 'subsample': 0.8}\n",
      "0.513975 (0.024142) with: {'learning_rate': 0.001, 'max_depth': 11, 'n_estimators': 80, 'subsample': 0.5}\n",
      "0.511673 (0.024614) with: {'learning_rate': 0.001, 'max_depth': 11, 'n_estimators': 80, 'subsample': 0.6}\n",
      "0.510076 (0.020747) with: {'learning_rate': 0.001, 'max_depth': 11, 'n_estimators': 80, 'subsample': 0.7}\n",
      "0.512291 (0.018820) with: {'learning_rate': 0.001, 'max_depth': 11, 'n_estimators': 80, 'subsample': 0.8}\n",
      "0.515305 (0.021897) with: {'learning_rate': 0.001, 'max_depth': 11, 'n_estimators': 100, 'subsample': 0.5}\n",
      "0.518504 (0.024226) with: {'learning_rate': 0.001, 'max_depth': 11, 'n_estimators': 100, 'subsample': 0.6}\n",
      "0.513885 (0.021688) with: {'learning_rate': 0.001, 'max_depth': 11, 'n_estimators': 100, 'subsample': 0.7}\n",
      "0.514240 (0.022185) with: {'learning_rate': 0.001, 'max_depth': 11, 'n_estimators': 100, 'subsample': 0.8}\n",
      "0.512821 (0.021595) with: {'learning_rate': 0.001, 'max_depth': 11, 'n_estimators': 130, 'subsample': 0.5}\n",
      "0.512465 (0.021121) with: {'learning_rate': 0.001, 'max_depth': 11, 'n_estimators': 130, 'subsample': 0.6}\n",
      "0.516109 (0.019488) with: {'learning_rate': 0.001, 'max_depth': 11, 'n_estimators': 130, 'subsample': 0.7}\n",
      "0.510073 (0.024792) with: {'learning_rate': 0.001, 'max_depth': 11, 'n_estimators': 130, 'subsample': 0.8}\n",
      "0.512024 (0.023602) with: {'learning_rate': 0.001, 'max_depth': 11, 'n_estimators': 160, 'subsample': 0.5}\n",
      "0.516549 (0.021549) with: {'learning_rate': 0.001, 'max_depth': 11, 'n_estimators': 160, 'subsample': 0.6}\n",
      "0.511314 (0.020832) with: {'learning_rate': 0.001, 'max_depth': 11, 'n_estimators': 160, 'subsample': 0.7}\n",
      "0.515219 (0.023386) with: {'learning_rate': 0.001, 'max_depth': 11, 'n_estimators': 160, 'subsample': 0.8}\n",
      "0.519473 (0.018261) with: {'learning_rate': 0.001, 'max_depth': 13, 'n_estimators': 80, 'subsample': 0.5}\n",
      "0.516997 (0.024276) with: {'learning_rate': 0.001, 'max_depth': 13, 'n_estimators': 80, 'subsample': 0.6}\n",
      "0.520184 (0.023744) with: {'learning_rate': 0.001, 'max_depth': 13, 'n_estimators': 80, 'subsample': 0.7}\n",
      "0.515222 (0.026415) with: {'learning_rate': 0.001, 'max_depth': 13, 'n_estimators': 80, 'subsample': 0.8}\n",
      "0.513715 (0.025791) with: {'learning_rate': 0.001, 'max_depth': 13, 'n_estimators': 100, 'subsample': 0.5}\n",
      "0.511314 (0.027082) with: {'learning_rate': 0.001, 'max_depth': 13, 'n_estimators': 100, 'subsample': 0.6}\n",
      "0.516197 (0.021939) with: {'learning_rate': 0.001, 'max_depth': 13, 'n_estimators': 100, 'subsample': 0.7}\n",
      "0.511578 (0.025119) with: {'learning_rate': 0.001, 'max_depth': 13, 'n_estimators': 100, 'subsample': 0.8}\n",
      "0.512646 (0.021188) with: {'learning_rate': 0.001, 'max_depth': 13, 'n_estimators': 130, 'subsample': 0.5}\n",
      "0.515214 (0.023993) with: {'learning_rate': 0.001, 'max_depth': 13, 'n_estimators': 130, 'subsample': 0.6}\n",
      "0.513532 (0.023528) with: {'learning_rate': 0.001, 'max_depth': 13, 'n_estimators': 130, 'subsample': 0.7}\n",
      "0.515838 (0.024085) with: {'learning_rate': 0.001, 'max_depth': 13, 'n_estimators': 130, 'subsample': 0.8}\n",
      "0.515135 (0.024058) with: {'learning_rate': 0.001, 'max_depth': 13, 'n_estimators': 160, 'subsample': 0.5}\n",
      "0.515309 (0.023842) with: {'learning_rate': 0.001, 'max_depth': 13, 'n_estimators': 160, 'subsample': 0.6}\n",
      "0.513800 (0.025806) with: {'learning_rate': 0.001, 'max_depth': 13, 'n_estimators': 160, 'subsample': 0.7}\n",
      "0.517971 (0.028854) with: {'learning_rate': 0.001, 'max_depth': 13, 'n_estimators': 160, 'subsample': 0.8}\n",
      "0.512919 (0.017071) with: {'learning_rate': 0.01, 'max_depth': 7, 'n_estimators': 80, 'subsample': 0.5}\n",
      "0.505638 (0.025507) with: {'learning_rate': 0.01, 'max_depth': 7, 'n_estimators': 80, 'subsample': 0.6}\n",
      "0.509002 (0.025454) with: {'learning_rate': 0.01, 'max_depth': 7, 'n_estimators': 80, 'subsample': 0.7}\n",
      "0.508031 (0.019804) with: {'learning_rate': 0.01, 'max_depth': 7, 'n_estimators': 80, 'subsample': 0.8}\n",
      "0.506249 (0.020991) with: {'learning_rate': 0.01, 'max_depth': 7, 'n_estimators': 100, 'subsample': 0.5}\n",
      "0.508737 (0.023689) with: {'learning_rate': 0.01, 'max_depth': 7, 'n_estimators': 100, 'subsample': 0.6}\n",
      "0.510777 (0.023102) with: {'learning_rate': 0.01, 'max_depth': 7, 'n_estimators': 100, 'subsample': 0.7}\n",
      "0.498981 (0.023122) with: {'learning_rate': 0.01, 'max_depth': 7, 'n_estimators': 100, 'subsample': 0.8}\n",
      "0.514509 (0.025162) with: {'learning_rate': 0.01, 'max_depth': 7, 'n_estimators': 130, 'subsample': 0.5}\n",
      "0.510074 (0.027817) with: {'learning_rate': 0.01, 'max_depth': 7, 'n_estimators': 130, 'subsample': 0.6}\n",
      "0.507585 (0.022652) with: {'learning_rate': 0.01, 'max_depth': 7, 'n_estimators': 130, 'subsample': 0.7}\n",
      "0.506432 (0.023687) with: {'learning_rate': 0.01, 'max_depth': 7, 'n_estimators': 130, 'subsample': 0.8}\n",
      "0.505102 (0.025166) with: {'learning_rate': 0.01, 'max_depth': 7, 'n_estimators': 160, 'subsample': 0.5}\n",
      "0.506789 (0.018379) with: {'learning_rate': 0.01, 'max_depth': 7, 'n_estimators': 160, 'subsample': 0.6}\n",
      "0.508389 (0.024339) with: {'learning_rate': 0.01, 'max_depth': 7, 'n_estimators': 160, 'subsample': 0.7}\n",
      "0.512380 (0.023744) with: {'learning_rate': 0.01, 'max_depth': 7, 'n_estimators': 160, 'subsample': 0.8}\n",
      "0.504126 (0.027826) with: {'learning_rate': 0.01, 'max_depth': 9, 'n_estimators': 80, 'subsample': 0.5}\n",
      "0.509096 (0.024155) with: {'learning_rate': 0.01, 'max_depth': 9, 'n_estimators': 80, 'subsample': 0.6}\n",
      "0.509185 (0.021514) with: {'learning_rate': 0.01, 'max_depth': 9, 'n_estimators': 80, 'subsample': 0.7}\n",
      "0.501197 (0.022327) with: {'learning_rate': 0.01, 'max_depth': 9, 'n_estimators': 80, 'subsample': 0.8}\n",
      "0.511052 (0.024058) with: {'learning_rate': 0.01, 'max_depth': 9, 'n_estimators': 100, 'subsample': 0.5}\n",
      "0.512020 (0.022843) with: {'learning_rate': 0.01, 'max_depth': 9, 'n_estimators': 100, 'subsample': 0.6}\n",
      "0.513627 (0.022739) with: {'learning_rate': 0.01, 'max_depth': 9, 'n_estimators': 100, 'subsample': 0.7}\n",
      "0.510334 (0.019272) with: {'learning_rate': 0.01, 'max_depth': 9, 'n_estimators': 100, 'subsample': 0.8}\n",
      "0.509272 (0.020047) with: {'learning_rate': 0.01, 'max_depth': 9, 'n_estimators': 130, 'subsample': 0.5}\n",
      "0.508831 (0.022913) with: {'learning_rate': 0.01, 'max_depth': 9, 'n_estimators': 130, 'subsample': 0.6}\n",
      "0.509268 (0.018423) with: {'learning_rate': 0.01, 'max_depth': 9, 'n_estimators': 130, 'subsample': 0.7}\n",
      "0.505280 (0.020091) with: {'learning_rate': 0.01, 'max_depth': 9, 'n_estimators': 130, 'subsample': 0.8}\n",
      "0.511136 (0.021450) with: {'learning_rate': 0.01, 'max_depth': 9, 'n_estimators': 160, 'subsample': 0.5}\n",
      "0.513796 (0.026613) with: {'learning_rate': 0.01, 'max_depth': 9, 'n_estimators': 160, 'subsample': 0.6}\n",
      "0.513707 (0.020381) with: {'learning_rate': 0.01, 'max_depth': 9, 'n_estimators': 160, 'subsample': 0.7}\n",
      "0.508214 (0.022950) with: {'learning_rate': 0.01, 'max_depth': 9, 'n_estimators': 160, 'subsample': 0.8}\n",
      "0.512822 (0.023467) with: {'learning_rate': 0.01, 'max_depth': 11, 'n_estimators': 80, 'subsample': 0.5}\n",
      "0.514506 (0.018635) with: {'learning_rate': 0.01, 'max_depth': 11, 'n_estimators': 80, 'subsample': 0.6}\n",
      "0.516903 (0.023614) with: {'learning_rate': 0.01, 'max_depth': 11, 'n_estimators': 80, 'subsample': 0.7}\n",
      "0.508654 (0.022153) with: {'learning_rate': 0.01, 'max_depth': 11, 'n_estimators': 80, 'subsample': 0.8}\n",
      "0.517966 (0.021856) with: {'learning_rate': 0.01, 'max_depth': 11, 'n_estimators': 100, 'subsample': 0.5}\n",
      "0.509357 (0.025429) with: {'learning_rate': 0.01, 'max_depth': 11, 'n_estimators': 100, 'subsample': 0.6}\n",
      "0.516019 (0.021719) with: {'learning_rate': 0.01, 'max_depth': 11, 'n_estimators': 100, 'subsample': 0.7}\n",
      "0.513084 (0.021978) with: {'learning_rate': 0.01, 'max_depth': 11, 'n_estimators': 100, 'subsample': 0.8}\n",
      "0.515129 (0.026061) with: {'learning_rate': 0.01, 'max_depth': 11, 'n_estimators': 130, 'subsample': 0.5}\n",
      "0.513702 (0.021729) with: {'learning_rate': 0.01, 'max_depth': 11, 'n_estimators': 130, 'subsample': 0.6}\n",
      "0.518853 (0.023649) with: {'learning_rate': 0.01, 'max_depth': 11, 'n_estimators': 130, 'subsample': 0.7}\n",
      "0.509357 (0.020246) with: {'learning_rate': 0.01, 'max_depth': 11, 'n_estimators': 130, 'subsample': 0.8}\n",
      "0.511671 (0.017650) with: {'learning_rate': 0.01, 'max_depth': 11, 'n_estimators': 160, 'subsample': 0.5}\n",
      "0.514863 (0.022458) with: {'learning_rate': 0.01, 'max_depth': 11, 'n_estimators': 160, 'subsample': 0.6}\n",
      "0.511044 (0.021621) with: {'learning_rate': 0.01, 'max_depth': 11, 'n_estimators': 160, 'subsample': 0.7}\n",
      "0.510158 (0.017642) with: {'learning_rate': 0.01, 'max_depth': 11, 'n_estimators': 160, 'subsample': 0.8}\n",
      "0.515133 (0.020047) with: {'learning_rate': 0.01, 'max_depth': 13, 'n_estimators': 80, 'subsample': 0.5}\n",
      "0.512470 (0.021126) with: {'learning_rate': 0.01, 'max_depth': 13, 'n_estimators': 80, 'subsample': 0.6}\n",
      "0.519477 (0.022022) with: {'learning_rate': 0.01, 'max_depth': 13, 'n_estimators': 80, 'subsample': 0.7}\n",
      "0.514505 (0.020512) with: {'learning_rate': 0.01, 'max_depth': 13, 'n_estimators': 80, 'subsample': 0.8}\n",
      "0.519477 (0.023263) with: {'learning_rate': 0.01, 'max_depth': 13, 'n_estimators': 100, 'subsample': 0.5}\n",
      "0.511490 (0.021713) with: {'learning_rate': 0.01, 'max_depth': 13, 'n_estimators': 100, 'subsample': 0.6}\n",
      "0.510161 (0.021160) with: {'learning_rate': 0.01, 'max_depth': 13, 'n_estimators': 100, 'subsample': 0.7}\n",
      "0.513889 (0.028934) with: {'learning_rate': 0.01, 'max_depth': 13, 'n_estimators': 100, 'subsample': 0.8}\n",
      "0.514511 (0.025741) with: {'learning_rate': 0.01, 'max_depth': 13, 'n_estimators': 130, 'subsample': 0.5}\n",
      "0.514236 (0.028911) with: {'learning_rate': 0.01, 'max_depth': 13, 'n_estimators': 130, 'subsample': 0.6}\n",
      "0.510424 (0.026781) with: {'learning_rate': 0.01, 'max_depth': 13, 'n_estimators': 130, 'subsample': 0.7}\n",
      "0.516196 (0.024341) with: {'learning_rate': 0.01, 'max_depth': 13, 'n_estimators': 130, 'subsample': 0.8}\n",
      "0.517970 (0.020723) with: {'learning_rate': 0.01, 'max_depth': 13, 'n_estimators': 160, 'subsample': 0.5}\n",
      "0.515663 (0.025388) with: {'learning_rate': 0.01, 'max_depth': 13, 'n_estimators': 160, 'subsample': 0.6}\n",
      "0.512205 (0.023725) with: {'learning_rate': 0.01, 'max_depth': 13, 'n_estimators': 160, 'subsample': 0.7}\n",
      "0.513268 (0.023346) with: {'learning_rate': 0.01, 'max_depth': 13, 'n_estimators': 160, 'subsample': 0.8}\n",
      "0.505267 (0.021687) with: {'learning_rate': 0.1, 'max_depth': 7, 'n_estimators': 80, 'subsample': 0.5}\n",
      "0.513881 (0.023247) with: {'learning_rate': 0.1, 'max_depth': 7, 'n_estimators': 80, 'subsample': 0.6}\n",
      "0.502882 (0.021201) with: {'learning_rate': 0.1, 'max_depth': 7, 'n_estimators': 80, 'subsample': 0.7}\n",
      "0.506268 (0.021811) with: {'learning_rate': 0.1, 'max_depth': 7, 'n_estimators': 80, 'subsample': 0.8}\n",
      "0.507145 (0.026483) with: {'learning_rate': 0.1, 'max_depth': 7, 'n_estimators': 100, 'subsample': 0.5}\n",
      "0.513804 (0.018560) with: {'learning_rate': 0.1, 'max_depth': 7, 'n_estimators': 100, 'subsample': 0.6}\n",
      "0.503950 (0.026449) with: {'learning_rate': 0.1, 'max_depth': 7, 'n_estimators': 100, 'subsample': 0.7}\n",
      "0.505278 (0.023438) with: {'learning_rate': 0.1, 'max_depth': 7, 'n_estimators': 100, 'subsample': 0.8}\n",
      "0.509630 (0.023822) with: {'learning_rate': 0.1, 'max_depth': 7, 'n_estimators': 130, 'subsample': 0.5}\n",
      "0.509805 (0.024979) with: {'learning_rate': 0.1, 'max_depth': 7, 'n_estimators': 130, 'subsample': 0.6}\n",
      "0.506170 (0.021505) with: {'learning_rate': 0.1, 'max_depth': 7, 'n_estimators': 130, 'subsample': 0.7}\n",
      "0.507938 (0.018440) with: {'learning_rate': 0.1, 'max_depth': 7, 'n_estimators': 130, 'subsample': 0.8}\n",
      "0.505188 (0.020720) with: {'learning_rate': 0.1, 'max_depth': 7, 'n_estimators': 160, 'subsample': 0.5}\n",
      "0.509977 (0.021625) with: {'learning_rate': 0.1, 'max_depth': 7, 'n_estimators': 160, 'subsample': 0.6}\n",
      "0.510250 (0.026066) with: {'learning_rate': 0.1, 'max_depth': 7, 'n_estimators': 160, 'subsample': 0.7}\n",
      "0.508555 (0.020045) with: {'learning_rate': 0.1, 'max_depth': 7, 'n_estimators': 160, 'subsample': 0.8}\n",
      "0.505192 (0.024559) with: {'learning_rate': 0.1, 'max_depth': 9, 'n_estimators': 80, 'subsample': 0.5}\n",
      "0.515664 (0.028129) with: {'learning_rate': 0.1, 'max_depth': 9, 'n_estimators': 80, 'subsample': 0.6}\n",
      "0.512465 (0.021340) with: {'learning_rate': 0.1, 'max_depth': 9, 'n_estimators': 80, 'subsample': 0.7}\n",
      "0.505101 (0.019941) with: {'learning_rate': 0.1, 'max_depth': 9, 'n_estimators': 80, 'subsample': 0.8}\n",
      "0.516906 (0.017974) with: {'learning_rate': 0.1, 'max_depth': 9, 'n_estimators': 100, 'subsample': 0.5}\n",
      "0.511402 (0.028838) with: {'learning_rate': 0.1, 'max_depth': 9, 'n_estimators': 100, 'subsample': 0.6}\n",
      "0.503327 (0.020482) with: {'learning_rate': 0.1, 'max_depth': 9, 'n_estimators': 100, 'subsample': 0.7}\n",
      "0.508029 (0.021170) with: {'learning_rate': 0.1, 'max_depth': 9, 'n_estimators': 100, 'subsample': 0.8}\n",
      "0.519481 (0.021742) with: {'learning_rate': 0.1, 'max_depth': 9, 'n_estimators': 130, 'subsample': 0.5}\n",
      "0.512733 (0.021242) with: {'learning_rate': 0.1, 'max_depth': 9, 'n_estimators': 130, 'subsample': 0.6}\n",
      "0.514239 (0.025398) with: {'learning_rate': 0.1, 'max_depth': 9, 'n_estimators': 130, 'subsample': 0.7}\n",
      "0.511234 (0.025008) with: {'learning_rate': 0.1, 'max_depth': 9, 'n_estimators': 130, 'subsample': 0.8}\n",
      "0.516900 (0.024112) with: {'learning_rate': 0.1, 'max_depth': 9, 'n_estimators': 160, 'subsample': 0.5}\n",
      "0.512112 (0.023741) with: {'learning_rate': 0.1, 'max_depth': 9, 'n_estimators': 160, 'subsample': 0.6}\n",
      "0.505374 (0.019647) with: {'learning_rate': 0.1, 'max_depth': 9, 'n_estimators': 160, 'subsample': 0.7}\n",
      "0.514414 (0.016078) with: {'learning_rate': 0.1, 'max_depth': 9, 'n_estimators': 160, 'subsample': 0.8}\n",
      "0.510783 (0.021532) with: {'learning_rate': 0.1, 'max_depth': 11, 'n_estimators': 80, 'subsample': 0.5}\n",
      "0.515400 (0.023725) with: {'learning_rate': 0.1, 'max_depth': 11, 'n_estimators': 80, 'subsample': 0.6}\n",
      "0.515930 (0.021710) with: {'learning_rate': 0.1, 'max_depth': 11, 'n_estimators': 80, 'subsample': 0.7}\n",
      "0.506258 (0.023024) with: {'learning_rate': 0.1, 'max_depth': 11, 'n_estimators': 80, 'subsample': 0.8}\n",
      "0.512295 (0.028736) with: {'learning_rate': 0.1, 'max_depth': 11, 'n_estimators': 100, 'subsample': 0.5}\n",
      "0.516195 (0.020465) with: {'learning_rate': 0.1, 'max_depth': 11, 'n_estimators': 100, 'subsample': 0.6}\n",
      "0.516722 (0.018180) with: {'learning_rate': 0.1, 'max_depth': 11, 'n_estimators': 100, 'subsample': 0.7}\n",
      "0.511846 (0.021071) with: {'learning_rate': 0.1, 'max_depth': 11, 'n_estimators': 100, 'subsample': 0.8}\n",
      "0.508745 (0.019180) with: {'learning_rate': 0.1, 'max_depth': 11, 'n_estimators': 130, 'subsample': 0.5}\n",
      "0.517080 (0.022075) with: {'learning_rate': 0.1, 'max_depth': 11, 'n_estimators': 130, 'subsample': 0.6}\n",
      "0.515309 (0.022146) with: {'learning_rate': 0.1, 'max_depth': 11, 'n_estimators': 130, 'subsample': 0.7}\n",
      "0.508564 (0.024048) with: {'learning_rate': 0.1, 'max_depth': 11, 'n_estimators': 130, 'subsample': 0.8}\n",
      "0.509097 (0.020318) with: {'learning_rate': 0.1, 'max_depth': 11, 'n_estimators': 160, 'subsample': 0.5}\n",
      "0.511846 (0.018938) with: {'learning_rate': 0.1, 'max_depth': 11, 'n_estimators': 160, 'subsample': 0.6}\n",
      "0.511317 (0.025132) with: {'learning_rate': 0.1, 'max_depth': 11, 'n_estimators': 160, 'subsample': 0.7}\n",
      "0.511144 (0.024512) with: {'learning_rate': 0.1, 'max_depth': 11, 'n_estimators': 160, 'subsample': 0.8}\n",
      "0.505634 (0.021015) with: {'learning_rate': 0.1, 'max_depth': 13, 'n_estimators': 80, 'subsample': 0.5}\n",
      "0.508035 (0.016329) with: {'learning_rate': 0.1, 'max_depth': 13, 'n_estimators': 80, 'subsample': 0.6}\n",
      "0.514238 (0.023346) with: {'learning_rate': 0.1, 'max_depth': 13, 'n_estimators': 80, 'subsample': 0.7}\n",
      "0.515928 (0.018170) with: {'learning_rate': 0.1, 'max_depth': 13, 'n_estimators': 80, 'subsample': 0.8}\n",
      "0.510422 (0.020977) with: {'learning_rate': 0.1, 'max_depth': 13, 'n_estimators': 100, 'subsample': 0.5}\n",
      "0.517353 (0.020661) with: {'learning_rate': 0.1, 'max_depth': 13, 'n_estimators': 100, 'subsample': 0.6}\n",
      "0.507058 (0.022422) with: {'learning_rate': 0.1, 'max_depth': 13, 'n_estimators': 100, 'subsample': 0.7}\n",
      "0.506349 (0.018871) with: {'learning_rate': 0.1, 'max_depth': 13, 'n_estimators': 100, 'subsample': 0.8}\n",
      "0.522584 (0.024200) with: {'learning_rate': 0.1, 'max_depth': 13, 'n_estimators': 130, 'subsample': 0.5}\n",
      "0.511222 (0.021344) with: {'learning_rate': 0.1, 'max_depth': 13, 'n_estimators': 130, 'subsample': 0.6}\n",
      "0.515390 (0.021899) with: {'learning_rate': 0.1, 'max_depth': 13, 'n_estimators': 130, 'subsample': 0.7}\n",
      "0.517260 (0.020681) with: {'learning_rate': 0.1, 'max_depth': 13, 'n_estimators': 130, 'subsample': 0.8}\n",
      "0.517882 (0.019355) with: {'learning_rate': 0.1, 'max_depth': 13, 'n_estimators': 160, 'subsample': 0.5}\n",
      "0.510253 (0.020623) with: {'learning_rate': 0.1, 'max_depth': 13, 'n_estimators': 160, 'subsample': 0.6}\n",
      "0.514065 (0.018508) with: {'learning_rate': 0.1, 'max_depth': 13, 'n_estimators': 160, 'subsample': 0.7}\n",
      "0.513538 (0.016043) with: {'learning_rate': 0.1, 'max_depth': 13, 'n_estimators': 160, 'subsample': 0.8}\n",
      "0.499956 (0.022955) with: {'learning_rate': 1.0, 'max_depth': 7, 'n_estimators': 80, 'subsample': 0.5}\n",
      "0.507757 (0.027689) with: {'learning_rate': 1.0, 'max_depth': 7, 'n_estimators': 80, 'subsample': 0.6}\n",
      "0.501640 (0.020745) with: {'learning_rate': 1.0, 'max_depth': 7, 'n_estimators': 80, 'subsample': 0.7}\n",
      "0.510777 (0.017643) with: {'learning_rate': 1.0, 'max_depth': 7, 'n_estimators': 80, 'subsample': 0.8}\n",
      "0.490467 (0.020684) with: {'learning_rate': 1.0, 'max_depth': 7, 'n_estimators': 100, 'subsample': 0.5}\n",
      "0.510781 (0.023158) with: {'learning_rate': 1.0, 'max_depth': 7, 'n_estimators': 100, 'subsample': 0.6}\n",
      "0.506886 (0.024580) with: {'learning_rate': 1.0, 'max_depth': 7, 'n_estimators': 100, 'subsample': 0.7}\n",
      "0.515303 (0.024764) with: {'learning_rate': 1.0, 'max_depth': 7, 'n_estimators': 100, 'subsample': 0.8}\n",
      "0.493834 (0.024191) with: {'learning_rate': 1.0, 'max_depth': 7, 'n_estimators': 130, 'subsample': 0.5}\n",
      "0.494097 (0.020965) with: {'learning_rate': 1.0, 'max_depth': 7, 'n_estimators': 130, 'subsample': 0.6}\n",
      "0.510774 (0.022056) with: {'learning_rate': 1.0, 'max_depth': 7, 'n_estimators': 130, 'subsample': 0.7}\n",
      "0.511315 (0.021878) with: {'learning_rate': 1.0, 'max_depth': 7, 'n_estimators': 130, 'subsample': 0.8}\n",
      "0.506977 (0.025164) with: {'learning_rate': 1.0, 'max_depth': 7, 'n_estimators': 160, 'subsample': 0.5}\n",
      "0.499241 (0.024055) with: {'learning_rate': 1.0, 'max_depth': 7, 'n_estimators': 160, 'subsample': 0.6}\n",
      "0.504126 (0.029632) with: {'learning_rate': 1.0, 'max_depth': 7, 'n_estimators': 160, 'subsample': 0.7}\n",
      "0.502622 (0.021997) with: {'learning_rate': 1.0, 'max_depth': 7, 'n_estimators': 160, 'subsample': 0.8}\n",
      "0.509447 (0.024031) with: {'learning_rate': 1.0, 'max_depth': 9, 'n_estimators': 80, 'subsample': 0.5}\n",
      "0.496931 (0.024641) with: {'learning_rate': 1.0, 'max_depth': 9, 'n_estimators': 80, 'subsample': 0.6}\n",
      "0.505188 (0.021366) with: {'learning_rate': 1.0, 'max_depth': 9, 'n_estimators': 80, 'subsample': 0.7}\n",
      "0.508921 (0.028322) with: {'learning_rate': 1.0, 'max_depth': 9, 'n_estimators': 80, 'subsample': 0.8}\n",
      "0.497205 (0.026113) with: {'learning_rate': 1.0, 'max_depth': 9, 'n_estimators': 100, 'subsample': 0.5}\n",
      "0.504488 (0.025053) with: {'learning_rate': 1.0, 'max_depth': 9, 'n_estimators': 100, 'subsample': 0.6}\n",
      "0.507766 (0.023831) with: {'learning_rate': 1.0, 'max_depth': 9, 'n_estimators': 100, 'subsample': 0.7}\n",
      "0.514416 (0.021214) with: {'learning_rate': 1.0, 'max_depth': 9, 'n_estimators': 100, 'subsample': 0.8}\n",
      "0.498000 (0.027802) with: {'learning_rate': 1.0, 'max_depth': 9, 'n_estimators': 130, 'subsample': 0.5}\n",
      "0.493226 (0.026013) with: {'learning_rate': 1.0, 'max_depth': 9, 'n_estimators': 130, 'subsample': 0.6}\n",
      "0.507413 (0.028496) with: {'learning_rate': 1.0, 'max_depth': 9, 'n_estimators': 130, 'subsample': 0.7}\n",
      "0.505991 (0.024292) with: {'learning_rate': 1.0, 'max_depth': 9, 'n_estimators': 130, 'subsample': 0.8}\n",
      "0.492769 (0.028963) with: {'learning_rate': 1.0, 'max_depth': 9, 'n_estimators': 160, 'subsample': 0.5}\n",
      "0.502980 (0.025350) with: {'learning_rate': 1.0, 'max_depth': 9, 'n_estimators': 160, 'subsample': 0.6}\n",
      "0.500051 (0.028973) with: {'learning_rate': 1.0, 'max_depth': 9, 'n_estimators': 160, 'subsample': 0.7}\n",
      "0.512203 (0.021834) with: {'learning_rate': 1.0, 'max_depth': 9, 'n_estimators': 160, 'subsample': 0.8}\n",
      "0.500044 (0.017035) with: {'learning_rate': 1.0, 'max_depth': 11, 'n_estimators': 80, 'subsample': 0.5}\n",
      "0.507942 (0.023012) with: {'learning_rate': 1.0, 'max_depth': 11, 'n_estimators': 80, 'subsample': 0.6}\n",
      "0.499865 (0.021534) with: {'learning_rate': 1.0, 'max_depth': 11, 'n_estimators': 80, 'subsample': 0.7}\n",
      "0.514148 (0.024889) with: {'learning_rate': 1.0, 'max_depth': 11, 'n_estimators': 80, 'subsample': 0.8}\n",
      "0.494906 (0.020295) with: {'learning_rate': 1.0, 'max_depth': 11, 'n_estimators': 100, 'subsample': 0.5}\n",
      "0.506868 (0.026733) with: {'learning_rate': 1.0, 'max_depth': 11, 'n_estimators': 100, 'subsample': 0.6}\n",
      "0.508034 (0.026796) with: {'learning_rate': 1.0, 'max_depth': 11, 'n_estimators': 100, 'subsample': 0.7}\n",
      "0.514859 (0.020054) with: {'learning_rate': 1.0, 'max_depth': 11, 'n_estimators': 100, 'subsample': 0.8}\n",
      "0.496681 (0.026632) with: {'learning_rate': 1.0, 'max_depth': 11, 'n_estimators': 130, 'subsample': 0.5}\n",
      "0.508390 (0.025301) with: {'learning_rate': 1.0, 'max_depth': 11, 'n_estimators': 130, 'subsample': 0.6}\n",
      "0.501287 (0.025633) with: {'learning_rate': 1.0, 'max_depth': 11, 'n_estimators': 130, 'subsample': 0.7}\n",
      "0.510158 (0.025965) with: {'learning_rate': 1.0, 'max_depth': 11, 'n_estimators': 130, 'subsample': 0.8}\n",
      "0.499075 (0.020524) with: {'learning_rate': 1.0, 'max_depth': 11, 'n_estimators': 160, 'subsample': 0.5}\n",
      "0.493925 (0.022161) with: {'learning_rate': 1.0, 'max_depth': 11, 'n_estimators': 160, 'subsample': 0.6}\n",
      "0.509451 (0.024366) with: {'learning_rate': 1.0, 'max_depth': 11, 'n_estimators': 160, 'subsample': 0.7}\n",
      "0.511226 (0.021527) with: {'learning_rate': 1.0, 'max_depth': 11, 'n_estimators': 160, 'subsample': 0.8}\n",
      "0.498725 (0.026539) with: {'learning_rate': 1.0, 'max_depth': 13, 'n_estimators': 80, 'subsample': 0.5}\n",
      "0.503058 (0.025054) with: {'learning_rate': 1.0, 'max_depth': 13, 'n_estimators': 80, 'subsample': 0.6}\n",
      "0.504124 (0.032882) with: {'learning_rate': 1.0, 'max_depth': 13, 'n_estimators': 80, 'subsample': 0.7}\n",
      "0.507148 (0.025045) with: {'learning_rate': 1.0, 'max_depth': 13, 'n_estimators': 80, 'subsample': 0.8}\n",
      "0.509895 (0.023965) with: {'learning_rate': 1.0, 'max_depth': 13, 'n_estimators': 100, 'subsample': 0.5}\n",
      "0.501097 (0.027830) with: {'learning_rate': 1.0, 'max_depth': 13, 'n_estimators': 100, 'subsample': 0.6}\n",
      "0.506079 (0.029132) with: {'learning_rate': 1.0, 'max_depth': 13, 'n_estimators': 100, 'subsample': 0.7}\n",
      "0.516195 (0.015273) with: {'learning_rate': 1.0, 'max_depth': 13, 'n_estimators': 100, 'subsample': 0.8}\n",
      "0.505007 (0.022000) with: {'learning_rate': 1.0, 'max_depth': 13, 'n_estimators': 130, 'subsample': 0.5}\n",
      "0.500483 (0.022634) with: {'learning_rate': 1.0, 'max_depth': 13, 'n_estimators': 130, 'subsample': 0.6}\n",
      "0.496228 (0.029845) with: {'learning_rate': 1.0, 'max_depth': 13, 'n_estimators': 130, 'subsample': 0.7}\n",
      "0.510515 (0.018676) with: {'learning_rate': 1.0, 'max_depth': 13, 'n_estimators': 130, 'subsample': 0.8}\n",
      "0.497746 (0.026800) with: {'learning_rate': 1.0, 'max_depth': 13, 'n_estimators': 160, 'subsample': 0.5}\n",
      "0.501465 (0.024446) with: {'learning_rate': 1.0, 'max_depth': 13, 'n_estimators': 160, 'subsample': 0.6}\n",
      "0.499869 (0.025662) with: {'learning_rate': 1.0, 'max_depth': 13, 'n_estimators': 160, 'subsample': 0.7}\n",
      "0.507415 (0.023200) with: {'learning_rate': 1.0, 'max_depth': 13, 'n_estimators': 160, 'subsample': 0.8}\n"
     ]
    }
   ],
   "source": [
    "model = GBC()\n",
    "\n",
    "grid = dict()  # define the grid of values to search\n",
    "\n",
    "grid['n_estimators'] = [80,100,130,160]\n",
    "grid['learning_rate'] = [0.001, 0.01, 0.1, 1.0]\n",
    "grid['subsample'] = [0.5,0.6,0.7,0.8]\n",
    "grid['max_depth'] = [7,9,11,13]\n",
    "\n",
    "cv = RepeatedStratifiedKFold(n_splits=10, n_repeats=3, random_state=1) # define the evaluation procedure\n",
    "\n",
    "\n",
    "grid_search = GridSearchCV(estimator=model, param_grid=grid, n_jobs=-1, cv=cv, scoring='accuracy',verbose=2)  # define the grid search procedure\n",
    "\n",
    "\n",
    "grid_result = grid_search.fit(Xc_train, yc_train)  # execute the grid search\n",
    "\n",
    "\n",
    "print(\"Best: %f using %s\" % (grid_result.best_score_, grid_result.best_params_)) # summarize the best score and configuration\n",
    "\n",
    "means = grid_result.cv_results_['mean_test_score'] # summarize all scores that were evaluated\n",
    "stds = grid_result.cv_results_['std_test_score']\n",
    "params = grid_result.cv_results_['params']\n",
    "\n",
    "for mean, stdev, param in zip(means, stds, params):\n",
    "    print(\"%f (%f) with: %r\" % (mean, stdev, param))"
   ]
  },
  {
   "cell_type": "code",
   "execution_count": 826,
   "metadata": {
    "ExecuteTime": {
     "end_time": "2021-05-18T20:32:10.582133Z",
     "start_time": "2021-05-18T20:32:10.572757Z"
    },
    "hidden": true
   },
   "outputs": [
    {
     "name": "stdout",
     "output_type": "stream",
     "text": [
      "0.518504 (0.024226) with: {'learning_rate': 0.001, 'max_depth': 11, 'n_estimators': 100, 'subsample': 0.6}\n",
      "0.519473 (0.018261) with: {'learning_rate': 0.001, 'max_depth': 13, 'n_estimators': 80, 'subsample': 0.5}\n",
      "0.520184 (0.023744) with: {'learning_rate': 0.001, 'max_depth': 13, 'n_estimators': 80, 'subsample': 0.7}\n",
      "0.517971 (0.028854) with: {'learning_rate': 0.001, 'max_depth': 13, 'n_estimators': 160, 'subsample': 0.8}\n",
      "0.517966 (0.021856) with: {'learning_rate': 0.01, 'max_depth': 11, 'n_estimators': 100, 'subsample': 0.5}\n",
      "0.518853 (0.023649) with: {'learning_rate': 0.01, 'max_depth': 11, 'n_estimators': 130, 'subsample': 0.7}\n",
      "0.519477 (0.022022) with: {'learning_rate': 0.01, 'max_depth': 13, 'n_estimators': 80, 'subsample': 0.7}\n",
      "0.519477 (0.023263) with: {'learning_rate': 0.01, 'max_depth': 13, 'n_estimators': 100, 'subsample': 0.5}\n",
      "0.517970 (0.020723) with: {'learning_rate': 0.01, 'max_depth': 13, 'n_estimators': 160, 'subsample': 0.5}\n",
      "0.519481 (0.021742) with: {'learning_rate': 0.1, 'max_depth': 9, 'n_estimators': 130, 'subsample': 0.5}\n",
      "0.517080 (0.022075) with: {'learning_rate': 0.1, 'max_depth': 11, 'n_estimators': 130, 'subsample': 0.6}\n",
      "0.517353 (0.020661) with: {'learning_rate': 0.1, 'max_depth': 13, 'n_estimators': 100, 'subsample': 0.6}\n",
      "0.522584 (0.024200) with: {'learning_rate': 0.1, 'max_depth': 13, 'n_estimators': 130, 'subsample': 0.5}\n",
      "0.517260 (0.020681) with: {'learning_rate': 0.1, 'max_depth': 13, 'n_estimators': 130, 'subsample': 0.8}\n",
      "0.517882 (0.019355) with: {'learning_rate': 0.1, 'max_depth': 13, 'n_estimators': 160, 'subsample': 0.5}\n",
      "0\n",
      "1\n",
      "4\n",
      "10\n"
     ]
    }
   ],
   "source": [
    "lear0_001 = 0\n",
    "lear0_01 = 0\n",
    "lear0_1 = 0\n",
    "lear1 = 0\n",
    "for mean, stdev, param in zip(means, stds, params):\n",
    "    if mean>0.517:\n",
    "        print(\"%f (%f) with: %r\" % (mean, stdev, param))\n",
    "        key = 'max_depth'\n",
    "        \n",
    "        if param[key] == grid[key][0]:\n",
    "            lear0_001 += 1\n",
    "        if param[key] == grid[key][1]:\n",
    "            lear0_01 += 1\n",
    "        if param[key] == grid[key][2]:\n",
    "            lear0_1 += 1\n",
    "        if param[key] == grid[key][3]:\n",
    "            lear1 += 1\n",
    "print(lear0_001)\n",
    "print(lear0_01)\n",
    "print(lear0_1)\n",
    "print(lear1)"
   ]
  },
  {
   "cell_type": "code",
   "execution_count": 867,
   "metadata": {
    "ExecuteTime": {
     "end_time": "2021-05-19T08:37:07.635360Z",
     "start_time": "2021-05-19T08:37:02.852987Z"
    },
    "hidden": true
   },
   "outputs": [
    {
     "name": "stdout",
     "output_type": "stream",
     "text": [
      "[(0.10992685227466799, 'HL_Range'), (0.09538003649398877, 'Change %'), (0.08564340208960067, 'ADX'), (0.08164183477017721, 'MACD - Signal'), (0.08048595001833447, 'MA_100_diff'), (0.07707116087113604, 'MA_50_diff'), (0.07622477990236542, 'RSI 20'), (0.07321850188895183, 'EMA_150_diff'), (0.06620886401630204, 'MACD'), (0.06192256928773852, 'Signal'), (0.05749585293782474, 'Open'), (0.04737113709159646, 'MA_50'), (0.04673977518816756, 'MA_100'), (0.040669283169148314, 'EMA_150')]\n"
     ]
    }
   ],
   "source": [
    "model = GBC(learning_rate= 0.1, max_depth= 13, n_estimators= 130, subsample= 0.5,random_state=1)\n",
    "\n",
    "model.fit(Xc_train, yc_train)\n",
    "\n",
    "feature_rank = [(model.feature_importances_[i],list(Xc_test.columns)[i]) for i in range(len(Xc_test.columns))]\n",
    "feature_rank.sort(reverse=True)\n",
    "print(feature_rank)"
   ]
  },
  {
   "cell_type": "code",
   "execution_count": 943,
   "metadata": {
    "ExecuteTime": {
     "end_time": "2021-05-19T12:40:25.655530Z",
     "start_time": "2021-05-19T12:39:53.387126Z"
    },
    "hidden": true
   },
   "outputs": [
    {
     "name": "stdout",
     "output_type": "stream",
     "text": [
      "n_estimators:  1\n",
      "Profit:  1.028\n",
      "Accuracy:  0.529\n",
      "Accuracy_val:  0.5\n",
      "\n",
      "\n",
      "n_estimators:  2\n",
      "Profit:  1.756\n",
      "Accuracy:  0.55\n",
      "Accuracy_val:  0.513\n",
      "\n",
      "\n",
      "n_estimators:  3\n",
      "Profit:  1.977\n",
      "Accuracy:  0.563\n",
      "Accuracy_val:  0.516\n",
      "\n",
      "\n",
      "n_estimators:  4\n",
      "Profit:  2.468\n",
      "Accuracy:  0.573\n",
      "Accuracy_val:  0.524\n",
      "\n",
      "\n",
      "n_estimators:  5\n",
      "Profit:  3.017\n",
      "Accuracy:  0.597\n",
      "Accuracy_val:  0.518\n",
      "\n",
      "\n",
      "n_estimators:  6\n",
      "Profit:  3.417\n",
      "Accuracy:  0.605\n",
      "Accuracy_val:  0.515\n",
      "\n",
      "\n",
      "n_estimators:  7\n",
      "Profit:  4.046\n",
      "Accuracy:  0.613\n",
      "Accuracy_val:  0.52\n",
      "\n",
      "\n",
      "n_estimators:  8\n",
      "Profit:  3.997\n",
      "Accuracy:  0.617\n",
      "Accuracy_val:  0.52\n",
      "\n",
      "\n",
      "n_estimators:  9\n",
      "Profit:  3.923\n",
      "Accuracy:  0.62\n",
      "Accuracy_val:  0.521\n",
      "\n",
      "\n"
     ]
    }
   ],
   "source": [
    "train = []\n",
    "val = []\n",
    "rang = list(range(1,10,1))\n",
    "for i in rang:\n",
    "    print('n_estimators: ',i)\n",
    "    model = GBC(learning_rate= 0.1, max_depth= 5, n_estimators=i, subsample= 0.5,random_state=1)\n",
    "\n",
    "    model.fit(Xc_train, yc_train)\n",
    "    yc_predict = model.predict(Xc_train)\n",
    "    yc_predict_val = model.predict(Xc_val)\n",
    "    good = 0\n",
    "    bad = 0\n",
    "    for i in range(len(yc_train)):\n",
    "\n",
    "        if list(yc_train)[i]==list(yc_predict)[i]:\n",
    "            good += np.abs(list(Xc_train_change['Change'])[i])\n",
    "        else:\n",
    "            bad += np.abs(list(Xc_train_change['Change'])[i])\n",
    "    #print('Good: ',np.round(good,3))\n",
    "    #print('Bad: ',np.round(bad,3))\n",
    "    print('Profit: ',np.round(good-bad,3))\n",
    "\n",
    "    #accuracy = sum(yc_train==yc_predict)/len(yc_train)\n",
    "    accuracy = accuracy_score(yc_train,yc_predict)\n",
    "    accuracy_val = accuracy_score(yc_val,yc_predict_val)\n",
    "    train.append(accuracy)\n",
    "    val.append(accuracy_val)\n",
    "    print('Accuracy: ',np.round(accuracy,3))\n",
    "    print('Accuracy_val: ',np.round(accuracy_val,3))\n",
    "    print('\\n')\n",
    "\n",
    "    kappa = cohen_kappa_score(yc_train,yc_predict)\n",
    "\n",
    "    #print('Kappa: ',np.round(kappa,4))"
   ]
  },
  {
   "cell_type": "code",
   "execution_count": 944,
   "metadata": {
    "ExecuteTime": {
     "end_time": "2021-05-19T12:40:33.512320Z",
     "start_time": "2021-05-19T12:40:33.057568Z"
    },
    "hidden": true
   },
   "outputs": [
    {
     "data": {
      "text/plain": [
       "[<matplotlib.lines.Line2D at 0x7f951174a700>]"
      ]
     },
     "execution_count": 944,
     "metadata": {},
     "output_type": "execute_result"
    },
    {
     "data": {
      "image/png": "[encoded data removed]",
      "text/plain": [
       "<Figure size 432x288 with 1 Axes>"
      ]
     },
     "metadata": {
      "needs_background": "light"
     },
     "output_type": "display_data"
    }
   ],
   "source": [
    "plt.plot(rang,val)\n",
    "plt.plot(rang,train)"
   ]
  },
  {
   "cell_type": "code",
   "execution_count": 868,
   "metadata": {
    "ExecuteTime": {
     "end_time": "2021-05-19T08:39:10.274845Z",
     "start_time": "2021-05-19T08:39:09.946872Z"
    },
    "hidden": true
   },
   "outputs": [
    {
     "name": "stdout",
     "output_type": "stream",
     "text": [
      "Good:  2.501\n",
      "Bad:  2.52\n",
      "Profit:  -0.019\n",
      "Accuracy:  0.514\n",
      "Kappa:  0.0274\n"
     ]
    }
   ],
   "source": [
    "yc_predict = model.predict(Xc_test)\n",
    "good = 0\n",
    "bad = 0\n",
    "for i in range(len(yc_test)):\n",
    "    \n",
    "    if list(yc_test)[i]==list(yc_predict)[i]:\n",
    "        good += np.abs(list(Xc_test_change['Change'])[i])\n",
    "    else:\n",
    "        bad += np.abs(list(Xc_test_change['Change'])[i])\n",
    "print('Good: ',np.round(good,3))\n",
    "print('Bad: ',np.round(bad,3))\n",
    "print('Profit: ',np.round(good-bad,3))\n",
    "\n",
    "#accuracy = sum(yc_train==yc_predict)/len(yc_train)\n",
    "accuracy = accuracy_score(yc_test,yc_predict)\n",
    "print('Accuracy: ',np.round(accuracy,3))\n",
    "\n",
    "kappa = cohen_kappa_score(yc_test,yc_predict)\n",
    "\n",
    "print('Kappa: ',np.round(kappa,4))"
   ]
  },
  {
   "cell_type": "markdown",
   "metadata": {
    "heading_collapsed": true
   },
   "source": [
    "##### Optimal Probability"
   ]
  },
  {
   "cell_type": "code",
   "execution_count": null,
   "metadata": {
    "hidden": true
   },
   "outputs": [],
   "source": [
    "model = GBC(learning_rate= 0.1, max_depth= 13, n_estimators= 130, subsample= 0.5,random_state=1)\n",
    "\n",
    "model.fit(Xc_train, yc_train)"
   ]
  },
  {
   "cell_type": "code",
   "execution_count": 938,
   "metadata": {
    "ExecuteTime": {
     "end_time": "2021-05-19T12:30:01.961690Z",
     "start_time": "2021-05-19T12:29:24.696770Z"
    },
    "hidden": true
   },
   "outputs": [
    {
     "name": "stdout",
     "output_type": "stream",
     "text": [
      "MIN PROBABILITY:  50\n",
      "Good:  3.727\n",
      "Bad:  3.402\n",
      "Profit:  0.325\n",
      "\n",
      "\n",
      "MIN PROBABILITY:  51\n",
      "Good:  3.708\n",
      "Bad:  3.353\n",
      "Profit:  0.355\n",
      "\n",
      "\n",
      "MIN PROBABILITY:  52\n",
      "Good:  3.652\n",
      "Bad:  3.326\n",
      "Profit:  0.326\n",
      "\n",
      "\n",
      "MIN PROBABILITY:  53\n",
      "Good:  3.598\n",
      "Bad:  3.292\n",
      "Profit:  0.306\n",
      "\n",
      "\n",
      "MIN PROBABILITY:  54\n",
      "Good:  3.533\n",
      "Bad:  3.242\n",
      "Profit:  0.291\n",
      "\n",
      "\n",
      "MIN PROBABILITY:  55\n",
      "Good:  3.49\n",
      "Bad:  3.183\n",
      "Profit:  0.307\n",
      "\n",
      "\n",
      "MIN PROBABILITY:  56\n",
      "Good:  3.45\n",
      "Bad:  3.116\n",
      "Profit:  0.333\n",
      "\n",
      "\n",
      "MIN PROBABILITY:  57\n",
      "Good:  3.402\n",
      "Bad:  3.041\n",
      "Profit:  0.36\n",
      "\n",
      "\n",
      "MIN PROBABILITY:  58\n",
      "Good:  3.306\n",
      "Bad:  2.971\n",
      "Profit:  0.335\n",
      "\n",
      "\n",
      "MIN PROBABILITY:  59\n",
      "Good:  3.172\n",
      "Bad:  2.898\n",
      "Profit:  0.274\n",
      "\n",
      "\n",
      "MIN PROBABILITY:  60\n",
      "Good:  3.075\n",
      "Bad:  2.843\n",
      "Profit:  0.232\n",
      "\n",
      "\n",
      "MIN PROBABILITY:  61\n",
      "Good:  3.024\n",
      "Bad:  2.774\n",
      "Profit:  0.25\n",
      "\n",
      "\n",
      "MIN PROBABILITY:  62\n",
      "Good:  2.933\n",
      "Bad:  2.695\n",
      "Profit:  0.238\n",
      "\n",
      "\n",
      "MIN PROBABILITY:  63\n",
      "Good:  2.845\n",
      "Bad:  2.652\n",
      "Profit:  0.193\n",
      "\n",
      "\n",
      "MIN PROBABILITY:  64\n",
      "Good:  2.805\n",
      "Bad:  2.584\n",
      "Profit:  0.222\n",
      "\n",
      "\n",
      "MIN PROBABILITY:  65\n",
      "Good:  2.694\n",
      "Bad:  2.548\n",
      "Profit:  0.146\n",
      "\n",
      "\n",
      "MIN PROBABILITY:  66\n",
      "Good:  2.636\n",
      "Bad:  2.533\n",
      "Profit:  0.103\n",
      "\n",
      "\n",
      "MIN PROBABILITY:  67\n",
      "Good:  2.546\n",
      "Bad:  2.505\n",
      "Profit:  0.041\n",
      "\n",
      "\n",
      "MIN PROBABILITY:  68\n",
      "Good:  2.502\n",
      "Bad:  2.461\n",
      "Profit:  0.041\n",
      "\n",
      "\n",
      "MIN PROBABILITY:  69\n",
      "Good:  2.435\n",
      "Bad:  2.362\n",
      "Profit:  0.073\n",
      "\n",
      "\n",
      "MIN PROBABILITY:  70\n",
      "Good:  2.413\n",
      "Bad:  2.327\n",
      "Profit:  0.086\n",
      "\n",
      "\n",
      "MIN PROBABILITY:  71\n",
      "Good:  2.317\n",
      "Bad:  2.262\n",
      "Profit:  0.055\n",
      "\n",
      "\n",
      "MIN PROBABILITY:  72\n",
      "Good:  2.2\n",
      "Bad:  2.194\n",
      "Profit:  0.006\n",
      "\n",
      "\n",
      "MIN PROBABILITY:  73\n",
      "Good:  2.143\n",
      "Bad:  2.106\n",
      "Profit:  0.037\n",
      "\n",
      "\n",
      "MIN PROBABILITY:  74\n",
      "Good:  2.092\n",
      "Bad:  2.016\n",
      "Profit:  0.075\n",
      "\n",
      "\n",
      "MIN PROBABILITY:  75\n",
      "Good:  2.024\n",
      "Bad:  1.934\n",
      "Profit:  0.089\n",
      "\n",
      "\n",
      "MIN PROBABILITY:  76\n",
      "Good:  1.991\n",
      "Bad:  1.874\n",
      "Profit:  0.117\n",
      "\n",
      "\n",
      "MIN PROBABILITY:  77\n",
      "Good:  1.909\n",
      "Bad:  1.814\n",
      "Profit:  0.095\n",
      "\n",
      "\n",
      "MIN PROBABILITY:  78\n",
      "Good:  1.815\n",
      "Bad:  1.764\n",
      "Profit:  0.051\n",
      "\n",
      "\n",
      "MIN PROBABILITY:  79\n",
      "Good:  1.794\n",
      "Bad:  1.69\n",
      "Profit:  0.104\n",
      "\n",
      "\n",
      "MIN PROBABILITY:  80\n",
      "Good:  1.721\n",
      "Bad:  1.629\n",
      "Profit:  0.092\n",
      "\n",
      "\n",
      "MIN PROBABILITY:  81\n",
      "Good:  1.642\n",
      "Bad:  1.552\n",
      "Profit:  0.09\n",
      "\n",
      "\n",
      "MIN PROBABILITY:  82\n",
      "Good:  1.58\n",
      "Bad:  1.45\n",
      "Profit:  0.13\n",
      "\n",
      "\n",
      "MIN PROBABILITY:  83\n",
      "Good:  1.469\n",
      "Bad:  1.406\n",
      "Profit:  0.064\n",
      "\n",
      "\n",
      "MIN PROBABILITY:  84\n",
      "Good:  1.423\n",
      "Bad:  1.367\n",
      "Profit:  0.056\n",
      "\n",
      "\n",
      "MIN PROBABILITY:  85\n",
      "Good:  1.281\n",
      "Bad:  1.277\n",
      "Profit:  0.004\n",
      "\n",
      "\n",
      "MIN PROBABILITY:  86\n",
      "Good:  1.2\n",
      "Bad:  1.171\n",
      "Profit:  0.029\n",
      "\n",
      "\n",
      "MIN PROBABILITY:  87\n",
      "Good:  1.133\n",
      "Bad:  1.119\n",
      "Profit:  0.014\n",
      "\n",
      "\n",
      "MIN PROBABILITY:  88\n",
      "Good:  1.031\n",
      "Bad:  1.044\n",
      "Profit:  -0.012\n",
      "\n",
      "\n",
      "MIN PROBABILITY:  89\n",
      "Good:  0.963\n",
      "Bad:  0.939\n",
      "Profit:  0.024\n",
      "\n",
      "\n",
      "MIN PROBABILITY:  90\n",
      "Good:  0.871\n",
      "Bad:  0.836\n",
      "Profit:  0.036\n",
      "\n",
      "\n",
      "MIN PROBABILITY:  91\n",
      "Good:  0.827\n",
      "Bad:  0.736\n",
      "Profit:  0.091\n",
      "\n",
      "\n",
      "MIN PROBABILITY:  92\n",
      "Good:  0.759\n",
      "Bad:  0.684\n",
      "Profit:  0.074\n",
      "\n",
      "\n",
      "MIN PROBABILITY:  93\n",
      "Good:  0.65\n",
      "Bad:  0.62\n",
      "Profit:  0.03\n",
      "\n",
      "\n",
      "MIN PROBABILITY:  94\n",
      "Good:  0.547\n",
      "Bad:  0.545\n",
      "Profit:  0.002\n",
      "\n",
      "\n",
      "MIN PROBABILITY:  95\n",
      "Good:  0.459\n",
      "Bad:  0.424\n",
      "Profit:  0.035\n",
      "\n",
      "\n",
      "MIN PROBABILITY:  96\n",
      "Good:  0.345\n",
      "Bad:  0.327\n",
      "Profit:  0.018\n",
      "\n",
      "\n",
      "MIN PROBABILITY:  97\n",
      "Good:  0.222\n",
      "Bad:  0.243\n",
      "Profit:  -0.02\n",
      "\n",
      "\n",
      "MIN PROBABILITY:  98\n",
      "Good:  0.128\n",
      "Bad:  0.139\n",
      "Profit:  -0.01\n",
      "\n",
      "\n",
      "MIN PROBABILITY:  99\n",
      "Good:  0.04\n",
      "Bad:  0.018\n",
      "Profit:  0.022\n",
      "\n",
      "\n"
     ]
    },
    {
     "data": {
      "text/plain": [
       "[<matplotlib.lines.Line2D at 0x7f9511151c10>]"
      ]
     },
     "execution_count": 938,
     "metadata": {},
     "output_type": "execute_result"
    },
    {
     "data": {
      "image/png": "[encoded data removed]",
      "text/plain": [
       "<Figure size 432x288 with 1 Axes>"
      ]
     },
     "metadata": {
      "needs_background": "light"
     },
     "output_type": "display_data"
    }
   ],
   "source": [
    "proba = model.predict_proba(Xc_val)\n",
    "\n",
    "yc_predict_val = model.predict(Xc_val)\n",
    "min_probs = list(range(50,100,1))\n",
    "prof = []\n",
    "acc = []\n",
    "for min_prob in min_probs:\n",
    "    print('MIN PROBABILITY: ',min_prob)\n",
    "    good = 0\n",
    "    bad = 0\n",
    "    for i in range(len(yc_val)):\n",
    "        \n",
    "        if max(proba[i])>min_prob/100:\n",
    "            if list(yc_val)[i]==list(yc_predict_val)[i]:\n",
    "                good += np.abs(list(Xc_val_change['Change'])[i])\n",
    "            else:\n",
    "                bad += np.abs(list(Xc_val_change['Change'])[i])\n",
    "    print('Good: ',np.round(good,3))\n",
    "    print('Bad: ',np.round(bad,3))\n",
    "    profit = np.round(good-bad,3)\n",
    "    prof.append(profit)\n",
    "    print('Profit: ',profit)\n",
    "\n",
    "    accuracy = accuracy_score(yc_val,yc_predict_val)\n",
    "    acc.append(accuracy)\n",
    "    #print('Accuracy: ',np.round(accuracy,3))\n",
    "    \n",
    "    kappa = cohen_kappa_score(yc_val,yc_predict_val)\n",
    "\n",
    "    #print('Kappa: ',np.round(kappa,4))\n",
    "    print('\\n')\n",
    "\n",
    "plt.plot(min_probs,prof)"
   ]
  },
  {
   "cell_type": "code",
   "execution_count": 907,
   "metadata": {
    "ExecuteTime": {
     "end_time": "2021-05-19T09:17:13.999472Z",
     "start_time": "2021-05-19T09:17:13.816723Z"
    },
    "hidden": true
   },
   "outputs": [
    {
     "name": "stdout",
     "output_type": "stream",
     "text": [
      "Good:  0.424\n",
      "Bad:  0.269\n",
      "Profit:  0.155\n",
      "Accuracy:  0.514\n",
      "Kappa:  0.0274\n"
     ]
    }
   ],
   "source": [
    "proba = model.predict_proba(Xc_test)\n",
    "\n",
    "yc_predict = model.predict(Xc_test)\n",
    "good = 0\n",
    "bad = 0\n",
    "\n",
    "for i in range(len(yc_test)):\n",
    "\n",
    "    if max(proba[i])>0.94:\n",
    "        if list(yc_test)[i]==list(yc_predict)[i]:\n",
    "            good += np.abs(list(Xc_test_change['Change'])[i])\n",
    "        else:\n",
    "            bad += np.abs(list(Xc_test_change['Change'])[i])\n",
    "print('Good: ',np.round(good,3))\n",
    "print('Bad: ',np.round(bad,3))\n",
    "profit = np.round(good-bad,3)\n",
    "print('Profit: ',profit)\n",
    "\n",
    "accuracy = accuracy_score(yc_test,yc_predict)\n",
    "print('Accuracy: ',np.round(accuracy,3))\n",
    "\n",
    "kappa = cohen_kappa_score(yc_test,yc_predict)\n",
    "\n",
    "print('Kappa: ',np.round(kappa,4))"
   ]
  },
  {
   "cell_type": "markdown",
   "metadata": {
    "heading_collapsed": true
   },
   "source": [
    "##### Test 3"
   ]
  },
  {
   "cell_type": "code",
   "execution_count": 976,
   "metadata": {
    "ExecuteTime": {
     "end_time": "2021-05-19T15:15:42.009875Z",
     "start_time": "2021-05-19T15:15:41.841384Z"
    },
    "hidden": true
   },
   "outputs": [
    {
     "data": {
      "text/plain": [
       "GradientBoostingClassifier(max_depth=5, n_estimators=5, random_state=1,\n",
       "                           subsample=0.5)"
      ]
     },
     "execution_count": 976,
     "metadata": {},
     "output_type": "execute_result"
    }
   ],
   "source": [
    "model = GBC(learning_rate= 0.1, max_depth= 5, n_estimators= 5, subsample= 0.5,random_state=1)\n",
    "\n",
    "model.fit(Xc_train, yc_train)"
   ]
  },
  {
   "cell_type": "code",
   "execution_count": 977,
   "metadata": {
    "ExecuteTime": {
     "end_time": "2021-05-19T15:15:48.072806Z",
     "start_time": "2021-05-19T15:15:43.567812Z"
    },
    "hidden": true
   },
   "outputs": [
    {
     "name": "stdout",
     "output_type": "stream",
     "text": [
      "MIN PROBABILITY:  50\n",
      "Good:  2933.183\n",
      "Bad:  2745.906\n",
      "Profit:  187.277\n",
      "Accuracy:  0.518\n",
      "#: 1253\n",
      "%: 1.0\n",
      "\n",
      "\n",
      "MIN PROBABILITY:  51\n",
      "Good:  2432.026\n",
      "Bad:  2276.841\n",
      "Profit:  155.185\n",
      "Accuracy:  0.512\n",
      "#: 1082\n",
      "%: 0.8635275339185954\n",
      "\n",
      "\n",
      "MIN PROBABILITY:  52\n",
      "Good:  1691.974\n",
      "Bad:  1501.377\n",
      "Profit:  190.598\n",
      "Accuracy:  0.512\n",
      "#: 685\n",
      "%: 0.5466879489225858\n",
      "\n",
      "\n",
      "MIN PROBABILITY:  53\n",
      "Good:  1016.89\n",
      "Bad:  859.348\n",
      "Profit:  157.542\n",
      "Accuracy:  0.504\n",
      "#: 383\n",
      "%: 0.3056664006384677\n",
      "\n",
      "\n",
      "MIN PROBABILITY:  54\n",
      "Good:  849.23\n",
      "Bad:  651.888\n",
      "Profit:  197.342\n",
      "Accuracy:  0.509\n",
      "#: 275\n",
      "%: 0.2194732641660016\n",
      "\n",
      "\n",
      "MIN PROBABILITY:  55\n",
      "Good:  614.496\n",
      "Bad:  482.926\n",
      "Profit:  131.57\n",
      "Accuracy:  0.505\n",
      "#: 208\n",
      "%: 0.16600159616919394\n",
      "\n",
      "\n",
      "MIN PROBABILITY:  56\n",
      "Good:  468.025\n",
      "Bad:  298.008\n",
      "Profit:  170.017\n",
      "Accuracy:  0.532\n",
      "#: 141\n",
      "%: 0.11252992817238627\n",
      "\n",
      "\n",
      "MIN PROBABILITY:  57\n",
      "Good:  298.911\n",
      "Bad:  223.001\n",
      "Profit:  75.91\n",
      "Accuracy:  0.57\n",
      "#: 93\n",
      "%: 0.0742218675179569\n",
      "\n",
      "\n",
      "MIN PROBABILITY:  58\n",
      "Good:  198.321\n",
      "Bad:  173.187\n",
      "Profit:  25.135\n",
      "Accuracy:  0.538\n",
      "#: 65\n",
      "%: 0.05187549880287311\n",
      "\n",
      "\n",
      "MIN PROBABILITY:  59\n",
      "Good:  123.521\n",
      "Bad:  135.527\n",
      "Profit:  -12.006\n",
      "Accuracy:  0.489\n",
      "#: 47\n",
      "%: 0.03750997605746209\n",
      "\n",
      "\n",
      "MIN PROBABILITY:  60\n",
      "Good:  100.411\n",
      "Bad:  93.615\n",
      "Profit:  6.796\n",
      "Accuracy:  0.514\n",
      "#: 35\n",
      "%: 0.027932960893854747\n",
      "\n",
      "\n",
      "MIN PROBABILITY:  61\n",
      "Good:  86.006\n",
      "Bad:  45.314\n",
      "Profit:  40.692\n",
      "Accuracy:  0.556\n",
      "#: 27\n",
      "%: 0.02154828411811652\n",
      "\n",
      "\n",
      "MIN PROBABILITY:  62\n",
      "Good:  76.163\n",
      "Bad:  43.892\n",
      "Profit:  32.271\n",
      "Accuracy:  0.5\n",
      "#: 22\n",
      "%: 0.017557861133280128\n",
      "\n",
      "\n",
      "MIN PROBABILITY:  63\n",
      "Good:  41.003\n",
      "Bad:  27.495\n",
      "Profit:  13.509\n",
      "Accuracy:  0.462\n",
      "#: 13\n",
      "%: 0.010375099760574621\n",
      "\n",
      "\n",
      "MIN PROBABILITY:  64\n",
      "Good:  35.059\n",
      "Bad:  17.956\n",
      "Profit:  17.102\n",
      "Accuracy:  0.5\n",
      "#: 8\n",
      "%: 0.006384676775738229\n",
      "\n",
      "\n",
      "MIN PROBABILITY:  65\n",
      "Good:  23.53\n",
      "Bad:  11.312\n",
      "Profit:  12.218\n",
      "Accuracy:  0.6\n",
      "#: 5\n",
      "%: 0.0039904229848363925\n",
      "\n",
      "\n",
      "MIN PROBABILITY:  66\n",
      "Good:  0\n",
      "Bad:  0\n",
      "Profit:  0\n",
      "Accuracy:  0\n",
      "#: 0\n",
      "%: 0.0\n",
      "\n",
      "\n",
      "MIN PROBABILITY:  67\n",
      "Good:  0\n",
      "Bad:  0\n",
      "Profit:  0\n",
      "Accuracy:  0\n",
      "#: 0\n",
      "%: 0.0\n",
      "\n",
      "\n",
      "MIN PROBABILITY:  68\n",
      "Good:  0\n",
      "Bad:  0\n",
      "Profit:  0\n",
      "Accuracy:  0\n",
      "#: 0\n",
      "%: 0.0\n",
      "\n",
      "\n",
      "MIN PROBABILITY:  69\n",
      "Good:  0\n",
      "Bad:  0\n",
      "Profit:  0\n",
      "Accuracy:  0\n",
      "#: 0\n",
      "%: 0.0\n",
      "\n",
      "\n"
     ]
    },
    {
     "data": {
      "text/plain": [
       "[<matplotlib.lines.Line2D at 0x7f95117cf7f0>]"
      ]
     },
     "execution_count": 977,
     "metadata": {},
     "output_type": "execute_result"
    },
    {
     "data": {
      "image/png": "[encoded data removed]",
      "text/plain": [
       "<Figure size 432x288 with 1 Axes>"
      ]
     },
     "metadata": {
      "needs_background": "light"
     },
     "output_type": "display_data"
    }
   ],
   "source": [
    "proba = model.predict_proba(Xc_val)\n",
    "\n",
    "yc_predict_val = model.predict(Xc_val)\n",
    "min_probs = list(range(50,70,1))\n",
    "prof = []\n",
    "acc = []\n",
    "for min_prob in min_probs:\n",
    "    print('MIN PROBABILITY: ',min_prob)\n",
    "    good = 0\n",
    "    bad = 0\n",
    "    ig = 0\n",
    "    ib = 0\n",
    "    for i in range(len(yc_val)):\n",
    "        \n",
    "        if max(proba[i])>min_prob/100:\n",
    "            if list(yc_val)[i]==list(yc_predict_val)[i]:\n",
    "                ig +=1\n",
    "                #good += np.abs(list(Xc_val_change['Change'])[i])\n",
    "                good += (0.0001/list(Xc_val_change['Price'])[i])*1000*np.abs(list(Xc_val_change['Change'])[i])*10000\n",
    "            else:\n",
    "                ib +=1\n",
    "                #bad += np.abs(list(Xc_val_change['Change'])[i])\n",
    "                bad += (0.0001/list(Xc_val_change['Price'])[i])*1000*np.abs(list(Xc_val_change['Change'])[i])*10000\n",
    "    print('Good: ',np.round(good,3))\n",
    "    print('Bad: ',np.round(bad,3))\n",
    "    if (ig+ib)!=0:\n",
    "        #profit = np.round((good-bad)/(ig+ib),3)\n",
    "        profit = np.round((good-bad),3)\n",
    "        #accuracy = accuracy_score(yc_val,yc_predict_val)\n",
    "        accuracy = ig/(ig+ib)\n",
    "\n",
    "    else:\n",
    "        profit = 0\n",
    "        accuracy = 0\n",
    "    \n",
    "    prof.append(profit)\n",
    "    print('Profit: ',profit)\n",
    "    acc.append(accuracy)\n",
    "    print('Accuracy: ',np.round(accuracy,3))\n",
    "    print('#:',ig+ib)\n",
    "    print('%:',(ig+ib)/len(yc_val))\n",
    "    \n",
    "    kappa = cohen_kappa_score(yc_val,yc_predict_val)\n",
    "\n",
    "    #print('Kappa: ',np.round(kappa,4))\n",
    "    print('\\n')\n",
    "\n",
    "plt.plot(min_probs,prof)"
   ]
  },
  {
   "cell_type": "code",
   "execution_count": 978,
   "metadata": {
    "ExecuteTime": {
     "end_time": "2021-05-19T15:16:05.262870Z",
     "start_time": "2021-05-19T15:16:04.671629Z"
    },
    "hidden": true
   },
   "outputs": [
    {
     "name": "stdout",
     "output_type": "stream",
     "text": [
      "Good:  1943.587\n",
      "Bad:  2045.482\n",
      "Profit:  -101.895\n",
      "Accuracy:  0.503\n",
      "Kappa:  0.0041\n",
      "940\n"
     ]
    }
   ],
   "source": [
    "proba = model.predict_proba(Xc_test)\n",
    "\n",
    "yc_predict = model.predict(Xc_test)\n",
    "good = 0\n",
    "bad = 0\n",
    "ii = 0\n",
    "for i in range(len(yc_test)):\n",
    "\n",
    "    if max(proba[i])>0.5:\n",
    "        ii +=1\n",
    "        if list(yc_test)[i]==list(yc_predict)[i]:\n",
    "            #good += np.abs(list(Xc_test_change['Change'])[i])\n",
    "            good += (0.0001/list(Xc_test_change['Price'])[i])*1000*np.abs(list(Xc_test_change['Change'])[i])*10000\n",
    "        else:\n",
    "            bad += (0.0001/list(Xc_test_change['Price'])[i])*1000*np.abs(list(Xc_test_change['Change'])[i])*10000\n",
    "            #bad += np.abs(list(Xc_test_change['Change'])[i])\n",
    "print('Good: ',np.round(good,3))\n",
    "print('Bad: ',np.round(bad,3))\n",
    "profit = np.round(good-bad,3)\n",
    "print('Profit: ',profit)\n",
    "\n",
    "accuracy = accuracy_score(yc_test,yc_predict)\n",
    "print('Accuracy: ',np.round(accuracy,3))\n",
    "\n",
    "kappa = cohen_kappa_score(yc_test,yc_predict)\n",
    "\n",
    "print('Kappa: ',np.round(kappa,4))\n",
    "print(ii)"
   ]
  },
  {
   "cell_type": "code",
   "execution_count": 959,
   "metadata": {
    "ExecuteTime": {
     "end_time": "2021-05-19T15:08:40.409414Z",
     "start_time": "2021-05-19T15:08:40.395546Z"
    },
    "hidden": true
   },
   "outputs": [
    {
     "data": {
      "text/plain": [
       "8"
      ]
     },
     "execution_count": 959,
     "metadata": {},
     "output_type": "execute_result"
    }
   ],
   "source": [
    "ii"
   ]
  },
  {
   "cell_type": "markdown",
   "metadata": {},
   "source": [
    "##### Poly"
   ]
  },
  {
   "cell_type": "code",
   "execution_count": 1000,
   "metadata": {
    "ExecuteTime": {
     "end_time": "2021-05-19T15:46:06.588745Z",
     "start_time": "2021-05-19T15:46:05.905070Z"
    }
   },
   "outputs": [
    {
     "data": {
      "text/plain": [
       "GradientBoostingClassifier(max_depth=5, n_estimators=8, random_state=1,\n",
       "                           subsample=0.5)"
      ]
     },
     "execution_count": 1000,
     "metadata": {},
     "output_type": "execute_result"
    }
   ],
   "source": [
    "model = GBC(learning_rate= 0.1, max_depth= , n_estimators= 8, subsample= 0.5,random_state=1)\n",
    "\n",
    "model.fit(Xc_trainp, yc_train)"
   ]
  },
  {
   "cell_type": "code",
   "execution_count": 1001,
   "metadata": {
    "ExecuteTime": {
     "end_time": "2021-05-19T15:46:10.115135Z",
     "start_time": "2021-05-19T15:46:08.056444Z"
    }
   },
   "outputs": [
    {
     "name": "stdout",
     "output_type": "stream",
     "text": [
      "Profit:  4.948\n",
      "Accuracy:  0.669\n",
      "Accuracy_val:  0.496\n",
      "\n",
      "\n"
     ]
    }
   ],
   "source": [
    "yc_predict = model.predict(Xc_trainp)\n",
    "yc_predict_val = model.predict(Xc_valp)\n",
    "good = 0\n",
    "bad = 0\n",
    "\n",
    "for i in range(len(yc_train)):\n",
    "\n",
    "    if list(yc_train)[i]==list(yc_predict)[i]:\n",
    "        good += np.abs(list(Xc_train_change['Change'])[i])\n",
    "    else:\n",
    "        bad += np.abs(list(Xc_train_change['Change'])[i])\n",
    "#print('Good: ',np.round(good,3))\n",
    "#print('Bad: ',np.round(bad,3))\n",
    "print('Profit: ',np.round(good-bad,3))\n",
    "\n",
    "#accuracy = sum(yc_train==yc_predict)/len(yc_train)\n",
    "accuracy = accuracy_score(yc_train,yc_predict)\n",
    "accuracy_val = accuracy_score(yc_val,yc_predict_val)\n",
    "print('Accuracy: ',np.round(accuracy,3))\n",
    "print('Accuracy_val: ',np.round(accuracy_val,3))\n",
    "print('\\n')"
   ]
  },
  {
   "cell_type": "code",
   "execution_count": 988,
   "metadata": {
    "ExecuteTime": {
     "end_time": "2021-05-19T15:41:19.152011Z",
     "start_time": "2021-05-19T15:41:08.464166Z"
    }
   },
   "outputs": [
    {
     "name": "stdout",
     "output_type": "stream",
     "text": [
      "MIN PROBABILITY:  50\n",
      "Good:  2794.326\n",
      "Bad:  2884.764\n",
      "Profit:  -90.439\n",
      "Accuracy:  0.492\n",
      "#: 1253\n",
      "%: 1.0\n",
      "\n",
      "\n",
      "MIN PROBABILITY:  51\n",
      "Good:  2602.802\n",
      "Bad:  2743.616\n",
      "Profit:  -140.814\n",
      "Accuracy:  0.488\n",
      "#: 1173\n",
      "%: 0.9361532322426177\n",
      "\n",
      "\n",
      "MIN PROBABILITY:  52\n",
      "Good:  2480.65\n",
      "Bad:  2547.322\n",
      "Profit:  -66.672\n",
      "Accuracy:  0.492\n",
      "#: 1092\n",
      "%: 0.8715083798882681\n",
      "\n",
      "\n",
      "MIN PROBABILITY:  53\n",
      "Good:  2321.467\n",
      "Bad:  2378.857\n",
      "Profit:  -57.39\n",
      "Accuracy:  0.485\n",
      "#: 1029\n",
      "%: 0.8212290502793296\n",
      "\n",
      "\n",
      "MIN PROBABILITY:  54\n",
      "Good:  2116.09\n",
      "Bad:  2200.237\n",
      "Profit:  -84.147\n",
      "Accuracy:  0.482\n",
      "#: 939\n",
      "%: 0.7494014365522745\n",
      "\n",
      "\n",
      "MIN PROBABILITY:  55\n",
      "Good:  1896.123\n",
      "Bad:  1994.211\n",
      "Profit:  -98.088\n",
      "Accuracy:  0.485\n",
      "#: 851\n",
      "%: 0.6791699920191541\n",
      "\n",
      "\n",
      "MIN PROBABILITY:  56\n",
      "Good:  1795.553\n",
      "Bad:  1851.568\n",
      "Profit:  -56.015\n",
      "Accuracy:  0.487\n",
      "#: 782\n",
      "%: 0.6241021548284118\n",
      "\n",
      "\n",
      "MIN PROBABILITY:  57\n",
      "Good:  1613.889\n",
      "Bad:  1698.66\n",
      "Profit:  -84.771\n",
      "Accuracy:  0.475\n",
      "#: 701\n",
      "%: 0.5594573024740622\n",
      "\n",
      "\n",
      "MIN PROBABILITY:  58\n",
      "Good:  1402.152\n",
      "Bad:  1501.433\n",
      "Profit:  -99.28\n",
      "Accuracy:  0.467\n",
      "#: 625\n",
      "%: 0.49880287310454907\n",
      "\n",
      "\n",
      "MIN PROBABILITY:  59\n",
      "Good:  1253.185\n",
      "Bad:  1356.515\n",
      "Profit:  -103.33\n",
      "Accuracy:  0.465\n",
      "#: 561\n",
      "%: 0.44772545889864324\n",
      "\n",
      "\n",
      "MIN PROBABILITY:  60\n",
      "Good:  1175.773\n",
      "Bad:  1206.342\n",
      "Profit:  -30.568\n",
      "Accuracy:  0.474\n",
      "#: 508\n",
      "%: 0.4054269752593775\n",
      "\n",
      "\n",
      "MIN PROBABILITY:  61\n",
      "Good:  1058.496\n",
      "Bad:  1064.901\n",
      "Profit:  -6.404\n",
      "Accuracy:  0.479\n",
      "#: 445\n",
      "%: 0.35514764565043894\n",
      "\n",
      "\n",
      "MIN PROBABILITY:  62\n",
      "Good:  921.978\n",
      "Bad:  931.875\n",
      "Profit:  -9.897\n",
      "Accuracy:  0.476\n",
      "#: 391\n",
      "%: 0.3120510774142059\n",
      "\n",
      "\n",
      "MIN PROBABILITY:  63\n",
      "Good:  829.181\n",
      "Bad:  792.548\n",
      "Profit:  36.632\n",
      "Accuracy:  0.493\n",
      "#: 345\n",
      "%: 0.2753391859537111\n",
      "\n",
      "\n",
      "MIN PROBABILITY:  64\n",
      "Good:  734.425\n",
      "Bad:  723.043\n",
      "Profit:  11.383\n",
      "Accuracy:  0.492\n",
      "#: 303\n",
      "%: 0.2418196328810854\n",
      "\n",
      "\n",
      "MIN PROBABILITY:  65\n",
      "Good:  655.135\n",
      "Bad:  657.265\n",
      "Profit:  -2.13\n",
      "Accuracy:  0.489\n",
      "#: 274\n",
      "%: 0.21867517956903432\n",
      "\n",
      "\n",
      "MIN PROBABILITY:  66\n",
      "Good:  564.521\n",
      "Bad:  557.825\n",
      "Profit:  6.697\n",
      "Accuracy:  0.511\n",
      "#: 227\n",
      "%: 0.18116520351157223\n",
      "\n",
      "\n",
      "MIN PROBABILITY:  67\n",
      "Good:  457.209\n",
      "Bad:  520.683\n",
      "Profit:  -63.474\n",
      "Accuracy:  0.492\n",
      "#: 191\n",
      "%: 0.1524341580207502\n",
      "\n",
      "\n",
      "MIN PROBABILITY:  68\n",
      "Good:  404.652\n",
      "Bad:  439.967\n",
      "Profit:  -35.314\n",
      "Accuracy:  0.516\n",
      "#: 161\n",
      "%: 0.12849162011173185\n",
      "\n",
      "\n",
      "MIN PROBABILITY:  69\n",
      "Good:  353.902\n",
      "Bad:  342.083\n",
      "Profit:  11.818\n",
      "Accuracy:  0.523\n",
      "#: 130\n",
      "%: 0.10375099760574621\n",
      "\n",
      "\n"
     ]
    },
    {
     "data": {
      "text/plain": [
       "[<matplotlib.lines.Line2D at 0x7f95124c4040>]"
      ]
     },
     "execution_count": 988,
     "metadata": {},
     "output_type": "execute_result"
    },
    {
     "data": {
      "image/png": "[encoded data removed]",
      "text/plain": [
       "<Figure size 432x288 with 1 Axes>"
      ]
     },
     "metadata": {
      "needs_background": "light"
     },
     "output_type": "display_data"
    }
   ],
   "source": [
    "proba = model.predict_proba(Xc_valp)\n",
    "\n",
    "yc_predict_val = model.predict(Xc_valp)\n",
    "min_probs = list(range(50,70,1))\n",
    "prof = []\n",
    "acc = []\n",
    "for min_prob in min_probs:\n",
    "    print('MIN PROBABILITY: ',min_prob)\n",
    "    good = 0\n",
    "    bad = 0\n",
    "    ig = 0\n",
    "    ib = 0\n",
    "    for i in range(len(yc_val)):\n",
    "        \n",
    "        if max(proba[i])>min_prob/100:\n",
    "            if list(yc_val)[i]==list(yc_predict_val)[i]:\n",
    "                ig +=1\n",
    "                #good += np.abs(list(Xc_val_change['Change'])[i])\n",
    "                good += (0.0001/list(Xc_val_change['Price'])[i])*1000*np.abs(list(Xc_val_change['Change'])[i])*10000\n",
    "            else:\n",
    "                ib +=1\n",
    "                #bad += np.abs(list(Xc_val_change['Change'])[i])\n",
    "                bad += (0.0001/list(Xc_val_change['Price'])[i])*1000*np.abs(list(Xc_val_change['Change'])[i])*10000\n",
    "    print('Good: ',np.round(good,3))\n",
    "    print('Bad: ',np.round(bad,3))\n",
    "    if (ig+ib)!=0:\n",
    "        #profit = np.round((good-bad)/(ig+ib),3)\n",
    "        profit = np.round((good-bad),3)\n",
    "        #accuracy = accuracy_score(yc_val,yc_predict_val)\n",
    "        accuracy = ig/(ig+ib)\n",
    "\n",
    "    else:\n",
    "        profit = 0\n",
    "        accuracy = 0\n",
    "    \n",
    "    prof.append(profit)\n",
    "    print('Profit: ',profit)\n",
    "    acc.append(accuracy)\n",
    "    print('Accuracy: ',np.round(accuracy,3))\n",
    "    print('#:',ig+ib)\n",
    "    print('%:',(ig+ib)/len(yc_val))\n",
    "    \n",
    "    kappa = cohen_kappa_score(yc_val,yc_predict_val)\n",
    "\n",
    "    #print('Kappa: ',np.round(kappa,4))\n",
    "    print('\\n')\n",
    "\n",
    "plt.plot(min_probs,prof)"
   ]
  },
  {
   "cell_type": "code",
   "execution_count": 989,
   "metadata": {
    "ExecuteTime": {
     "end_time": "2021-05-19T15:42:06.071418Z",
     "start_time": "2021-05-19T15:42:05.602591Z"
    }
   },
   "outputs": [
    {
     "name": "stdout",
     "output_type": "stream",
     "text": [
      "Good:  1908.698\n",
      "Bad:  2080.372\n",
      "Profit:  -171.674\n",
      "Accuracy:  0.494\n",
      "Kappa:  -0.0132\n",
      "940\n"
     ]
    }
   ],
   "source": [
    "proba = model.predict_proba(Xc_testp)\n",
    "\n",
    "yc_predict = model.predict(Xc_testp)\n",
    "good = 0\n",
    "bad = 0\n",
    "ii = 0\n",
    "for i in range(len(yc_test)):\n",
    "\n",
    "    if max(proba[i])>0.5:\n",
    "        ii +=1\n",
    "        if list(yc_test)[i]==list(yc_predict)[i]:\n",
    "            #good += np.abs(list(Xc_test_change['Change'])[i])\n",
    "            good += (0.0001/list(Xc_test_change['Price'])[i])*1000*np.abs(list(Xc_test_change['Change'])[i])*10000\n",
    "        else:\n",
    "            bad += (0.0001/list(Xc_test_change['Price'])[i])*1000*np.abs(list(Xc_test_change['Change'])[i])*10000\n",
    "            #bad += np.abs(list(Xc_test_change['Change'])[i])\n",
    "print('Good: ',np.round(good,3))\n",
    "print('Bad: ',np.round(bad,3))\n",
    "profit = np.round(good-bad,3)\n",
    "print('Profit: ',profit)\n",
    "\n",
    "accuracy = accuracy_score(yc_test,yc_predict)\n",
    "print('Accuracy: ',np.round(accuracy,3))\n",
    "\n",
    "kappa = cohen_kappa_score(yc_test,yc_predict)\n",
    "\n",
    "print('Kappa: ',np.round(kappa,4))\n",
    "print(ii)"
   ]
  },
  {
   "cell_type": "markdown",
   "metadata": {
    "heading_collapsed": true
   },
   "source": [
    "### GradientBoostingClassifier() - RobustScaler"
   ]
  },
  {
   "cell_type": "markdown",
   "metadata": {
    "heading_collapsed": true,
    "hidden": true
   },
   "source": [
    "#### Test 2"
   ]
  },
  {
   "cell_type": "code",
   "execution_count": 911,
   "metadata": {
    "ExecuteTime": {
     "end_time": "2021-05-19T09:29:14.427817Z",
     "start_time": "2021-05-19T09:29:09.880433Z"
    },
    "hidden": true
   },
   "outputs": [
    {
     "name": "stdout",
     "output_type": "stream",
     "text": [
      "Good:  2.327\n",
      "Bad:  2.694\n",
      "Profit:  -0.367\n",
      "Accuracy:  0.496\n",
      "Kappa:  -0.0086\n"
     ]
    }
   ],
   "source": [
    "model = GBC(learning_rate= 0.1, max_depth= 13, n_estimators= 130, subsample= 0.5,random_state=1)\n",
    "\n",
    "model.fit(Xc_train, yc_train)\n",
    "\n",
    "yc_predict = model.predict(Xc_test)\n",
    "good = 0\n",
    "bad = 0\n",
    "for i in range(len(yc_test)):\n",
    "    \n",
    "    if list(yc_test)[i]==list(yc_predict)[i]:\n",
    "        good += np.abs(list(Xc_test_change['Change'])[i])\n",
    "    else:\n",
    "        bad += np.abs(list(Xc_test_change['Change'])[i])\n",
    "print('Good: ',np.round(good,3))\n",
    "print('Bad: ',np.round(bad,3))\n",
    "print('Profit: ',np.round(good-bad,3))\n",
    "\n",
    "#accuracy = sum(yc_train==yc_predict)/len(yc_train)\n",
    "accuracy = accuracy_score(yc_test,yc_predict)\n",
    "print('Accuracy: ',np.round(accuracy,3))\n",
    "\n",
    "kappa = cohen_kappa_score(yc_test,yc_predict)\n",
    "\n",
    "print('Kappa: ',np.round(kappa,4))"
   ]
  },
  {
   "cell_type": "markdown",
   "metadata": {
    "heading_collapsed": true,
    "hidden": true
   },
   "source": [
    "#### Optimal Probability"
   ]
  },
  {
   "cell_type": "code",
   "execution_count": 939,
   "metadata": {
    "ExecuteTime": {
     "end_time": "2021-05-19T12:32:33.978204Z",
     "start_time": "2021-05-19T12:32:01.969155Z"
    },
    "hidden": true
   },
   "outputs": [
    {
     "name": "stdout",
     "output_type": "stream",
     "text": [
      "MIN PROBABILITY:  50\n",
      "Good:  3.727\n",
      "Bad:  3.402\n",
      "Profit:  0.00026\n",
      "Accuracy:  0.508\n",
      "\n",
      "\n",
      "MIN PROBABILITY:  51\n",
      "Good:  3.708\n",
      "Bad:  3.353\n",
      "Profit:  0.00029\n",
      "Accuracy:  0.51\n",
      "\n",
      "\n",
      "MIN PROBABILITY:  52\n",
      "Good:  3.652\n",
      "Bad:  3.326\n",
      "Profit:  0.00027\n",
      "Accuracy:  0.508\n",
      "\n",
      "\n",
      "MIN PROBABILITY:  53\n",
      "Good:  3.598\n",
      "Bad:  3.292\n",
      "Profit:  0.00025\n",
      "Accuracy:  0.509\n",
      "\n",
      "\n",
      "MIN PROBABILITY:  54\n",
      "Good:  3.533\n",
      "Bad:  3.242\n",
      "Profit:  0.00024\n",
      "Accuracy:  0.508\n",
      "\n",
      "\n",
      "MIN PROBABILITY:  55\n",
      "Good:  3.49\n",
      "Bad:  3.183\n",
      "Profit:  0.00026\n",
      "Accuracy:  0.509\n",
      "\n",
      "\n",
      "MIN PROBABILITY:  56\n",
      "Good:  3.45\n",
      "Bad:  3.116\n",
      "Profit:  0.00029\n",
      "Accuracy:  0.51\n",
      "\n",
      "\n",
      "MIN PROBABILITY:  57\n",
      "Good:  3.402\n",
      "Bad:  3.041\n",
      "Profit:  0.00032\n",
      "Accuracy:  0.509\n",
      "\n",
      "\n",
      "MIN PROBABILITY:  58\n",
      "Good:  3.306\n",
      "Bad:  2.971\n",
      "Profit:  0.0003\n",
      "Accuracy:  0.508\n",
      "\n",
      "\n",
      "MIN PROBABILITY:  59\n",
      "Good:  3.172\n",
      "Bad:  2.898\n",
      "Profit:  0.00025\n",
      "Accuracy:  0.506\n",
      "\n",
      "\n",
      "MIN PROBABILITY:  60\n",
      "Good:  3.075\n",
      "Bad:  2.843\n",
      "Profit:  0.00022\n",
      "Accuracy:  0.505\n",
      "\n",
      "\n",
      "MIN PROBABILITY:  61\n",
      "Good:  3.024\n",
      "Bad:  2.774\n",
      "Profit:  0.00024\n",
      "Accuracy:  0.507\n",
      "\n",
      "\n",
      "MIN PROBABILITY:  62\n",
      "Good:  2.933\n",
      "Bad:  2.695\n",
      "Profit:  0.00023\n",
      "Accuracy:  0.505\n",
      "\n",
      "\n",
      "MIN PROBABILITY:  63\n",
      "Good:  2.845\n",
      "Bad:  2.652\n",
      "Profit:  0.00019\n",
      "Accuracy:  0.502\n",
      "\n",
      "\n",
      "MIN PROBABILITY:  64\n",
      "Good:  2.805\n",
      "Bad:  2.584\n",
      "Profit:  0.00023\n",
      "Accuracy:  0.503\n",
      "\n",
      "\n",
      "MIN PROBABILITY:  65\n",
      "Good:  2.694\n",
      "Bad:  2.548\n",
      "Profit:  0.00015\n",
      "Accuracy:  0.498\n",
      "\n",
      "\n",
      "MIN PROBABILITY:  66\n",
      "Good:  2.636\n",
      "Bad:  2.533\n",
      "Profit:  0.00011\n",
      "Accuracy:  0.498\n",
      "\n",
      "\n",
      "MIN PROBABILITY:  67\n",
      "Good:  2.546\n",
      "Bad:  2.505\n",
      "Profit:  4e-05\n",
      "Accuracy:  0.497\n",
      "\n",
      "\n",
      "MIN PROBABILITY:  68\n",
      "Good:  2.502\n",
      "Bad:  2.461\n",
      "Profit:  5e-05\n",
      "Accuracy:  0.498\n",
      "\n",
      "\n",
      "MIN PROBABILITY:  69\n",
      "Good:  2.435\n",
      "Bad:  2.362\n",
      "Profit:  8e-05\n",
      "Accuracy:  0.499\n",
      "\n",
      "\n",
      "MIN PROBABILITY:  70\n",
      "Good:  2.413\n",
      "Bad:  2.327\n",
      "Profit:  0.0001\n",
      "Accuracy:  0.499\n",
      "\n",
      "\n",
      "MIN PROBABILITY:  71\n",
      "Good:  2.317\n",
      "Bad:  2.262\n",
      "Profit:  7e-05\n",
      "Accuracy:  0.5\n",
      "\n",
      "\n",
      "MIN PROBABILITY:  72\n",
      "Good:  2.2\n",
      "Bad:  2.194\n",
      "Profit:  1e-05\n",
      "Accuracy:  0.499\n",
      "\n",
      "\n",
      "MIN PROBABILITY:  73\n",
      "Good:  2.143\n",
      "Bad:  2.106\n",
      "Profit:  5e-05\n",
      "Accuracy:  0.5\n",
      "\n",
      "\n",
      "MIN PROBABILITY:  74\n",
      "Good:  2.092\n",
      "Bad:  2.016\n",
      "Profit:  0.0001\n",
      "Accuracy:  0.503\n",
      "\n",
      "\n",
      "MIN PROBABILITY:  75\n",
      "Good:  2.024\n",
      "Bad:  1.934\n",
      "Profit:  0.00012\n",
      "Accuracy:  0.506\n",
      "\n",
      "\n",
      "MIN PROBABILITY:  76\n",
      "Good:  1.991\n",
      "Bad:  1.874\n",
      "Profit:  0.00016\n",
      "Accuracy:  0.509\n",
      "\n",
      "\n",
      "MIN PROBABILITY:  77\n",
      "Good:  1.909\n",
      "Bad:  1.814\n",
      "Profit:  0.00014\n",
      "Accuracy:  0.51\n",
      "\n",
      "\n",
      "MIN PROBABILITY:  78\n",
      "Good:  1.815\n",
      "Bad:  1.764\n",
      "Profit:  8e-05\n",
      "Accuracy:  0.511\n",
      "\n",
      "\n",
      "MIN PROBABILITY:  79\n",
      "Good:  1.794\n",
      "Bad:  1.69\n",
      "Profit:  0.00016\n",
      "Accuracy:  0.516\n",
      "\n",
      "\n",
      "MIN PROBABILITY:  80\n",
      "Good:  1.721\n",
      "Bad:  1.629\n",
      "Profit:  0.00015\n",
      "Accuracy:  0.52\n",
      "\n",
      "\n",
      "MIN PROBABILITY:  81\n",
      "Good:  1.642\n",
      "Bad:  1.552\n",
      "Profit:  0.00015\n",
      "Accuracy:  0.518\n",
      "\n",
      "\n",
      "MIN PROBABILITY:  82\n",
      "Good:  1.58\n",
      "Bad:  1.45\n",
      "Profit:  0.00024\n",
      "Accuracy:  0.523\n",
      "\n",
      "\n",
      "MIN PROBABILITY:  83\n",
      "Good:  1.469\n",
      "Bad:  1.406\n",
      "Profit:  0.00012\n",
      "Accuracy:  0.518\n",
      "\n",
      "\n",
      "MIN PROBABILITY:  84\n",
      "Good:  1.423\n",
      "Bad:  1.367\n",
      "Profit:  0.00011\n",
      "Accuracy:  0.517\n",
      "\n",
      "\n",
      "MIN PROBABILITY:  85\n",
      "Good:  1.281\n",
      "Bad:  1.277\n",
      "Profit:  1e-05\n",
      "Accuracy:  0.505\n",
      "\n",
      "\n",
      "MIN PROBABILITY:  86\n",
      "Good:  1.2\n",
      "Bad:  1.171\n",
      "Profit:  7e-05\n",
      "Accuracy:  0.503\n",
      "\n",
      "\n",
      "MIN PROBABILITY:  87\n",
      "Good:  1.133\n",
      "Bad:  1.119\n",
      "Profit:  3e-05\n",
      "Accuracy:  0.51\n",
      "\n",
      "\n",
      "MIN PROBABILITY:  88\n",
      "Good:  1.031\n",
      "Bad:  1.044\n",
      "Profit:  -3e-05\n",
      "Accuracy:  0.509\n",
      "\n",
      "\n",
      "MIN PROBABILITY:  89\n",
      "Good:  0.963\n",
      "Bad:  0.939\n",
      "Profit:  7e-05\n",
      "Accuracy:  0.504\n",
      "\n",
      "\n",
      "MIN PROBABILITY:  90\n",
      "Good:  0.871\n",
      "Bad:  0.836\n",
      "Profit:  0.00011\n",
      "Accuracy:  0.503\n",
      "\n",
      "\n",
      "MIN PROBABILITY:  91\n",
      "Good:  0.827\n",
      "Bad:  0.736\n",
      "Profit:  0.0003\n",
      "Accuracy:  0.52\n",
      "\n",
      "\n",
      "MIN PROBABILITY:  92\n",
      "Good:  0.759\n",
      "Bad:  0.684\n",
      "Profit:  0.00027\n",
      "Accuracy:  0.516\n",
      "\n",
      "\n",
      "MIN PROBABILITY:  93\n",
      "Good:  0.65\n",
      "Bad:  0.62\n",
      "Profit:  0.00013\n",
      "Accuracy:  0.504\n",
      "\n",
      "\n",
      "MIN PROBABILITY:  94\n",
      "Good:  0.547\n",
      "Bad:  0.545\n",
      "Profit:  1e-05\n",
      "Accuracy:  0.51\n",
      "\n",
      "\n",
      "MIN PROBABILITY:  95\n",
      "Good:  0.459\n",
      "Bad:  0.424\n",
      "Profit:  0.00022\n",
      "Accuracy:  0.515\n",
      "\n",
      "\n",
      "MIN PROBABILITY:  96\n",
      "Good:  0.345\n",
      "Bad:  0.327\n",
      "Profit:  0.00015\n",
      "Accuracy:  0.516\n",
      "\n",
      "\n",
      "MIN PROBABILITY:  97\n",
      "Good:  0.222\n",
      "Bad:  0.243\n",
      "Profit:  -0.00024\n",
      "Accuracy:  0.488\n",
      "\n",
      "\n",
      "MIN PROBABILITY:  98\n",
      "Good:  0.128\n",
      "Bad:  0.139\n",
      "Profit:  -0.00019\n",
      "Accuracy:  0.472\n",
      "\n",
      "\n",
      "MIN PROBABILITY:  99\n",
      "Good:  0.04\n",
      "Bad:  0.018\n",
      "Profit:  0.00124\n",
      "Accuracy:  0.611\n",
      "\n",
      "\n"
     ]
    },
    {
     "data": {
      "text/plain": [
       "[<matplotlib.lines.Line2D at 0x7f95110c5790>]"
      ]
     },
     "execution_count": 939,
     "metadata": {},
     "output_type": "execute_result"
    },
    {
     "data": {
      "image/png": "[encoded data removed]",
      "text/plain": [
       "<Figure size 432x288 with 1 Axes>"
      ]
     },
     "metadata": {
      "needs_background": "light"
     },
     "output_type": "display_data"
    }
   ],
   "source": [
    "proba = model.predict_proba(Xc_val)\n",
    "\n",
    "yc_predict_val = model.predict(Xc_val)\n",
    "min_probs = list(range(50,100,1))\n",
    "prof = []\n",
    "for min_prob in min_probs:\n",
    "    print('MIN PROBABILITY: ',min_prob)\n",
    "    good = 0\n",
    "    bad = 0\n",
    "    ig = 0\n",
    "    ib = 0\n",
    "    for i in range(len(yc_val)):\n",
    "        \n",
    "        if max(proba[i])>min_prob/100:\n",
    "            if list(yc_val)[i]==list(yc_predict_val)[i]:\n",
    "                ig += 1\n",
    "                good += np.abs(list(Xc_val_change['Change'])[i])\n",
    "            else:\n",
    "                ib += 1\n",
    "                bad += np.abs(list(Xc_val_change['Change'])[i])\n",
    "    print('Good: ',np.round(good,3))\n",
    "    print('Bad: ',np.round(bad,3))\n",
    "    profit = np.round((good-bad)/(ig+ib),5)\n",
    "    prof.append(profit)\n",
    "    print('Profit: ',profit)\n",
    "\n",
    "    accuracy = ig/(ig+ib)\n",
    "    print('Accuracy: ',np.round(accuracy,3))\n",
    "    \n",
    "    kappa = cohen_kappa_score(yc_val,yc_predict_val)\n",
    "\n",
    "    #print('Kappa: ',np.round(kappa,4))\n",
    "    print('\\n')\n",
    "\n",
    "plt.plot(min_probs,prof)"
   ]
  },
  {
   "cell_type": "code",
   "execution_count": 941,
   "metadata": {
    "ExecuteTime": {
     "end_time": "2021-05-19T12:33:30.466236Z",
     "start_time": "2021-05-19T12:33:30.453372Z"
    },
    "hidden": true
   },
   "outputs": [
    {
     "data": {
      "text/plain": [
       "18"
      ]
     },
     "execution_count": 941,
     "metadata": {},
     "output_type": "execute_result"
    }
   ],
   "source": [
    "ig+ib"
   ]
  },
  {
   "cell_type": "code",
   "execution_count": 922,
   "metadata": {
    "ExecuteTime": {
     "end_time": "2021-05-19T10:11:39.212792Z",
     "start_time": "2021-05-19T10:11:39.158431Z"
    },
    "hidden": true
   },
   "outputs": [
    {
     "name": "stdout",
     "output_type": "stream",
     "text": [
      "Good:  0.008\n",
      "Bad:  0.005\n",
      "Profit:  0.003\n",
      "Accuracy:  0.6\n",
      "Kappa:  -0.0086\n"
     ]
    }
   ],
   "source": [
    "proba = model.predict_proba(Xc_test)\n",
    "\n",
    "yc_predict = model.predict(Xc_test)\n",
    "good = 0\n",
    "bad = 0\n",
    "ig = 0\n",
    "ib = 0\n",
    "for i in range(len(yc_test)):\n",
    "\n",
    "    if max(proba[i])>0.99:\n",
    "        if list(yc_test)[i]==list(yc_predict)[i]:\n",
    "            ig += 1\n",
    "            good += np.abs(list(Xc_test_change['Change'])[i])\n",
    "        else:\n",
    "            ib += 1\n",
    "            bad += np.abs(list(Xc_test_change['Change'])[i])\n",
    "print('Good: ',np.round(good,3))\n",
    "print('Bad: ',np.round(bad,3))\n",
    "profit = np.round(good-bad,3)\n",
    "print('Profit: ',profit)\n",
    "\n",
    "#accuracy = accuracy_score(yc_test,yc_predict)\n",
    "accuracy = ig/(ig+ib)\n",
    "print('Accuracy: ',np.round(accuracy,3))\n",
    "\n",
    "kappa = cohen_kappa_score(yc_test,yc_predict)\n",
    "\n",
    "print('Kappa: ',np.round(kappa,4))"
   ]
  },
  {
   "cell_type": "markdown",
   "metadata": {},
   "source": [
    "## Regression"
   ]
  },
  {
   "cell_type": "markdown",
   "metadata": {},
   "source": [
    "### Preparing data"
   ]
  },
  {
   "cell_type": "markdown",
   "metadata": {
    "heading_collapsed": true
   },
   "source": [
    "#### StandardScaler&Poly"
   ]
  },
  {
   "cell_type": "code",
   "execution_count": 1039,
   "metadata": {
    "ExecuteTime": {
     "end_time": "2021-05-19T16:23:15.777831Z",
     "start_time": "2021-05-19T16:23:15.645098Z"
    },
    "hidden": true
   },
   "outputs": [],
   "source": [
    "columns_to_drop = ['Date','year','month','day','Y','Y_pos','Close','High','Low','Overbought','Oversold']\n",
    "\n",
    "Xc = data.drop(columns=columns_to_drop,errors='ignore')\n",
    "yc = data['Y']\n",
    "\n",
    "Xc_train_change, Xc_test_change, yc_train, yc_test = tts(Xc,yc,test_size=0.2,random_state=1123)\n",
    "Xc_train_change, Xc_val_change, yc_train, yc_val = tts(Xc_train_change,yc_train,test_size=1/3,random_state=1123)\n",
    "\n",
    "Xc_train_change = pd.DataFrame(Xc_train_change, columns = Xc.columns)\n",
    "Xc_test_change  = pd.DataFrame(Xc_test_change, columns = Xc.columns)\n",
    "Xc_val_change = pd.DataFrame(Xc_val_change, columns = Xc.columns)\n",
    "\n",
    "Xc_train = Xc_train_change.drop(columns=['Change','Price'],errors='ignore')\n",
    "Xc_test = Xc_test_change.drop(columns=['Change','Price'],errors='ignore')\n",
    "Xc_val = Xc_val_change.drop(columns=['Change','Price'],errors='ignore')\n",
    "\n",
    "feature_names = Xc_train.columns\n",
    "scaler = StandardScaler()\n",
    "\n",
    "scaler.fit(Xc_train)\n",
    "\n",
    "Xc_train = scaler.transform(Xc_train)\n",
    "Xc_test  = scaler.transform(Xc_test)\n",
    "Xc_val  = scaler.transform(Xc_val)\n",
    "\n",
    "Xc_train = pd.DataFrame(Xc_train, columns = feature_names)\n",
    "Xc_test = pd.DataFrame(Xc_test, columns = feature_names)\n",
    "Xc_val = pd.DataFrame(Xc_val, columns = feature_names)\n",
    "\n",
    "poly = PF(2)\n",
    "Xc_trainp = poly.fit_transform(Xc_train)\n",
    "Xc_testp = poly.fit_transform(Xc_test)\n",
    "Xc_valp = poly.fit_transform(Xc_val)\n",
    "\n",
    "feature_namesp = poly.get_feature_names(Xc_train.columns)\n",
    "\n",
    "Xc_trainp = pd.DataFrame(Xc_trainp, columns = feature_namesp)\n",
    "Xc_testp = pd.DataFrame(Xc_testp, columns = feature_namesp)\n",
    "Xc_valp = pd.DataFrame(Xc_valp, columns = feature_namesp)"
   ]
  },
  {
   "cell_type": "markdown",
   "metadata": {
    "heading_collapsed": true
   },
   "source": [
    "#### RobustScaler&Poly"
   ]
  },
  {
   "cell_type": "code",
   "execution_count": 1035,
   "metadata": {
    "ExecuteTime": {
     "end_time": "2021-05-19T16:22:37.846673Z",
     "start_time": "2021-05-19T16:22:37.666285Z"
    },
    "hidden": true
   },
   "outputs": [],
   "source": [
    "columns_to_drop = ['Date','year','month','day','Y','Y_pos','Close','High','Low','Overbought','Oversold']\n",
    "\n",
    "Xc = data.drop(columns=columns_to_drop,errors='ignore')\n",
    "yc = data['Y']\n",
    "\n",
    "Xc_train_change, Xc_test_change, yc_train, yc_test = tts(Xc,yc,test_size=0.2,random_state=1123)\n",
    "Xc_train_change, Xc_val_change, yc_train, yc_val = tts(Xc_train_change,yc_train,test_size=1/3,random_state=1123)\n",
    "\n",
    "Xc_train_change = pd.DataFrame(Xc_train_change, columns = Xc.columns)\n",
    "Xc_test_change  = pd.DataFrame(Xc_test_change, columns = Xc.columns)\n",
    "Xc_val_change = pd.DataFrame(Xc_val_change, columns = Xc.columns)\n",
    "\n",
    "Xc_train = Xc_train_change.drop(columns=['Change','Price'],errors='ignore')\n",
    "Xc_test = Xc_test_change.drop(columns=['Change','Price'],errors='ignore')\n",
    "Xc_val = Xc_val_change.drop(columns=['Change','Price'],errors='ignore')\n",
    "\n",
    "feature_names = Xc_train.columns\n",
    "scaler = RobustScaler()\n",
    "\n",
    "scaler.fit(Xc_train)\n",
    "\n",
    "Xc_train = scaler.transform(Xc_train)\n",
    "Xc_test  = scaler.transform(Xc_test)\n",
    "Xc_val  = scaler.transform(Xc_val)\n",
    "\n",
    "Xc_train = pd.DataFrame(Xc_train, columns = feature_names)\n",
    "Xc_test = pd.DataFrame(Xc_test, columns = feature_names)\n",
    "Xc_val = pd.DataFrame(Xc_val, columns = feature_names)\n",
    "\n",
    "poly = PF(2)\n",
    "Xc_trainp = poly.fit_transform(Xc_train)\n",
    "Xc_testp = poly.fit_transform(Xc_test)\n",
    "Xc_valp = poly.fit_transform(Xc_val)\n",
    "\n",
    "feature_namesp = poly.get_feature_names(Xc_train.columns)\n",
    "\n",
    "Xc_trainp = pd.DataFrame(Xc_trainp, columns = feature_namesp)\n",
    "Xc_testp = pd.DataFrame(Xc_testp, columns = feature_namesp)\n",
    "Xc_valp = pd.DataFrame(Xc_valp, columns = feature_namesp)"
   ]
  },
  {
   "cell_type": "markdown",
   "metadata": {},
   "source": [
    "### GradientBoostingRegressor"
   ]
  },
  {
   "cell_type": "markdown",
   "metadata": {
    "heading_collapsed": true
   },
   "source": [
    "#### Basic"
   ]
  },
  {
   "cell_type": "code",
   "execution_count": 1006,
   "metadata": {
    "ExecuteTime": {
     "end_time": "2021-05-19T15:55:24.088965Z",
     "start_time": "2021-05-19T15:52:34.520317Z"
    },
    "hidden": true
   },
   "outputs": [
    {
     "ename": "TypeError",
     "evalue": "'numpy.float64' object is not callable",
     "output_type": "error",
     "traceback": [
      "\u001b[0;31m---------------------------------------------------------------------------\u001b[0m",
      "\u001b[0;31mTypeError\u001b[0m                                 Traceback (most recent call last)",
      "\u001b[0;32m<ipython-input-1006-16115f1e3bc1>\u001b[0m in \u001b[0;36m<module>\u001b[0;34m\u001b[0m\n\u001b[1;32m      5\u001b[0m \u001b[0mn_scores\u001b[0m \u001b[0;34m=\u001b[0m \u001b[0mcross_val_score\u001b[0m\u001b[0;34m(\u001b[0m\u001b[0mmodel\u001b[0m\u001b[0;34m,\u001b[0m \u001b[0mXc_trainp\u001b[0m\u001b[0;34m,\u001b[0m \u001b[0myc_train\u001b[0m\u001b[0;34m,\u001b[0m \u001b[0mscoring\u001b[0m\u001b[0;34m=\u001b[0m\u001b[0;34m'neg_mean_absolute_error'\u001b[0m\u001b[0;34m,\u001b[0m \u001b[0mcv\u001b[0m\u001b[0;34m=\u001b[0m\u001b[0mcv\u001b[0m\u001b[0;34m,\u001b[0m \u001b[0mn_jobs\u001b[0m\u001b[0;34m=\u001b[0m\u001b[0;34m-\u001b[0m\u001b[0;36m1\u001b[0m\u001b[0;34m)\u001b[0m\u001b[0;34m\u001b[0m\u001b[0;34m\u001b[0m\u001b[0m\n\u001b[1;32m      6\u001b[0m \u001b[0;34m\u001b[0m\u001b[0m\n\u001b[0;32m----> 7\u001b[0;31m \u001b[0mprint\u001b[0m\u001b[0;34m(\u001b[0m\u001b[0;34m'MAE: %.3f (%.3f)'\u001b[0m \u001b[0;34m%\u001b[0m \u001b[0;34m(\u001b[0m\u001b[0mmean\u001b[0m\u001b[0;34m(\u001b[0m\u001b[0mn_scores\u001b[0m\u001b[0;34m)\u001b[0m\u001b[0;34m,\u001b[0m \u001b[0mstd\u001b[0m\u001b[0;34m(\u001b[0m\u001b[0mn_scores\u001b[0m\u001b[0;34m)\u001b[0m\u001b[0;34m)\u001b[0m\u001b[0;34m)\u001b[0m\u001b[0;34m\u001b[0m\u001b[0;34m\u001b[0m\u001b[0m\n\u001b[0m",
      "\u001b[0;31mTypeError\u001b[0m: 'numpy.float64' object is not callable"
     ]
    }
   ],
   "source": [
    "model = GBR()\n",
    "\n",
    "cv = RepeatedKFold(n_splits=10, n_repeats=3, random_state=1)\n",
    "\n",
    "n_scores = cross_val_score(model, Xc_trainp, yc_train, scoring='neg_mean_absolute_error', cv=cv, n_jobs=-1)\n",
    "\n",
    "print('MAE: %.3f (%.3f)' % (np.mean(n_scores), np.std(n_scores)))"
   ]
  },
  {
   "cell_type": "code",
   "execution_count": 1040,
   "metadata": {
    "ExecuteTime": {
     "end_time": "2021-05-19T16:23:31.453655Z",
     "start_time": "2021-05-19T16:23:20.697510Z"
    },
    "hidden": true
   },
   "outputs": [],
   "source": [
    "model = GBR(random_state=1)\n",
    "model.fit(Xc_trainp, yc_train)\n",
    "yc_predict = model.predict(Xc_trainp)\n",
    "yc_predict_val = model.predict(Xc_valp)"
   ]
  },
  {
   "cell_type": "code",
   "execution_count": 1041,
   "metadata": {
    "ExecuteTime": {
     "end_time": "2021-05-19T16:23:35.672906Z",
     "start_time": "2021-05-19T16:23:32.235078Z"
    },
    "hidden": true
   },
   "outputs": [
    {
     "name": "stdout",
     "output_type": "stream",
     "text": [
      "Profit:  5.838\n",
      "MSE:  4e-05\n",
      "MSE_val:  6e-05\n"
     ]
    }
   ],
   "source": [
    "good = 0\n",
    "bad = 0\n",
    "ig = 0\n",
    "ib = 0\n",
    "for i in range(len(yc_train)):\n",
    "\n",
    "    if np.sign(list(yc_train)[i])==np.sign(list(yc_predict)[i]):\n",
    "        ig += 1\n",
    "        good += np.abs(list(Xc_train_change['Change'])[i])\n",
    "    else:\n",
    "        ib += 1\n",
    "        bad += np.abs(list(Xc_train_change['Change'])[i])\n",
    "\n",
    "print('Profit: ',np.round(good-bad,3))\n",
    "\n",
    "accuracy = ig/(ig+ib)\n",
    "print('Accuracy: ',np.round(accuracy,5))\n",
    "\n",
    "MSE_train = mean_squared_error(yc_train,yc_predict)\n",
    "MSE_val = mean_squared_error(yc_val,yc_predict_val)\n",
    "print('MSE: ',np.round(MSE_train,5))\n",
    "print('MSE_val: ',np.round(MSE_val,5))"
   ]
  },
  {
   "cell_type": "markdown",
   "metadata": {
    "heading_collapsed": true,
    "hidden": true
   },
   "source": [
    "##### Optimization"
   ]
  },
  {
   "cell_type": "code",
   "execution_count": 1056,
   "metadata": {
    "ExecuteTime": {
     "end_time": "2021-05-19T16:53:10.174227Z",
     "start_time": "2021-05-19T16:52:49.021920Z"
    },
    "hidden": true
   },
   "outputs": [
    {
     "name": "stdout",
     "output_type": "stream",
     "text": [
      "Profit:  -28.963\n",
      "Accuracy:  0.5099\n",
      "808\n",
      "\n",
      "\n",
      "Profit:  -57.193\n",
      "Accuracy:  0.50731\n",
      "684\n",
      "\n",
      "\n",
      "Profit:  -106.111\n",
      "Accuracy:  0.48566\n",
      "523\n",
      "\n",
      "\n",
      "Profit:  -187.729\n",
      "Accuracy:  0.46505\n",
      "372\n",
      "\n",
      "\n",
      "Profit:  -173.977\n",
      "Accuracy:  0.44195\n",
      "267\n",
      "\n",
      "\n",
      "Profit:  -140.502\n",
      "Accuracy:  0.4486\n",
      "214\n",
      "\n",
      "\n",
      "Profit:  -146.012\n",
      "Accuracy:  0.43114\n",
      "167\n",
      "\n",
      "\n",
      "Profit:  -119.052\n",
      "Accuracy:  0.42975\n",
      "121\n",
      "\n",
      "\n",
      "Profit:  -105.543\n",
      "Accuracy:  0.42268\n",
      "97\n",
      "\n",
      "\n",
      "Profit:  -98.718\n",
      "Accuracy:  0.41667\n",
      "84\n",
      "\n",
      "\n",
      "Profit:  -80.076\n",
      "Accuracy:  0.41429\n",
      "70\n",
      "\n",
      "\n",
      "Profit:  -76.13\n",
      "Accuracy:  0.41667\n",
      "60\n",
      "\n",
      "\n",
      "Profit:  -65.168\n",
      "Accuracy:  0.43636\n",
      "55\n",
      "\n",
      "\n",
      "Profit:  -53.047\n",
      "Accuracy:  0.44\n",
      "50\n",
      "\n",
      "\n",
      "Profit:  -73.674\n",
      "Accuracy:  0.38636\n",
      "44\n",
      "\n",
      "\n",
      "Profit:  -52.894\n",
      "Accuracy:  0.39394\n",
      "33\n",
      "\n",
      "\n",
      "Profit:  -65.874\n",
      "Accuracy:  0.36667\n",
      "30\n",
      "\n",
      "\n",
      "Profit:  -44.74\n",
      "Accuracy:  0.42308\n",
      "26\n",
      "\n",
      "\n",
      "Profit:  -48.188\n",
      "Accuracy:  0.4\n",
      "25\n",
      "\n",
      "\n",
      "Profit:  -34.978\n",
      "Accuracy:  0.3913\n",
      "23\n",
      "\n",
      "\n",
      "Profit:  -32.828\n",
      "Accuracy:  0.42857\n",
      "21\n",
      "\n",
      "\n",
      "Profit:  -23.37\n",
      "Accuracy:  0.47059\n",
      "17\n",
      "\n",
      "\n",
      "Profit:  -13.385\n",
      "Accuracy:  0.5\n",
      "16\n",
      "\n",
      "\n",
      "Profit:  -16.897\n",
      "Accuracy:  0.46667\n",
      "15\n",
      "\n",
      "\n",
      "Profit:  -24.86\n",
      "Accuracy:  0.42857\n",
      "14\n",
      "\n",
      "\n",
      "Profit:  -25.474\n",
      "Accuracy:  0.38462\n",
      "13\n",
      "\n",
      "\n",
      "Profit:  -2.528\n",
      "Accuracy:  0.4\n",
      "10\n",
      "\n",
      "\n",
      "Profit:  -14.631\n",
      "Accuracy:  0.33333\n",
      "9\n",
      "\n",
      "\n",
      "Profit:  -14.631\n",
      "Accuracy:  0.33333\n",
      "9\n",
      "\n",
      "\n",
      "Profit:  -11.129\n",
      "Accuracy:  0.375\n",
      "8\n",
      "\n",
      "\n",
      "Profit:  -11.129\n",
      "Accuracy:  0.375\n",
      "8\n",
      "\n",
      "\n",
      "Profit:  2.133\n",
      "Accuracy:  0.42857\n",
      "7\n",
      "\n",
      "\n",
      "Profit:  2.133\n",
      "Accuracy:  0.42857\n",
      "7\n",
      "\n",
      "\n",
      "Profit:  2.133\n",
      "Accuracy:  0.42857\n",
      "7\n",
      "\n",
      "\n",
      "Profit:  -23.393\n",
      "Accuracy:  0.33333\n",
      "6\n",
      "\n",
      "\n",
      "Profit:  -23.393\n",
      "Accuracy:  0.33333\n",
      "6\n",
      "\n",
      "\n",
      "Profit:  -23.393\n",
      "Accuracy:  0.33333\n",
      "6\n",
      "\n",
      "\n",
      "Profit:  -23.393\n",
      "Accuracy:  0.33333\n",
      "6\n",
      "\n",
      "\n",
      "Profit:  -18.883\n",
      "Accuracy:  0.4\n",
      "5\n",
      "\n",
      "\n",
      "Profit:  -18.883\n",
      "Accuracy:  0.4\n",
      "5\n",
      "\n",
      "\n",
      "Profit:  -4.24\n",
      "Accuracy:  0.5\n",
      "4\n",
      "\n",
      "\n",
      "Profit:  -4.24\n",
      "Accuracy:  0.5\n",
      "4\n",
      "\n",
      "\n",
      "Profit:  -4.24\n",
      "Accuracy:  0.5\n",
      "4\n",
      "\n",
      "\n",
      "Profit:  -4.24\n",
      "Accuracy:  0.5\n",
      "4\n",
      "\n",
      "\n",
      "Profit:  -4.24\n",
      "Accuracy:  0.5\n",
      "4\n",
      "\n",
      "\n",
      "Profit:  -4.24\n",
      "Accuracy:  0.5\n",
      "4\n",
      "\n",
      "\n",
      "Profit:  -4.24\n",
      "Accuracy:  0.5\n",
      "4\n",
      "\n",
      "\n",
      "Profit:  -4.24\n",
      "Accuracy:  0.5\n",
      "4\n",
      "\n",
      "\n",
      "Profit:  -4.24\n",
      "Accuracy:  0.5\n",
      "4\n",
      "\n",
      "\n",
      "Profit:  -4.24\n",
      "Accuracy:  0.5\n",
      "4\n",
      "\n",
      "\n",
      "Profit:  -4.24\n",
      "Accuracy:  0.5\n",
      "4\n",
      "\n",
      "\n",
      "Profit:  -4.24\n",
      "Accuracy:  0.5\n",
      "4\n",
      "\n",
      "\n",
      "Profit:  -4.24\n",
      "Accuracy:  0.5\n",
      "4\n",
      "\n",
      "\n",
      "Profit:  -4.24\n",
      "Accuracy:  0.5\n",
      "4\n",
      "\n",
      "\n",
      "Profit:  -4.24\n",
      "Accuracy:  0.5\n",
      "4\n",
      "\n",
      "\n",
      "Profit:  -4.24\n",
      "Accuracy:  0.5\n",
      "4\n",
      "\n",
      "\n",
      "Profit:  -4.24\n",
      "Accuracy:  0.5\n",
      "4\n",
      "\n",
      "\n",
      "Profit:  -4.24\n",
      "Accuracy:  0.5\n",
      "4\n",
      "\n",
      "\n",
      "Profit:  -4.24\n",
      "Accuracy:  0.5\n",
      "4\n",
      "\n",
      "\n",
      "Profit:  -4.24\n",
      "Accuracy:  0.5\n",
      "4\n",
      "\n",
      "\n",
      "Profit:  -6.985\n",
      "Accuracy:  0.33333\n",
      "3\n",
      "\n",
      "\n",
      "Profit:  -6.985\n",
      "Accuracy:  0.33333\n",
      "3\n",
      "\n",
      "\n",
      "Profit:  -6.985\n",
      "Accuracy:  0.33333\n",
      "3\n",
      "\n",
      "\n",
      "Profit:  -6.985\n",
      "Accuracy:  0.33333\n",
      "3\n",
      "\n",
      "\n",
      "Profit:  -6.985\n",
      "Accuracy:  0.33333\n",
      "3\n",
      "\n",
      "\n",
      "Profit:  -6.985\n",
      "Accuracy:  0.33333\n",
      "3\n",
      "\n",
      "\n",
      "Profit:  -6.985\n",
      "Accuracy:  0.33333\n",
      "3\n",
      "\n",
      "\n",
      "Profit:  -6.985\n",
      "Accuracy:  0.33333\n",
      "3\n",
      "\n",
      "\n",
      "Profit:  -6.985\n",
      "Accuracy:  0.33333\n",
      "3\n",
      "\n",
      "\n",
      "Profit:  -6.985\n",
      "Accuracy:  0.33333\n",
      "3\n",
      "\n",
      "\n",
      "Profit:  -6.985\n",
      "Accuracy:  0.33333\n",
      "3\n",
      "\n",
      "\n",
      "Profit:  -6.985\n",
      "Accuracy:  0.33333\n",
      "3\n",
      "\n",
      "\n",
      "Profit:  -6.985\n",
      "Accuracy:  0.33333\n",
      "3\n",
      "\n",
      "\n",
      "Profit:  -0.683\n",
      "Accuracy:  0.5\n",
      "2\n",
      "\n",
      "\n",
      "Profit:  -0.683\n",
      "Accuracy:  0.5\n",
      "2\n",
      "\n",
      "\n",
      "Profit:  -0.683\n",
      "Accuracy:  0.5\n",
      "2\n",
      "\n",
      "\n",
      "Profit:  -0.683\n",
      "Accuracy:  0.5\n",
      "2\n",
      "\n",
      "\n",
      "Profit:  27.518\n",
      "Accuracy:  1.0\n",
      "1\n",
      "\n",
      "\n",
      "Profit:  27.518\n",
      "Accuracy:  1.0\n",
      "1\n",
      "\n",
      "\n",
      "Profit:  27.518\n",
      "Accuracy:  1.0\n",
      "1\n",
      "\n",
      "\n",
      "Profit:  27.518\n",
      "Accuracy:  1.0\n",
      "1\n",
      "\n",
      "\n",
      "Profit:  27.518\n",
      "Accuracy:  1.0\n",
      "1\n",
      "\n",
      "\n",
      "Profit:  27.518\n",
      "Accuracy:  1.0\n",
      "1\n",
      "\n",
      "\n",
      "Profit:  27.518\n",
      "Accuracy:  1.0\n",
      "1\n",
      "\n",
      "\n",
      "Profit:  27.518\n",
      "Accuracy:  1.0\n",
      "1\n",
      "\n",
      "\n",
      "Profit:  27.518\n",
      "Accuracy:  1.0\n",
      "1\n",
      "\n",
      "\n",
      "Profit:  27.518\n",
      "Accuracy:  1.0\n",
      "1\n",
      "\n",
      "\n",
      "Profit:  27.518\n",
      "Accuracy:  1.0\n",
      "1\n",
      "\n",
      "\n",
      "Profit:  27.518\n",
      "Accuracy:  1.0\n",
      "1\n",
      "\n",
      "\n",
      "Profit:  27.518\n",
      "Accuracy:  1.0\n",
      "1\n",
      "\n",
      "\n",
      "Profit:  27.518\n",
      "Accuracy:  1.0\n",
      "1\n",
      "\n",
      "\n",
      "Profit:  27.518\n",
      "Accuracy:  1.0\n",
      "1\n",
      "\n",
      "\n",
      "Profit:  27.518\n",
      "Accuracy:  1.0\n",
      "1\n",
      "\n",
      "\n",
      "Profit:  27.518\n",
      "Accuracy:  1.0\n",
      "1\n",
      "\n",
      "\n",
      "Profit:  27.518\n",
      "Accuracy:  1.0\n",
      "1\n",
      "\n",
      "\n",
      "Profit:  27.518\n",
      "Accuracy:  1.0\n",
      "1\n",
      "\n",
      "\n",
      "Profit:  27.518\n",
      "Accuracy:  1.0\n",
      "1\n",
      "\n",
      "\n",
      "Profit:  27.518\n",
      "Accuracy:  1.0\n",
      "1\n",
      "\n",
      "\n",
      "Profit:  27.518\n",
      "Accuracy:  1.0\n",
      "1\n",
      "\n",
      "\n"
     ]
    },
    {
     "data": {
      "text/plain": [
       "[<matplotlib.lines.Line2D at 0x7f950c1f1460>]"
      ]
     },
     "execution_count": 1056,
     "metadata": {},
     "output_type": "execute_result"
    },
    {
     "data": {
      "image/png": "[encoded data removed]",
      "text/plain": [
       "<Figure size 432x288 with 1 Axes>"
      ]
     },
     "metadata": {
      "needs_background": "light"
     },
     "output_type": "display_data"
    }
   ],
   "source": [
    "yc_predict = model.predict(Xc_valp)\n",
    "min_amplitude = np.linspace(0,np.max(np.abs(yc_predict)),100)\n",
    "acc = []\n",
    "prof = []\n",
    "for j in min_amplitude:\n",
    "    good = 0\n",
    "    bad = 0\n",
    "    ig = 0\n",
    "    ib = 0\n",
    "    ii = 0\n",
    "    for i in range(len(yc_val)):\n",
    "        if list(yc_predict)[i]>j:\n",
    "            ii += 1\n",
    "            if (list(yc_val)[i]>0)==(list(yc_predict)[i]>0):\n",
    "                ig += 1\n",
    "                good += (0.0001/list(Xc_val_change['Price'])[i])*1000*np.abs(list(Xc_val_change['Change'])[i])*10000\n",
    "            else:\n",
    "                ib += 1\n",
    "                bad += (0.0001/list(Xc_val_change['Price'])[i])*1000*np.abs(list(Xc_val_change['Change'])[i])*10000\n",
    "    \n",
    "    if (ig+ib)==0:\n",
    "        acc.append(1)\n",
    "        prof.append(0)\n",
    "        continue\n",
    "        \n",
    "    #print('Good: ',np.round(good,3))\n",
    "    #print('Bad: ',np.round(bad,3))\n",
    "    profit = np.round(good-bad,3)\n",
    "    print('Profit: ',profit)\n",
    "\n",
    "    accuracy = ig/(ig+ib)\n",
    "    acc.append(accuracy)\n",
    "    prof.append(profit)\n",
    "    print('Accuracy: ',np.round(accuracy,5))\n",
    "\n",
    "    MSE_test = mean_squared_error(yc_val,yc_predict)\n",
    "    #print('MSE: ',np.round(MSE_test,5))\n",
    "    print(ii)\n",
    "    print('\\n')\n",
    "    \n",
    "plt.plot(min_amplitude,prof)"
   ]
  },
  {
   "cell_type": "code",
   "execution_count": null,
   "metadata": {
    "hidden": true
   },
   "outputs": [],
   "source": [
    "yc_predict = model.predict(Xc_testp)\n",
    "min_amplitude = np.linspace(0,np.max(np.abs(yc_predict)),100)\n",
    "\n",
    "good = 0\n",
    "bad = 0\n",
    "ig = 0\n",
    "ib = 0\n",
    "for i in range(len(yc_test)):\n",
    "    if list(yc_predict)[i]>j:\n",
    "        ii += 1\n",
    "        if (list(yc_test)[i]>0)==(list(yc_predict)[i]>0):\n",
    "            ig += 1\n",
    "            #good += np.abs(list(Xc_test_change['Change'])[i])\n",
    "            good += (0.0001/list(Xc_test_change['Price'])[i])*1000*np.abs(list(Xc_test_change['Change'])[i])*10000\n",
    "        else:\n",
    "            ib += 1\n",
    "            bad += (0.0001/list(Xc_test_change['Price'])[i])*1000*np.abs(list(Xc_test_change['Change'])[i])*10000\n",
    "            #bad += np.abs(list(Xc_test_change['Change'])[i])\n",
    "\n",
    "if (ig+ib)==0:\n",
    "    acc.append(1)\n",
    "    continue\n",
    "#print('Good: ',np.round(good,3))\n",
    "#print('Bad: ',np.round(bad,3))\n",
    "profit = np.round(good-bad,3)\n",
    "print('Profit: ',profit)\n",
    "\n",
    "accuracy = ig/(ig+ib)\n",
    "acc.append(accuracy)\n",
    "print('Accuracy: ',np.round(accuracy,5))\n",
    "\n",
    "MSE_test = mean_squared_error(yc_test,yc_predict)\n",
    "#print('MSE: ',np.round(MSE_test,5))\n",
    "print(ii)\n",
    "print('\\n')\n",
    "    \n",
    "plt.plot(min_amplitude,acc)"
   ]
  },
  {
   "cell_type": "markdown",
   "metadata": {},
   "source": [
    "#### Trial 1"
   ]
  },
  {
   "cell_type": "code",
   "execution_count": null,
   "metadata": {
    "ExecuteTime": {
     "start_time": "2021-05-19T17:01:15.394Z"
    }
   },
   "outputs": [
    {
     "name": "stdout",
     "output_type": "stream",
     "text": [
      "Fitting 30 folds for each of 256 candidates, totalling 7680 fits\n"
     ]
    },
    {
     "name": "stderr",
     "output_type": "stream",
     "text": [
      "[Parallel(n_jobs=-1)]: Using backend LokyBackend with 4 concurrent workers.\n",
      "[Parallel(n_jobs=-1)]: Done  33 tasks      | elapsed:    3.8s\n",
      "[Parallel(n_jobs=-1)]: Done 154 tasks      | elapsed:   34.2s\n"
     ]
    }
   ],
   "source": [
    "model = GBR()\n",
    "\n",
    "grid = dict()  # define the grid of values to search\n",
    "\n",
    "grid['n_estimators'] = [10, 40, 80, 120]\n",
    "grid['learning_rate'] = [0.001, 0.01, 0.1, 1.0]\n",
    "grid['subsample'] = [0.1, 0.5, 0.7, 1.0]\n",
    "grid['max_depth'] = [3, 5, 7, 9]\n",
    "\n",
    "cv = RepeatedKFold(n_splits=10, n_repeats=3, random_state=1)\n",
    "\n",
    "\n",
    "grid_search = GridSearchCV(estimator=model, param_grid=grid, n_jobs=-1, cv=cv, scoring='neg_mean_absolute_error',verbose=2)  # define the grid search procedure\n",
    "\n",
    "\n",
    "grid_result = grid_search.fit(Xc_trainp, yc_train)  # execute the grid search\n",
    "\n",
    "\n",
    "print(\"Best: %f using %s\" % (grid_result.best_score_, grid_result.best_params_)) # summarize the best score and configuration\n",
    "\n",
    "means = grid_result.cv_results_['mean_test_score'] # summarize all scores that were evaluated\n",
    "stds = grid_result.cv_results_['std_test_score']\n",
    "params = grid_result.cv_results_['params']\n",
    "\n",
    "for mean, stdev, param in zip(means, stds, params):\n",
    "    print(\"%f (%f) with: %r\" % (mean, stdev, param))"
   ]
  },
  {
   "cell_type": "code",
   "execution_count": 1058,
   "metadata": {
    "ExecuteTime": {
     "end_time": "2021-05-19T16:59:52.487152Z",
     "start_time": "2021-05-19T16:59:52.481404Z"
    }
   },
   "outputs": [
    {
     "data": {
      "text/plain": [
       "'0.23.2'"
      ]
     },
     "execution_count": 1058,
     "metadata": {},
     "output_type": "execute_result"
    }
   ],
   "source": [
    "import sklearn\n",
    "sklearn.__version__"
   ]
  }
 ],
 "metadata": {
  "kernelspec": {
   "display_name": "Python 3",
   "language": "python",
   "name": "python3"
  },
  "language_info": {
   "codemirror_mode": {
    "name": "ipython",
    "version": 3
   },
   "file_extension": ".py",
   "mimetype": "text/x-python",
   "name": "python",
   "nbconvert_exporter": "python",
   "pygments_lexer": "ipython3",
   "version": "3.8.5"
  },
  "latex_envs": {
   "LaTeX_envs_menu_present": true,
   "autoclose": false,
   "autocomplete": true,
   "bibliofile": "biblio.bib",
   "cite_by": "apalike",
   "current_citInitial": 1,
   "eqLabelWithNumbers": true,
   "eqNumInitial": 1,
   "hotkeys": {
    "equation": "Ctrl-E",
    "itemize": "Ctrl-I"
   },
   "labels_anchors": false,
   "latex_user_defs": false,
   "report_style_numbering": false,
   "user_envs_cfg": false
  },
  "varInspector": {
   "cols": {
    "lenName": 16,
    "lenType": 16,
    "lenVar": 40
   },
   "kernels_config": {
    "python": {
     "delete_cmd_postfix": "",
     "delete_cmd_prefix": "del ",
     "library": "var_list.py",
     "varRefreshCmd": "print(var_dic_list())"
    },
    "r": {
     "delete_cmd_postfix": ") ",
     "delete_cmd_prefix": "rm(",
     "library": "var_list.r",
     "varRefreshCmd": "cat(var_dic_list()) "
    }
   },
   "types_to_exclude": [
    "module",
    "function",
    "builtin_function_or_method",
    "instance",
    "_Feature"
   ],
   "window_display": false
  }
 },
 "nbformat": 4,
 "nbformat_minor": 4
}
